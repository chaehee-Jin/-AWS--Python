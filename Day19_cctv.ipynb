{
 "cells": [
  {
   "attachments": {},
   "cell_type": "markdown",
   "metadata": {},
   "source": [
    "### 전국어린이보호구역표준데이터\n",
    "- 시설종류별 cctv 설치여부 카운트 / 대수\n",
    "- 광역시도별, 시설종류별 카운트\n",
    "- 관할경찰서별 cctv 대수\n",
    "- cctv 평균 설치대수\n",
    "- 도로폭 / cctv 설치대수 상관도\n"
   ]
  },
  {
   "cell_type": "code",
   "execution_count": 9,
   "metadata": {},
   "outputs": [],
   "source": [
    "import numpy as np\n",
    "import pandas as pd\n",
    "import matplotlib.pyplot as plt\n",
    "cp_data= []\n",
    "\n",
    "cp_data= pd.read_csv('전국어린이보호구역표준데이터.csv', encoding ='cp949')"
   ]
  },
  {
   "cell_type": "code",
   "execution_count": 10,
   "metadata": {},
   "outputs": [
    {
     "name": "stdout",
     "output_type": "stream",
     "text": [
      "Index(['시설종류', '대상시설명', '소재지도로명주소', '소재지지번주소', '위도', '경도', '관리기관명', '관할경찰서명',\n",
      "       'CCTV설치여부', 'CCTV설치대수', '보호구역도로폭', '데이터기준일자', '제공기관코드', '제공기관명'],\n",
      "      dtype='object')\n",
      "(0, '시설종류')\n",
      "(1, '대상시설명')\n",
      "(2, '소재지도로명주소')\n",
      "(3, '소재지지번주소')\n",
      "(4, '위도')\n",
      "(5, '경도')\n",
      "(6, '관리기관명')\n",
      "(7, '관할경찰서명')\n",
      "(8, 'CCTV설치여부')\n",
      "(9, 'CCTV설치대수')\n",
      "(10, '보호구역도로폭')\n",
      "(11, '데이터기준일자')\n",
      "(12, '제공기관코드')\n",
      "(13, '제공기관명')\n"
     ]
    }
   ],
   "source": [
    "print(cp_data.columns)\n",
    "for e in enumerate(cp_data.columns):\n",
    "    print(e)"
   ]
  },
  {
   "cell_type": "code",
   "execution_count": 11,
   "metadata": {},
   "outputs": [
    {
     "name": "stdout",
     "output_type": "stream",
     "text": [
      "시설종류         object\n",
      "관리기관명        object\n",
      "관할경찰서명       object\n",
      "CCTV설치여부     object\n",
      "CCTV설치대수    float64\n",
      "보호구역도로폭      object\n",
      "dtype: object\n"
     ]
    }
   ],
   "source": [
    "cp_data.drop(['대상시설명', '소재지도로명주소', '소재지지번주소', '위도', '경도', '데이터기준일자', '제공기관코드','제공기관명'], axis=1, inplace=True)\n",
    "print(cp_data.dtypes)"
   ]
  },
  {
   "cell_type": "code",
   "execution_count": 15,
   "metadata": {},
   "outputs": [
    {
     "name": "stdout",
     "output_type": "stream",
     "text": [
      "[['CCTV설치대수' '11682' '3374']\n",
      " ['보호구역도로폭' '10684' '4372']]\n",
      "         value_count NaN_count\n",
      "CCTV설치대수       11682      3374\n",
      "보호구역도로폭        10684      4372\n"
     ]
    }
   ],
   "source": [
    "t= []\n",
    "for col_name in cp_data.columns:\n",
    "    \n",
    "    if cp_data[col_name].hasnans ==True: #결측치가 있는 것 = 값이 비어있는 것만 가져와\n",
    "        #print(col_name)\n",
    "        cnt_s = cp_data[col_name].isna().value_counts()\n",
    "        cnt = cnt_s.to_numpy()\n",
    "        t.append([col_name, cnt[0], cnt[1]])\n",
    "\n",
    "t = np.array(t)\n",
    "missing_df = pd.DataFrame(t[:, 1:], index= t[:,0],columns=['value_count', 'NaN_count'])\n",
    "#결측치 개수를 카운터를 데이터 프레임화 시킴\n",
    "\n",
    "print(t)\n",
    "print(missing_df)"
   ]
  }
 ],
 "metadata": {
  "kernelspec": {
   "display_name": "Python 3",
   "language": "python",
   "name": "python3"
  },
  "language_info": {
   "codemirror_mode": {
    "name": "ipython",
    "version": 3
   },
   "file_extension": ".py",
   "mimetype": "text/x-python",
   "name": "python",
   "nbconvert_exporter": "python",
   "pygments_lexer": "ipython3",
   "version": "3.10.9"
  },
  "orig_nbformat": 4,
  "vscode": {
   "interpreter": {
    "hash": "08804ff59ba42edf801cabf0150036e830ede650fb4c74b1d2ab081b0e1a309a"
   }
  }
 },
 "nbformat": 4,
 "nbformat_minor": 2
}
