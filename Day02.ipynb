{
 "cells": [
  {
   "cell_type": "code",
   "execution_count": 1,
   "id": "d608d898",
   "metadata": {},
   "outputs": [
    {
     "name": "stdout",
     "output_type": "stream",
     "text": [
      "myfunction\n"
     ]
    }
   ],
   "source": [
    "#함수\n",
    "#define , 정의한다\n",
    "def function_name():\n",
    "    print('myfunction')\n",
    "    \n",
    "function_name()\n",
    "    "
   ]
  },
  {
   "cell_type": "code",
   "execution_count": 9,
   "id": "aa95d89b",
   "metadata": {},
   "outputs": [
    {
     "name": "stdout",
     "output_type": "stream",
     "text": [
      "fn7 start\n",
      "a b\n"
     ]
    }
   ],
   "source": [
    "# function argument , 매개변수 \n",
    "def myfn1():\n",
    "    print('myfn1')\n",
    "    \n",
    "def myfn2(arg1):\n",
    "    print(arg1)\n",
    "    \n",
    "#default 값\n",
    "def myfn3(arg1='a', arg2='b'):\n",
    "    print(arg1, arg2)\n",
    "    \n",
    "def myfn4(*arg1):\n",
    "    for i in arg1:\n",
    "        print(i)\n",
    "    \n",
    "#키워드 알규먼트를 쓰겠다, * 뒤에는 키워드를 반드시 쓰도록 강제하는 방법\n",
    "# 파이썬에는 체킹하는 것이 없어서 이같은 방법을 사용 \n",
    "def myfn5(arg1,*, arg2, arg3):\n",
    "    print(arg1, arg2, arg3)\n",
    "    \n",
    "# 포지션 알규먼트로 강제 \n",
    "def myfn6(arg1, /, arg2, arg3):\n",
    "    print(arg1, arg2, arg3)\n",
    "#함수도 가능 \n",
    "def myfn7(arg1, arg2):\n",
    "    print(arg1)\n",
    "    arg2()\n",
    "    \n",
    "#myfn2('abc')\n",
    "#myfn3(10, 20)\n",
    "#myfn3(arg2=10, arg1= 20)\n",
    "#default 값 \n",
    "#myfn3()\n",
    "#myfn4(1, 2, 3, 4)\n",
    "#myfn2([1, 2, 3, 4])\n",
    "# 키워드로 입력을 해주기 때문에 순서가 바뀌어도 상관없음 \n",
    "#myfn5(arg1='a',arg3='c', arg2='b')\n",
    "#myfn6('a', 'b', 'c')\n",
    "#myfn6(arg1='a', arg2='b', arg3='c')\n",
    "myfn7('fn7 start', myfn3)\n"
   ]
  },
  {
   "cell_type": "code",
   "execution_count": 11,
   "id": "f2d0aac8",
   "metadata": {},
   "outputs": [
    {
     "name": "stdout",
     "output_type": "stream",
     "text": [
      "(10, 20)\n"
     ]
    }
   ],
   "source": [
    "#function return\n",
    "def myfn8():\n",
    "    print('myfn8')\n",
    "    \n",
    "def myfn9():\n",
    "    return 10\n",
    "#투플로 반환\n",
    "def myfn10():\n",
    "    return 10, 20\n",
    "\n",
    "\n",
    "#ret_value = myfn8()\n",
    "#ret_value = myfn9()\n",
    "ret_value = myfn10()\n",
    "print(ret_value)"
   ]
  }
 ],
 "metadata": {
  "kernelspec": {
   "display_name": "Python 3 (ipykernel)",
   "language": "python",
   "name": "python3"
  },
  "language_info": {
   "codemirror_mode": {
    "name": "ipython",
    "version": 3
   },
   "file_extension": ".py",
   "mimetype": "text/x-python",
   "name": "python",
   "nbconvert_exporter": "python",
   "pygments_lexer": "ipython3",
   "version": "3.10.9"
  }
 },
 "nbformat": 4,
 "nbformat_minor": 5
}
