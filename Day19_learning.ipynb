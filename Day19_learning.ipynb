{
 "cells": [
  {
   "attachments": {},
   "cell_type": "markdown",
   "metadata": {},
   "source": [
    "### 전국평생학습강좌표준데이터\n",
    "\n",
    "- drop : 교육시작시간, 교욱종료시간, 강좌내용, 운영기관전화번호\n",
    "- column 별 적절한 dtype 지정 --> astype()이용 (원본값 수정방법, 1: 현재값 업데이트, 2: astype키워드 옵션사용)\n",
    "- (astype의 키워드 옵션 사용방법 --> Documentation 참조)\n",
    "\n",
    "        * 수치값: np.int64 / np.float64\n",
    "\n",
    "        * 종류를 구분하는 문자열(lable): category\n",
    "\n",
    "        * 날짜 :np.datetime64\n",
    "\n",
    "        * 이외: object\n",
    "        \n",
    "- 전체 DataFrame에 대한 describe() 결과보기\n",
    "* (describe 키워드 옵션 --> Documentation 참조)\n",
    "- 항목(column)별 결측치/오류치/이상치 갯수 파악 \n"
   ]
  },
  {
   "cell_type": "code",
   "execution_count": 3,
   "metadata": {},
   "outputs": [],
   "source": [
    "import numpy as np\n",
    "import pandas as pd\n",
    "import matplotlib.pyplot as plt\n",
    "ed_data= []\n",
    "\n",
    "ed_data= pd.read_csv('전국평생학습강좌표준데이터.csv', encoding ='cp949')\n",
    "#print(ed_data.shape)\n",
    "#print(ed_data.dtypes)\n",
    "#print(ed_data.head(3))\n"
   ]
  },
  {
   "cell_type": "code",
   "execution_count": 4,
   "metadata": {},
   "outputs": [
    {
     "name": "stdout",
     "output_type": "stream",
     "text": [
      "Index(['강좌명', '강사명', '교육시작일자', '교육종료일자', '교육시작시각', '교육종료시각', '강좌내용', '교육대상구분',\n",
      "       '교육방법구분', '운영요일', '교육장소', '강좌정원수', '수강료', '교육장도로명주소', '운영기관명',\n",
      "       '운영기관전화번호', '접수시작일자', '접수종료일자', '접수방법구분', '선정방법구분', '홈페이지주소',\n",
      "       '직업능력개발훈련비지원강좌여부', '학점은행제평가(학점)인정여부', '평생학습계좌제평가인정여부', '데이터기준일자',\n",
      "       '제공기관코드', '제공기관명'],\n",
      "      dtype='object')\n",
      "(0, '강좌명')\n",
      "(1, '강사명')\n",
      "(2, '교육시작일자')\n",
      "(3, '교육종료일자')\n",
      "(4, '교육시작시각')\n",
      "(5, '교육종료시각')\n",
      "(6, '강좌내용')\n",
      "(7, '교육대상구분')\n",
      "(8, '교육방법구분')\n",
      "(9, '운영요일')\n",
      "(10, '교육장소')\n",
      "(11, '강좌정원수')\n",
      "(12, '수강료')\n",
      "(13, '교육장도로명주소')\n",
      "(14, '운영기관명')\n",
      "(15, '운영기관전화번호')\n",
      "(16, '접수시작일자')\n",
      "(17, '접수종료일자')\n",
      "(18, '접수방법구분')\n",
      "(19, '선정방법구분')\n",
      "(20, '홈페이지주소')\n",
      "(21, '직업능력개발훈련비지원강좌여부')\n",
      "(22, '학점은행제평가(학점)인정여부')\n",
      "(23, '평생학습계좌제평가인정여부')\n",
      "(24, '데이터기준일자')\n",
      "(25, '제공기관코드')\n",
      "(26, '제공기관명')\n"
     ]
    }
   ],
   "source": [
    "\n",
    "print(ed_data.columns)\n",
    "for e in enumerate(ed_data.columns):\n",
    "    print(e)\n",
    "\n",
    "#ed_data.drop(0, axis=0, inplace=True)\n",
    "\n",
    "#print(ed_data.head())\n",
    "#print(ed_data.columns)"
   ]
  },
  {
   "cell_type": "code",
   "execution_count": 29,
   "metadata": {},
   "outputs": [],
   "source": [
    "#ed_data.drop(['교육시작시각', '교육종료시각', '강좌내용', '운영기관전화번호'], axis=1, inplace=True)\n",
    "#print(ed_data.dtypes)\n",
    "\n"
   ]
  },
  {
   "cell_type": "code",
   "execution_count": 5,
   "metadata": {},
   "outputs": [
    {
     "name": "stdout",
     "output_type": "stream",
     "text": [
      "강좌명                        object\n",
      "강사명                        object\n",
      "교육시작일자             datetime64[ns]\n",
      "교육종료일자             datetime64[ns]\n",
      "교육시작시각                     object\n",
      "교육종료시각                     object\n",
      "강좌내용                       object\n",
      "교육대상구분                   category\n",
      "교육방법구분                   category\n",
      "운영요일                       object\n",
      "교육장소                       object\n",
      "강좌정원수                       int64\n",
      "수강료                         int64\n",
      "교육장도로명주소                   object\n",
      "운영기관명                      object\n",
      "운영기관전화번호                   object\n",
      "접수시작일자             datetime64[ns]\n",
      "접수종료일자             datetime64[ns]\n",
      "접수방법구분                   category\n",
      "선정방법구분                   category\n",
      "홈페이지주소                     object\n",
      "직업능력개발훈련비지원강좌여부          category\n",
      "학점은행제평가(학점)인정여부          category\n",
      "평생학습계좌제평가인정여부            category\n",
      "데이터기준일자            datetime64[ns]\n",
      "제공기관코드                   category\n",
      "제공기관명                      object\n",
      "dtype: object\n"
     ]
    }
   ],
   "source": [
    "for col_name in ed_data.columns:\n",
    "    if '일자' in col_name:\n",
    "        ed_data[col_name] = ed_data[col_name].astype(np.datetime64, copy=False)\n",
    "    elif ('구분' in col_name) or ('여부' in col_name) or ('코드' in col_name):\n",
    "        ed_data[col_name] = ed_data[col_name].astype('category',  copy=False)\n",
    "\n",
    "print(ed_data.dtypes)\n"
   ]
  },
  {
   "cell_type": "code",
   "execution_count": 6,
   "metadata": {},
   "outputs": [
    {
     "name": "stdout",
     "output_type": "stream",
     "text": [
      "       value_count NaN_count\n",
      "교육시작시각       21565      4970\n",
      "교육종료시각       21566      4969\n",
      "운영요일         22007      4528\n",
      "교육장소         23755      2780\n",
      "접수시작일자       21516      5019\n",
      "접수종료일자       21474      5061\n",
      "선정방법구분       22273      4262\n",
      "홈페이지주소       24221      2314\n"
     ]
    }
   ],
   "source": [
    "#ed_data.hasnans\n",
    "t= []\n",
    "for col_name in ed_data.columns:\n",
    "    \n",
    "    if ed_data[col_name].hasnans ==True:\n",
    "        #print(col_name)\n",
    "        cnt_s = ed_data[col_name].isna().value_counts()\n",
    "        cnt = cnt_s.to_numpy() #숫자만 가지고 와짐 \n",
    "        t.append([col_name, cnt[0], cnt[1]])\n",
    "#print(t)\n",
    "t = np.array(t)\n",
    "missing_df = pd.DataFrame(t[:, 1:], index= t[:,0],columns=['value_count', 'NaN_count'])\n",
    "#missing_df.index = missing_df['col_name']\n",
    "print(missing_df)\n",
    "\n",
    "#ed_data['제공기관명'].hasnans #결과: 결측치가 없음\n",
    "#ed_data['제공기관명'].isna().value_counts()"
   ]
  },
  {
   "cell_type": "code",
   "execution_count": 7,
   "metadata": {},
   "outputs": [
    {
     "data": {
      "text/plain": [
       "목          2556\n",
       "화          2524\n",
       "수          2434\n",
       "월          1937\n",
       "금          1851\n",
       "           ... \n",
       "월+화+토         1\n",
       "수요일+일요일       1\n",
       "월요일+일요일       1\n",
       "격주토요일         1\n",
       "월 +수 +금       1\n",
       "Name: 운영요일, Length: 218, dtype: int64"
      ]
     },
     "execution_count": 7,
     "metadata": {},
     "output_type": "execute_result"
    }
   ],
   "source": [
    "#f1 = ed_data['운영요일'].isna()\n",
    "#ed_data['운영요일'][f1]\n",
    "ed_data['운영요일'].value_counts()\n",
    "\n",
    "#운영요일별 카운트시 운영요일을 특정할수 없으므로, 삭제조치 하도록함 "
   ]
  },
  {
   "cell_type": "code",
   "execution_count": 12,
   "metadata": {},
   "outputs": [
    {
     "name": "stdout",
     "output_type": "stream",
     "text": [
      "오프라인             1804\n",
      "온라인               951\n",
      "방문교육               19\n",
      "혼합                  4\n",
      "온라인+모바일             2\n",
      "오프라인+모바일+우편통신       0\n",
      "오프라인+방문교육           0\n",
      "오프라인+온라인            0\n",
      "온라인+오프라인            0\n",
      "Name: 교육방법구분, dtype: int64\n"
     ]
    }
   ],
   "source": [
    "#ed_data['교육장소'].value_counts()\n",
    "\n",
    "#'교육방법이 구분'이 '온라인'으로 되어있을 경우, '온라인'으로 결치를 대체\n",
    "#그렇지 않을 경우 삭제\n",
    "\n",
    "\n",
    "ed_data['교육방법구분'].value_counts()\n",
    "filter1 = ed_data['교육장소'].isna()\n",
    "\n",
    "print(ed_data['교육방법구분'][filter1].value_counts())\n",
    "\n",
    "filter2 = ed_data['교육방법구분'] == '온라인'\n",
    "ed_data['교육장소'][filter2] = '온라인'\n",
    "\n",
    "ed_data['교육장소'].isna().value_counts()\n",
    "\n",
    "\n"
   ]
  },
  {
   "cell_type": "code",
   "execution_count": 14,
   "metadata": {},
   "outputs": [],
   "source": [
    "for i in range(ed_data.shape[0]):\n",
    "    row = ed_data.iloc[i,:]\n",
    "    if (row['교육장소'] ==np.NaN) and (row['교육방법구분']== '온라인'):\n",
    "        row['교육장소']='온라인'\n",
    "    "
   ]
  },
  {
   "cell_type": "code",
   "execution_count": null,
   "metadata": {},
   "outputs": [],
   "source": [
    "# 접수시작/ 종료일자 결측치\n",
    "#'교욱방법구분'이 '온라인'일경우 1월 1일부터 12월 31일까지의 값으로 대체\n",
    "# 그렇지 않을 경우 , 삭제"
   ]
  },
  {
   "cell_type": "code",
   "execution_count": 9,
   "metadata": {},
   "outputs": [
    {
     "data": {
      "text/plain": [
       "선착순         16861\n",
       "추첨           1219\n",
       "제한없음          516\n",
       "추첨+선착순        451\n",
       "인터넷 추첨        392\n",
       "            ...  \n",
       "방문접수후 면접        1\n",
       "방문심사            1\n",
       "읍면 추천           1\n",
       "군부대별 선정         1\n",
       "자체심사            1\n",
       "Name: 선정방법구분, Length: 72, dtype: int64"
      ]
     },
     "execution_count": 9,
     "metadata": {},
     "output_type": "execute_result"
    }
   ],
   "source": [
    "\n",
    "\n",
    "ed_data['선정방법구분'].value_counts()\n",
    "#결측치, 삭제\n"
   ]
  }
 ],
 "metadata": {
  "kernelspec": {
   "display_name": "Python 3",
   "language": "python",
   "name": "python3"
  },
  "language_info": {
   "codemirror_mode": {
    "name": "ipython",
    "version": 3
   },
   "file_extension": ".py",
   "mimetype": "text/x-python",
   "name": "python",
   "nbconvert_exporter": "python",
   "pygments_lexer": "ipython3",
   "version": "3.10.9"
  },
  "orig_nbformat": 4,
  "vscode": {
   "interpreter": {
    "hash": "08804ff59ba42edf801cabf0150036e830ede650fb4c74b1d2ab081b0e1a309a"
   }
  }
 },
 "nbformat": 4,
 "nbformat_minor": 2
}
