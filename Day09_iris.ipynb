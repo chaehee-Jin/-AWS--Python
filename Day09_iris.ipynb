{
 "cells": [
  {
   "cell_type": "code",
   "execution_count": null,
   "metadata": {},
   "outputs": [],
   "source": [
    "import requests\n",
    "import numpy as np\n",
    "\n",
    "x = requests.get(\"https://archive.ics.uci.edu/ml/machine-learning-databases/iris/iris.data\")"
   ]
  },
  {
   "cell_type": "code",
   "execution_count": 59,
   "metadata": {},
   "outputs": [],
   "source": [
    "raw_data =[]\n",
    "for line in x.text.split('\\n'):\n",
    "    raw_data.append(line.split(','))\n",
    "\n",
    "for sample in raw_data:\n",
    "    if len(sample)< 1:\n",
    "        continue\n",
    "    for i, value in enumerate(sample[:4]):\n",
    "        try:\n",
    "            sample[i] = float(value)\n",
    "        except:\n",
    "            sample[i] =0.0"
   ]
  },
  {
   "cell_type": "code",
   "execution_count": 60,
   "metadata": {},
   "outputs": [
    {
     "name": "stdout",
     "output_type": "stream",
     "text": [
      "[[5.1, 3.5, 1.4, 0.2, 'Iris-setosa'], [4.9, 3.0, 1.4, 0.2, 'Iris-setosa'], [4.7, 3.2, 1.3, 0.2, 'Iris-setosa']]\n"
     ]
    }
   ],
   "source": [
    "print(raw_data[:3])"
   ]
  },
  {
   "attachments": {},
   "cell_type": "markdown",
   "metadata": {},
   "source": [
    "##문자열 -> 숫자\n",
    "\n",
    "*iris Setosa ->0\n",
    "\n",
    "*iris Versicolour ->1\n",
    "\n",
    "*iris Viginica ->2"
   ]
  },
  {
   "cell_type": "code",
   "execution_count": 61,
   "metadata": {},
   "outputs": [],
   "source": [
    "for sample in raw_data:\n",
    "    if len(sample)<2:\n",
    "        continue\n",
    "    if 'setosa' in sample[-1]:\n",
    "        sample[-1] = 0.0\n",
    "    elif 'versicolor' in sample[-1]:\n",
    "        sample[-1] = 1.0\n",
    "    elif 'virginica' in sample[-1]:\n",
    "        sample[-1]= 2.0"
   ]
  },
  {
   "cell_type": "code",
   "execution_count": 62,
   "metadata": {},
   "outputs": [
    {
     "name": "stdout",
     "output_type": "stream",
     "text": [
      "[5.1, 3.5, 1.4, 0.2, 0.0]\n",
      "[6.4, 3.2, 4.5, 1.5, 1.0]\n",
      "[5.8, 2.7, 5.1, 1.9, 2.0]\n"
     ]
    }
   ],
   "source": [
    "print(raw_data[0])\n",
    "print(raw_data[51])\n",
    "print(raw_data[101])"
   ]
  },
  {
   "cell_type": "code",
   "execution_count": 63,
   "metadata": {},
   "outputs": [
    {
     "name": "stdout",
     "output_type": "stream",
     "text": [
      "[[5.9, 3.0, 5.1, 1.8, 2.0], [0.0], [0.0]]\n",
      "152\n"
     ]
    }
   ],
   "source": [
    "print(raw_data[-3:])\n",
    "print(len(raw_data))\n",
    "raw_data = raw_data[:150]"
   ]
  },
  {
   "cell_type": "code",
   "execution_count": 64,
   "metadata": {},
   "outputs": [
    {
     "name": "stdout",
     "output_type": "stream",
     "text": [
      "150\n"
     ]
    }
   ],
   "source": [
    "print(len(raw_data))"
   ]
  },
  {
   "cell_type": "code",
   "execution_count": 65,
   "metadata": {},
   "outputs": [
    {
     "data": {
      "text/plain": [
       "array([[5.1, 3.5, 1.4, 0.2, 0. ],\n",
       "       [4.9, 3. , 1.4, 0.2, 0. ],\n",
       "       [4.7, 3.2, 1.3, 0.2, 0. ]])"
      ]
     },
     "execution_count": 65,
     "metadata": {},
     "output_type": "execute_result"
    }
   ],
   "source": [
    "np.data = np.array(raw_data)\n",
    "np.data.shape\n",
    "np.data[:3]"
   ]
  },
  {
   "attachments": {},
   "cell_type": "markdown",
   "metadata": {},
   "source": [
    "### 기본 통계값\n",
    "\n",
    "* 전체(150샘플)평균, 표준편차 - sepal, length, sepal width, patal length, petal width\n",
    "\n",
    "* 품종별(50개씩) 평균, 표준편차\n",
    "\n",
    "* 평균 np.mean()\n",
    "\n",
    "* 표준편차 np.std()\n"
   ]
  },
  {
   "cell_type": "code",
   "execution_count": 83,
   "metadata": {},
   "outputs": [
    {
     "name": "stdout",
     "output_type": "stream",
     "text": [
      "[5.84333333 3.054      3.75866667 1.19866667 1.        ]\n",
      "[0.82530129 0.43214658 1.75852918 0.76061262 0.81649658]\n",
      "[[ 1.         -0.10936925  0.87175416  0.81795363  0.78256123]\n",
      " [-0.10936925  1.         -0.4205161  -0.35654409 -0.4194462 ]\n",
      " [ 0.87175416 -0.4205161   1.          0.9627571   0.94904254]\n",
      " [ 0.81795363 -0.35654409  0.9627571   1.          0.95646382]\n",
      " [ 0.78256123 -0.4194462   0.94904254  0.95646382  1.        ]]\n"
     ]
    }
   ],
   "source": [
    "#print(np.data[:3]) \n",
    "print(np.mean(np.data, axis=0))\n",
    "print(np.std(np.data, axis=0))\n",
    "print(np.corrcoef(np.data.T)) #상관도 / 품종하고 상관도가 높은것 \n"
   ]
  },
  {
   "cell_type": "code",
   "execution_count": 86,
   "metadata": {},
   "outputs": [
    {
     "name": "stdout",
     "output_type": "stream",
     "text": [
      "[nan nan nan nan nan]\n",
      "[nan nan nan nan nan]\n",
      "[5.84333333 3.054      3.75866667 1.19866667 1.        ]\n",
      "[0.82530129 0.43214658 1.75852918 0.76061262 0.        ]\n"
     ]
    },
    {
     "name": "stderr",
     "output_type": "stream",
     "text": [
      "c:\\Users\\ITPS\\AppData\\Local\\Programs\\Python\\Python310\\lib\\site-packages\\numpy\\core\\fromnumeric.py:3464: RuntimeWarning: Mean of empty slice.\n",
      "  return _methods._mean(a, axis=axis, dtype=dtype,\n",
      "c:\\Users\\ITPS\\AppData\\Local\\Programs\\Python\\Python310\\lib\\site-packages\\numpy\\core\\_methods.py:184: RuntimeWarning: invalid value encountered in divide\n",
      "  ret = um.true_divide(\n",
      "c:\\Users\\ITPS\\AppData\\Local\\Programs\\Python\\Python310\\lib\\site-packages\\numpy\\core\\_methods.py:269: RuntimeWarning: Degrees of freedom <= 0 for slice\n",
      "  ret = _var(a, axis=axis, dtype=dtype, out=out, ddof=ddof,\n",
      "c:\\Users\\ITPS\\AppData\\Local\\Programs\\Python\\Python310\\lib\\site-packages\\numpy\\core\\_methods.py:226: RuntimeWarning: invalid value encountered in divide\n",
      "  arrmean = um.true_divide(arrmean, div, out=arrmean,\n",
      "c:\\Users\\ITPS\\AppData\\Local\\Programs\\Python\\Python310\\lib\\site-packages\\numpy\\core\\_methods.py:258: RuntimeWarning: invalid value encountered in divide\n",
      "  ret = um.true_divide(\n"
     ]
    }
   ],
   "source": [
    "filter_setosa = np.data[:, -1]==0.0\n",
    "filter_versicolor = np.data[:, -1] == 1.0\n",
    "filter_virginica = np.data[:, -1]==2.0\n",
    "\n",
    "print(np.mean(np.data[filter_setosa], axis=0))\n",
    "print(np.std(np.data[filter_setosa], axis=0))\n",
    "\n",
    "print(np.mean(np.data[filter_versicolor],axis=0))\n",
    "print(np.std(np.data[filter_versicolor], axis=0))"
   ]
  }
 ],
 "metadata": {
  "kernelspec": {
   "display_name": "Python 3",
   "language": "python",
   "name": "python3"
  },
  "language_info": {
   "codemirror_mode": {
    "name": "ipython",
    "version": 3
   },
   "file_extension": ".py",
   "mimetype": "text/x-python",
   "name": "python",
   "nbconvert_exporter": "python",
   "pygments_lexer": "ipython3",
   "version": "3.10.9"
  },
  "orig_nbformat": 4,
  "vscode": {
   "interpreter": {
    "hash": "08804ff59ba42edf801cabf0150036e830ede650fb4c74b1d2ab081b0e1a309a"
   }
  }
 },
 "nbformat": 4,
 "nbformat_minor": 2
}
