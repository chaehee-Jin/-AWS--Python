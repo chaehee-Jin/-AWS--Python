{
 "cells": [
  {
   "attachments": {},
   "cell_type": "markdown",
   "metadata": {},
   "source": [
    "###전복\n",
    "\n",
    "1. [함수] requests 패키지를 이용해 데이터를 가져와서 ndarray로 변환 \n",
    "2. [함수] ndarray로 변환\n",
    "3. 성별이 'M'인 데이터를 필터, Length 와 Diameter간 상관도를 반환 \n",
    "4. __name__ 값이 __main__이면, 1,2 함수를 실행, 2번 함수의 반환값을 프린트 \n",
    "\n",
    "data url: https://archive.ics.uci.edu/ml/machine-learning-databases/abalone/\n",
    "\n",
    "\n",
    "\n"
   ]
  },
  {
   "cell_type": "code",
   "execution_count": 3,
   "metadata": {},
   "outputs": [],
   "source": [
    "import numpy as np\n",
    "import math\n",
    "import matplotlib.pyplot as plt\n",
    "\n",
    "def my_split(s):\n",
    "    block_start = False\n",
    "    start_index = 0\n",
    "    ret_list=[]\n",
    "    for i, c in enumerate(s):\n",
    "        if block_start==False:\n",
    "            if c==',':\n",
    "                ret_list.append(s[start_index:i])\n",
    "                start_index=i+1\n",
    "            elif c=='\"':\n",
    "                block_start=True\n",
    "                start_index = i\n",
    "        else:\n",
    "            if c=='\"':\n",
    "                block_start=False\n",
    "    if s[-1]!=',':\n",
    "        ret_list.append(s[start_index:])\n",
    "    return ret_list\n",
    "    \n",
    "def split_len(data_list):\n",
    "    len_list = []\n",
    "    for e in data_list:\n",
    "        len_list.append(len(e))\n",
    "    print(set(len_list))\n",
    "    if len (set(len_list))>1:\n",
    "        for i in set(len_list):\n",
    "            print(i, len_list.count(i))\n",
    "    return set(len_list)"
   ]
  },
  {
   "cell_type": "code",
   "execution_count": 9,
   "metadata": {},
   "outputs": [
    {
     "name": "stdout",
     "output_type": "stream",
     "text": [
      "(0, 'M')\n",
      "(1, '0.455')\n",
      "(2, '0.365')\n",
      "(3, '0.095')\n",
      "(4, '0.514')\n",
      "(5, '0.2245')\n",
      "(6, '0.101')\n",
      "(7, '0.15')\n",
      "(8, '15')\n"
     ]
    }
   ],
   "source": [
    "csv_data = []\n",
    "with open ('abalone.data') as f:\n",
    "    for line in f:\n",
    "        csv_data.append(my_split(line[:-1]))\n",
    "\n",
    "#print(csv_data[:3])\n",
    "#split_len(csv_data)\n",
    "\n",
    "for e in enumerate(csv_data[0]):\n",
    "    print(e)\n",
    "    \n",
    "np_data = np.array(csv_data)\n",
    "\n",
    "# 0번 - 성별(sex)\n",
    "# 1번 - 길이(length)\n",
    "# 2번 - Diameter (직경)\n",
    "# 3번 - Height(높이)\n",
    "# 4번 - Whole weight(전체 중량)\n",
    "# 5번 - Shucked weight(껍질 벗긴중량)\n",
    "# 6번 - Viscera weight(내장 무게)\n",
    "# 7번 - Shell weight (껍질 무게)\n",
    "# 8번 - Rings (나이)"
   ]
  },
  {
   "cell_type": "code",
   "execution_count": 30,
   "metadata": {},
   "outputs": [],
   "source": [
    "import requests\n",
    "import numpy as np\n"
   ]
  },
  {
   "cell_type": "code",
   "execution_count": 31,
   "metadata": {},
   "outputs": [],
   "source": [
    "def fetch_uci_data(url):\n",
    "    d = requests.get(url)\n",
    "    t = []\n",
    "    for line in d.text.split('\\n'):\n",
    "        if len(line)!=0:\n",
    "            t.append(line.split(','))\n",
    "\n",
    "    #len_check = set()\n",
    "    #for e in t:\n",
    "    #    if(len(e)==1):\n",
    "    #        print(e)\n",
    "    #    len_check.add(len(e))\n",
    "    #print(len_check)\n",
    "    #return t\n",
    "\n",
    "    return np.array(t)\n",
    "\n",
    "def get_corr(d):\n",
    "    male_filter = (d[:, 0] =='M')\n",
    "    male_samples = d[male_filter]\n",
    "    male_lengh = male_samples[:, 1].astype(np.float64)\n",
    "    male_diameter = male_samples[:, 2].astype(np.float64)\n",
    "    return np.corrcoef(male_lengh, male_diameter)\n"
   ]
  },
  {
   "cell_type": "code",
   "execution_count": 32,
   "metadata": {},
   "outputs": [
    {
     "name": "stdout",
     "output_type": "stream",
     "text": [
      "0.9819071375281404\n"
     ]
    }
   ],
   "source": [
    "url= 'https://archive.ics.uci.edu/ml/machine-learning-databases/abalone/abalone.data'\n",
    "\n",
    "if __name__ == '__main__':\n",
    "    np_data = fetch_uci_data(url)\n",
    "    corr_value = get_corr(np_data)\n",
    "    print(corr_value[0,1])\n"
   ]
  },
  {
   "cell_type": "code",
   "execution_count": 34,
   "metadata": {},
   "outputs": [
    {
     "name": "stdout",
     "output_type": "stream",
     "text": [
      "[['M' '0.455' '0.365' '0.095' '0.514' '0.2245' '0.101' '0.15' '15']\n",
      " ['M' '0.35' '0.265' '0.09' '0.2255' '0.0995' '0.0485' '0.07' '7']\n",
      " ['F' '0.53' '0.42' '0.135' '0.677' '0.2565' '0.1415' '0.21' '9']]\n"
     ]
    }
   ],
   "source": [
    "print(np_data[:3])"
   ]
  },
  {
   "cell_type": "code",
   "execution_count": 39,
   "metadata": {},
   "outputs": [],
   "source": [
    "import sqlite3\n",
    "\n",
    "con = sqlite3.connect(\"test3.db\")\n",
    "cur = con.cursor()\n",
    "cur.execute(\"CREATE TABLE abalone(length real, diameter real)\") #반환값이 없음 \n",
    "cur.execute(\"INSERT INTO abalone(length, diameter)values(10.0, 20.0)\")\n",
    "con.commit() #데이터 베이스 시스템은 디스크에 데이터를 저장 , 디스크에 확실하게 쓰고 클로즈\n",
    "con.close()"
   ]
  },
  {
   "cell_type": "code",
   "execution_count": 40,
   "metadata": {},
   "outputs": [
    {
     "name": "stdout",
     "output_type": "stream",
     "text": [
      "[(10.0, 20.0)]\n"
     ]
    }
   ],
   "source": [
    "con = sqlite3.connect(\"test3.db\") #파일열기\n",
    "cur = con.cursor() #커서\n",
    "res = cur.execute(\"SELECT * from abalone\") #res는 줄임말 데이터베이스의 투플형식으로 묶어서 돌린다, 내가 얻고자하는 데이터를 얻으면 클로즈\n",
    "print(res.fetchall())"
   ]
  }
 ],
 "metadata": {
  "kernelspec": {
   "display_name": "Python 3",
   "language": "python",
   "name": "python3"
  },
  "language_info": {
   "codemirror_mode": {
    "name": "ipython",
    "version": 3
   },
   "file_extension": ".py",
   "mimetype": "text/x-python",
   "name": "python",
   "nbconvert_exporter": "python",
   "pygments_lexer": "ipython3",
   "version": "3.10.9"
  },
  "orig_nbformat": 4,
  "vscode": {
   "interpreter": {
    "hash": "08804ff59ba42edf801cabf0150036e830ede650fb4c74b1d2ab081b0e1a309a"
   }
  }
 },
 "nbformat": 4,
 "nbformat_minor": 2
}
