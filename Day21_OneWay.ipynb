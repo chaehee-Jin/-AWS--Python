{
 "cells": [
  {
   "attachments": {},
   "cell_type": "markdown",
   "metadata": {},
   "source": [
    "### 전국일방통행표준데이터\n",
    "- 데이터 전처리과정\n",
    "시도명, 지정사유, 지정연도, 도로폭, 도로차로수, 보차분리여부\n",
    "\n",
    "- 결측치 처리 (column 개별기준)\n",
    "- 오류치 처리 (unit의 차이)\n",
    "- 이상치 처리 (iqr 사용)\n",
    "- 전처리 내용 정리"
   ]
  },
  {
   "cell_type": "code",
   "execution_count": 24,
   "metadata": {},
   "outputs": [],
   "source": [
    "import numpy as np\n",
    "import pandas as pd\n",
    "import matplotlib.pyplot as plt\n",
    "rd_data= []\n",
    "\n",
    "rd_rowdata= pd.read_csv('전국일방통행도로표준데이터.csv', encoding ='cp949')\n",
    "column_selection = ['시도명', '지정사유', '지정연도', '도로폭', '도로차로수', '보차분리여부']\n",
    "rd_data = rd_rowdata[column_selection]\n"
   ]
  },
  {
   "cell_type": "code",
   "execution_count": 25,
   "metadata": {},
   "outputs": [
    {
     "name": "stdout",
     "output_type": "stream",
     "text": [
      "Index(['시도명', '시군구명', '도로명', '지정사유', '지정연도', '도로폭', '도로연장', '도로차로수', '보차분리여부',\n",
      "       '시작점위도', '시작점경도', '종료점위도', '종료점경도', '도로안내표지일련번호', '관리기관명', '관리기관전화번호',\n",
      "       '데이터기준일자', '제공기관코드', '제공기관명'],\n",
      "      dtype='object')\n",
      "시도명 /t False\n",
      "지정사유 /t True\n",
      "지정연도 /t True\n",
      "도로폭 /t False\n",
      "도로차로수 /t True\n",
      "보차분리여부 /t False\n"
     ]
    }
   ],
   "source": [
    "print(rd_rowdata.columns)\n",
    "for e in rd_data: \n",
    "    print(e, '/t', rd_data[e].hasnans)"
   ]
  },
  {
   "cell_type": "code",
   "execution_count": 26,
   "metadata": {},
   "outputs": [
    {
     "name": "stdout",
     "output_type": "stream",
     "text": [
      "<bound method Series.unique of 0         경기도\n",
      "1         경기도\n",
      "2         경기도\n",
      "3         경기도\n",
      "4         경기도\n",
      "        ...  \n",
      "2154      경기도\n",
      "2155      경기도\n",
      "2156      경기도\n",
      "2157      경기도\n",
      "2158    서울특별시\n",
      "Name: 시도명, Length: 2159, dtype: object>\n",
      "False\n",
      "<bound method Series.unique of 0         경기도\n",
      "1         경기도\n",
      "2         경기도\n",
      "3         경기도\n",
      "4         경기도\n",
      "        ...  \n",
      "2154      경기도\n",
      "2155      경기도\n",
      "2156      경기도\n",
      "2157      경기도\n",
      "2158    서울특별시\n",
      "Name: 시도명, Length: 2159, dtype: object>\n",
      "False\n"
     ]
    }
   ],
   "source": [
    "#시도명\n",
    "\n",
    "print(rd_data['시도명'].unique)\n",
    "print(rd_data['시도명'].hasnans)\n",
    "#결측치 없음\n",
    "#오류치 : 10 ->'강원도'\n",
    "#print(rd_data[rd_rowdata['시도명']=='10'])\n",
    "filter1 = rd_data['시도명'] =='10'\n",
    "#rd_data[filter1]['시도명'] = '강원도'   warning\n",
    "rd_data.loc[filter1, '시도명'] = '강원도'\n",
    "\n",
    "#이상치 : 없음\n",
    "print(rd_data['시도명'].unique)\n",
    "print(rd_data['시도명'].hasnans)"
   ]
  },
  {
   "cell_type": "code",
   "execution_count": 27,
   "metadata": {},
   "outputs": [
    {
     "name": "stdout",
     "output_type": "stream",
     "text": [
      "<bound method Series.unique of 0        NaN\n",
      "1        NaN\n",
      "2        NaN\n",
      "3        NaN\n",
      "4        NaN\n",
      "        ... \n",
      "2154    통행원활\n",
      "2155    통행원활\n",
      "2156    통행원활\n",
      "2157    통행원활\n",
      "2158     NaN\n",
      "Name: 지정사유, Length: 2159, dtype: object>\n",
      "True\n",
      "<bound method IndexOpsMixin.value_counts of 0        True\n",
      "1        True\n",
      "2        True\n",
      "3        True\n",
      "4        True\n",
      "        ...  \n",
      "2154    False\n",
      "2155    False\n",
      "2156    False\n",
      "2157    False\n",
      "2158     True\n",
      "Name: 지정사유, Length: 2159, dtype: bool>\n",
      "<bound method Series.unique of 0       불분명\n",
      "1       불분명\n",
      "2       불분명\n",
      "3       불분명\n",
      "4       불분명\n",
      "       ... \n",
      "2154     원활\n",
      "2155     원활\n",
      "2156     원활\n",
      "2157     원활\n",
      "2158    불분명\n",
      "Name: 지정사유, Length: 2159, dtype: object>\n",
      "False\n"
     ]
    },
    {
     "name": "stderr",
     "output_type": "stream",
     "text": [
      "C:\\Users\\ITPS\\AppData\\Local\\Temp\\ipykernel_11632\\2259414818.py:22: SettingWithCopyWarning: \n",
      "A value is trying to be set on a copy of a slice from a DataFrame.\n",
      "Try using .loc[row_indexer,col_indexer] = value instead\n",
      "\n",
      "See the caveats in the documentation: https://pandas.pydata.org/pandas-docs/stable/user_guide/indexing.html#returning-a-view-versus-a-copy\n",
      "  rd_data.loc[:, '지정사유'] = rd_data.loc[:, '지정사유'].apply(e1)\n"
     ]
    }
   ],
   "source": [
    "#지정사유\n",
    "print(rd_data['지정사유'].unique)\n",
    "print(rd_data['지정사유'].hasnans)\n",
    "\n",
    "#결측치\n",
    "na_filter = rd_data['지정사유'].isna()\n",
    "print(na_filter.value_counts)\n",
    "rd_data.loc[na_filter, '지정사유'] = '불분명'  #rd_data ['지정사유'] .filter('불분명')\n",
    "\n",
    "#오류치 : 같은 내용 다름이름 정리\n",
    "def e1(x):\n",
    "    if '원활' in x:\n",
    "        return '원활'\n",
    "    elif '불편'in x:\n",
    "        return '불편'\n",
    "    elif '안전' in x:\n",
    "        return '안전'\n",
    "    elif '혼잡'  in x:\n",
    "        return '혼잡'\n",
    "    else:\n",
    "        return x\n",
    "rd_data.loc[:, '지정사유'] = rd_data.loc[:, '지정사유'].apply(e1)\n",
    "\n",
    "#이상치: 없음\n",
    "print(rd_data['지정사유'].unique)\n",
    "print(rd_data['지정사유'].hasnans)"
   ]
  },
  {
   "cell_type": "code",
   "execution_count": 28,
   "metadata": {},
   "outputs": [
    {
     "name": "stdout",
     "output_type": "stream",
     "text": [
      "<bound method Series.unique of 0      NaN\n",
      "1      NaN\n",
      "2      NaN\n",
      "3      NaN\n",
      "4      NaN\n",
      "        ..\n",
      "2154   NaN\n",
      "2155   NaN\n",
      "2156   NaN\n",
      "2157   NaN\n",
      "2158   NaN\n",
      "Name: 지정연도, Length: 2159, dtype: float64>\n",
      "True\n",
      "True     1609\n",
      "False     550\n",
      "Name: 지정연도, dtype: int64\n"
     ]
    }
   ],
   "source": [
    "#지정연도\n",
    "print(rd_data['지정연도'].unique)\n",
    "print(rd_data['지정연도'].hasnans)\n",
    "\n",
    "#결측치 np.NaN -> 0\n",
    "na_filter = rd_data['지정연도'].isna()\n",
    "print(na_filter.value_counts())\n",
    "rd_data.loc[na_filter, '지정연도'] = 0\n",
    "\n",
    "#오류치, 이상치: 이상없음 \n",
    "\n"
   ]
  },
  {
   "cell_type": "code",
   "execution_count": 29,
   "metadata": {},
   "outputs": [
    {
     "name": "stdout",
     "output_type": "stream",
     "text": [
      "<bound method Series.unique of 0       5.0\n",
      "1       5.0\n",
      "2       9.0\n",
      "3       4.0\n",
      "4       4.0\n",
      "       ... \n",
      "2154    6.0\n",
      "2155    6.0\n",
      "2156    6.0\n",
      "2157    6.0\n",
      "2158    9.5\n",
      "Name: 도로폭, Length: 2159, dtype: float64>\n",
      "False\n",
      "-0.5 11.5\n",
      "False    2104\n",
      "True       55\n",
      "Name: 도로폭, dtype: int64\n"
     ]
    }
   ],
   "source": [
    "#도로폭\n",
    "print(rd_data['도로폭'].unique)\n",
    "print(rd_data['도로폭'].hasnans)\n",
    "\n",
    "#결측치, 오류치: 없음\n",
    "#이상치: upper 보다 큰값을 np.NaN으로 교체, 후에 dropna() 이용 샘플 삭제\n",
    "#print(rd_data['도로폭'].describe())\n",
    "q1, q3= rd_data['도로폭'].quantile([0.25, 0.75])\n",
    "iqr = q3 -q1\n",
    "upper = q3 + 1.5*iqr\n",
    "lower = q1 - 1.5*iqr\n",
    "print(lower, upper)\n",
    "filter1 = rd_data['도로폭']> upper\n",
    "print(filter1.value_counts())\n",
    "rd_data.loc[filter1, '도로폭'] = np.NaN"
   ]
  },
  {
   "cell_type": "code",
   "execution_count": 30,
   "metadata": {},
   "outputs": [
    {
     "name": "stdout",
     "output_type": "stream",
     "text": [
      "<bound method Series.unique of 0       1.0\n",
      "1       1.0\n",
      "2       1.0\n",
      "3       1.0\n",
      "4       1.0\n",
      "       ... \n",
      "2154    1.0\n",
      "2155    1.0\n",
      "2156    1.0\n",
      "2157    1.0\n",
      "2158    1.0\n",
      "Name: 도로차로수, Length: 2159, dtype: float64>\n",
      "True\n",
      "False    2158\n",
      "True        1\n",
      "Name: 도로차로수, dtype: int64\n",
      "False    2158\n",
      "True        1\n",
      "Name: 도로차로수, dtype: int64\n",
      "<bound method Series.unique of 0       1.0\n",
      "1       1.0\n",
      "2       1.0\n",
      "3       1.0\n",
      "4       1.0\n",
      "       ... \n",
      "2154    1.0\n",
      "2155    1.0\n",
      "2156    1.0\n",
      "2157    1.0\n",
      "2158    1.0\n",
      "Name: 도로차로수, Length: 2159, dtype: float64>\n",
      "True\n"
     ]
    }
   ],
   "source": [
    "#도로차로수\n",
    "print(rd_data['도로차로수'].unique)\n",
    "print(rd_data['도로차로수'].hasnans)\n",
    "\n",
    "#결측치:  1개 샘플, 후에 dropna()을 이용 제거\n",
    "na_filter = rd_data['도로차로수'].isna()\n",
    "print(na_filter.value_counts())\n",
    "\n",
    "#오류치: 60  -> np.NaN 대체, 후에 dropna()이용 제거\n",
    "filter1 = rd_data['도로차로수'] == 60\n",
    "print(filter1.value_counts())\n",
    "rd_data.loc[filter1, '도로차로수'] = np.NaN\n",
    "\n",
    "#이상치\n",
    "print(rd_data['도로차로수'].unique)\n",
    "print(rd_data['도로차로수'].hasnans)\n",
    "\n",
    "\n",
    "\n",
    "\n"
   ]
  },
  {
   "cell_type": "code",
   "execution_count": 31,
   "metadata": {},
   "outputs": [
    {
     "name": "stdout",
     "output_type": "stream",
     "text": [
      "<bound method Series.unique of 0       Y\n",
      "1       Y\n",
      "2       Y\n",
      "3       Y\n",
      "4       Y\n",
      "       ..\n",
      "2154    N\n",
      "2155    N\n",
      "2156    N\n",
      "2157    N\n",
      "2158    N\n",
      "Name: 보차분리여부, Length: 2159, dtype: object>\n",
      "False\n",
      "False    2158\n",
      "True        1\n",
      "Name: 보차분리여부, dtype: int64\n",
      "<bound method Series.unique of 0       Y\n",
      "1       Y\n",
      "2       Y\n",
      "3       Y\n",
      "4       Y\n",
      "       ..\n",
      "2154    N\n",
      "2155    N\n",
      "2156    N\n",
      "2157    N\n",
      "2158    N\n",
      "Name: 보차분리여부, Length: 2159, dtype: object>\n",
      "True\n"
     ]
    }
   ],
   "source": [
    "#보차분리여부\n",
    "print(rd_data['보차분리여부'].unique)\n",
    "print(rd_data['보차분리여부'].hasnans)\n",
    "\n",
    "#결측치: 1개 ' 결측치 -> np.NaN으로 대체, 후에 dropna()이용 삭제\n",
    "na_filter = rd_data['보차분리여부'] ==' '\n",
    "print(na_filter.value_counts())\n",
    "rd_data.loc[na_filter, '보차분리여부'] = np.NaN\n",
    "\n",
    "#오류치, 이상치 없음\n",
    "print(rd_data['보차분리여부'].unique)\n",
    "print(rd_data['보차분리여부'].hasnans)\n",
    "\n"
   ]
  },
  {
   "cell_type": "code",
   "execution_count": 32,
   "metadata": {},
   "outputs": [
    {
     "name": "stdout",
     "output_type": "stream",
     "text": [
      "(2103, 6)\n",
      "(2159, 6)\n"
     ]
    }
   ],
   "source": [
    "rd_data_f = rd_data.dropna()\n",
    "\n",
    "print(rd_data.shape)\n",
    "print(rd_data_f.shape)"
   ]
  }
 ],
 "metadata": {
  "kernelspec": {
   "display_name": "Python 3",
   "language": "python",
   "name": "python3"
  },
  "language_info": {
   "codemirror_mode": {
    "name": "ipython",
    "version": 3
   },
   "file_extension": ".py",
   "mimetype": "text/x-python",
   "name": "python",
   "nbconvert_exporter": "python",
   "pygments_lexer": "ipython3",
   "version": "3.10.9"
  },
  "orig_nbformat": 4,
  "vscode": {
   "interpreter": {
    "hash": "08804ff59ba42edf801cabf0150036e830ede650fb4c74b1d2ab081b0e1a309a"
   }
  }
 },
 "nbformat": 4,
 "nbformat_minor": 2
}
