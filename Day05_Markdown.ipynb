{
 "cells": [
  {
   "attachments": {},
   "cell_type": "markdown",
   "metadata": {},
   "source": [
    "# Heading1\n",
    "## heading2\n",
    "### heading3\n",
    "\n",
    "# heading\n",
    "=========\n",
    "\n",
    "문장1문장2문장3\n",
    "\n",
    "문장4\n",
    "\n",
    "문단x\n"
   ]
  },
  {
   "cell_type": "code",
   "execution_count": 1,
   "metadata": {},
   "outputs": [],
   "source": [
    "#마크다운을 하려면 줄바꿈을 해주어야한다\n",
    "#문자열을 쓸 때 한줄을 비워주지 않으면 다 붙어서 출력이된다\n",
    "#띄어주려면 한줄을 통째로 띄어주어야한다\n"
   ]
  },
  {
   "attachments": {},
   "cell_type": "markdown",
   "metadata": {},
   "source": [
    "*mathjax\n",
    "$$\n",
    "    \\hat y= x_{i}+\\sum 3\n",
    "$$\n"
   ]
  },
  {
   "cell_type": "code",
   "execution_count": null,
   "metadata": {},
   "outputs": [],
   "source": [
    "# \\hat을 적으면 위에 삿갓 수학기호로 표시, _{i}를 적으면 작은 i로 표시, \\sum은 시그마?로 표시"
   ]
  }
 ],
 "metadata": {
  "kernelspec": {
   "display_name": "Python 3",
   "language": "python",
   "name": "python3"
  },
  "language_info": {
   "codemirror_mode": {
    "name": "ipython",
    "version": 3
   },
   "file_extension": ".py",
   "mimetype": "text/x-python",
   "name": "python",
   "nbconvert_exporter": "python",
   "pygments_lexer": "ipython3",
   "version": "3.10.9"
  },
  "orig_nbformat": 4,
  "vscode": {
   "interpreter": {
    "hash": "08804ff59ba42edf801cabf0150036e830ede650fb4c74b1d2ab081b0e1a309a"
   }
  }
 },
 "nbformat": 4,
 "nbformat_minor": 2
}
