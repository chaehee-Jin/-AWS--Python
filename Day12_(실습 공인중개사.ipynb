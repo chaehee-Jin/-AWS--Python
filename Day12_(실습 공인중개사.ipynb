{
 "cells": [
  {
   "attachments": {},
   "cell_type": "markdown",
   "metadata": {},
   "source": [
    "## 전국공인중개사사무소표준데이터\n",
    "** - 공인중개사/ 개업 공인중개사 비율\n",
    "\n",
    "** - 공제미가입 중개사 count, 전체 대비 비율\n",
    "\n",
    "** 00공인중개 중 흔한 상호명\n",
    "\n",
    "** 00공인중개 가 아닌것은 따로 저장 \n"
   ]
  },
  {
   "cell_type": "code",
   "execution_count": 1,
   "metadata": {},
   "outputs": [],
   "source": [
    "import numpy as np\n",
    "import math\n",
    "\n",
    "def mean(num_list):\n",
    "    return sum(num_list)/len(num_list)\n",
    "\n",
    "def mean_2(num_list):\n",
    "    sum_value = 0\n",
    "    for i in num_list:\n",
    "        sum_value = sum_value + i\n",
    "    return sum_value / len(num_list)\n",
    "\n",
    "\n",
    "def median(num_list):\n",
    "    num_list.sort()\n",
    "    if len(num_list)%2 ==1: \n",
    "\n",
    "        #몫만 가지고 계산할 경우 +1, -1을 굳이 안해줘도 됨 \n",
    "        i = (len(num_list))//2\n",
    "        return num_list[i]\n",
    "    else:\n",
    "        i = len(num_list)//2\n",
    "        return (num_list[i]+ num_list[i-1])/2\n",
    "\n",
    "\n",
    "def mean(number_list):\n",
    "    return sum(number_list)/len(number_list)\n",
    "\n",
    "def dev(num_list): #편차\n",
    "    m= mean(num_list)\n",
    "    return [x-m for x in num_list]\n",
    "\n",
    "def ver(num_list): # 분산 #제곱\n",
    "    n = len(num_list)\n",
    "    d = dev(num_list)\n",
    "    return sum([x*x for x in d])/(n-1)\n",
    "\n",
    "def stdev(num_list): #표준편차\n",
    "    return math.sqrt(ver(num_list))\n",
    "\n",
    "def covar(list_1, list_2): #공분산 #따로 dev를 2개 구해서 짝을 이뤄서 곱해서 나눔 \n",
    "    n = len(list_1)\n",
    "    list_1_dev = dev(list_1)\n",
    "    list_2_dev= dev(list_2)\n",
    "    return sum(x * y for x, y in zip (list_1_dev, list_2_dev))/ (n-1)\n",
    "\n",
    "def corel(list_1, list_2): # 상관도(-1 ~ 1) #상관도 : 두개의 변수의 서로의 상관관계, 영향도를 보여주는 것 \n",
    "    return covar(list_1, list_2)/(stdev(list_1)*stdev(list_2))"
   ]
  },
  {
   "cell_type": "code",
   "execution_count": 3,
   "metadata": {},
   "outputs": [],
   "source": [
    "def my_split(s):\n",
    "    block_start = False\n",
    "    start_index = 0\n",
    "    ret_list=[]\n",
    "    for i, c in enumerate(s):\n",
    "        if block_start==False:\n",
    "            if c==',':\n",
    "                ret_list.append(s[start_index:i])\n",
    "                start_index=i+1\n",
    "            elif c=='\"':\n",
    "                block_start=True\n",
    "                start_index = i\n",
    "        else:\n",
    "            if c=='\"':\n",
    "                block_start=False\n",
    "    if s[-1]!=',':\n",
    "        ret_list.append(s[start_index:])\n",
    "    return ret_list\n",
    "    \n",
    "def split_len(data_list):\n",
    "    len_list = []\n",
    "    for e in data_list:\n",
    "        len_list.append(len(e))\n",
    "    print(set(len_list))\n",
    "    if len (set(len_list))>1:\n",
    "        for i in set(len_list):\n",
    "            print(i, len_list.count(i))"
   ]
  },
  {
   "cell_type": "code",
   "execution_count": 5,
   "metadata": {},
   "outputs": [
    {
     "name": "stdout",
     "output_type": "stream",
     "text": [
      "8\n"
     ]
    }
   ],
   "source": [
    "csv_data = []\n",
    "with open ('전국공인중개사사무소표준데이터.csv') as f:\n",
    "    for line in f:\n",
    "        csv_data.append(my_split(line))\n",
    "#print(csv_data[:10])\n",
    "print (3+5)\n",
    "#split_len(csv_data)"
   ]
  },
  {
   "cell_type": "code",
   "execution_count": 8,
   "metadata": {},
   "outputs": [
    {
     "name": "stdout",
     "output_type": "stream",
     "text": [
      "['제일공인중개사사무소', '26710-2015-00005', '공인중개사', '부산광역시 기장군 정관읍 구연로 26', '', '', '2015-01-07', 'Y', '송미경', '', '', '', '', '', '2022-11-25', '3400000', 0.0]\n",
      "['늘채움부동산공인중개사사무소', '26710-2015-00013', '공인중개사', '\"부산광역시 기장군 기장읍 차성남로 91, 1층 일부\"', '', '', '2015-01-21', 'Y', '강경미', '', '', '', '', '', '2022-11-25', '3400000', 0.0]\n",
      "['해부동산공인중개사사무소', '26710-2015-00014', '공인중개사', '부산광역시 기장군 기장읍 당사로3길 26', '', '', '2015-01-22', 'Y', '김종태', '', '', '', '', '', '2022-11-25', '3400000', 0.0]\n"
     ]
    }
   ],
   "source": [
    "for pop in csv_data:\n",
    "    if len(pop)<2:\n",
    "        continue\n",
    "    pop[-1] = 0.0\n",
    "\n",
    "print(csv_data[1])\n",
    "print(csv_data[2])\n",
    "print(csv_data[3])"
   ]
  },
  {
   "cell_type": "code",
   "execution_count": 10,
   "metadata": {},
   "outputs": [
    {
     "name": "stdout",
     "output_type": "stream",
     "text": [
      "(0, '중개사무소명')\n",
      "(1, '개설등록번호')\n",
      "(2, '개업공인중개사종별구분')\n",
      "(3, '소재지도로명주소')\n",
      "(4, '소재지지번주소')\n",
      "(5, '전화번호')\n",
      "(6, '개설등록일자')\n",
      "(7, '공제가입유무')\n",
      "(8, '대표자명')\n",
      "(9, '위도')\n",
      "(10, '경도')\n",
      "(11, '중개보조원수')\n",
      "(12, '소속공인중개사수')\n",
      "(13, '홈페이지주소')\n",
      "(14, '데이터기준일자')\n",
      "(15, '제공기관코드')\n",
      "(16, 0.0)\n"
     ]
    }
   ],
   "source": [
    "\n",
    "for h in enumerate (csv_data[0]):\n",
    "    print(h)"
   ]
  },
  {
   "cell_type": "code",
   "execution_count": 13,
   "metadata": {},
   "outputs": [
    {
     "name": "stdout",
     "output_type": "stream",
     "text": [
      "공인중개사\n"
     ]
    }
   ],
   "source": [
    "ad_list = []\n",
    "for i in csv_data:\n",
    "    address = i[2]\n",
    "    ad_list.append(address)\n",
    "print(ad_list[3])"
   ]
  },
  {
   "cell_type": "code",
   "execution_count": 17,
   "metadata": {},
   "outputs": [
    {
     "name": "stdout",
     "output_type": "stream",
     "text": [
      "법인 527\n",
      "개업공인중개사 5085\n",
      "공인중개사 23757\n",
      "개업공인중개사종별구분 1\n",
      "['법인', '개업공인중개사', '공인중개사', '개업공인중개사종별구분']\n",
      "[527, 5085, 23757, 1]\n"
     ]
    }
   ],
   "source": [
    "ad_set = set(ad_list)\n",
    "agent_list = []\n",
    "agent_count = []\n",
    "\n",
    "for i in ad_set:\n",
    "    print(i, ad_list.count(i))\n",
    "    agent_list.append(i)\n",
    "    agent_count.append(ad_list.count(i))\n",
    "\n",
    "for index, s in enumerate(agent_list):\n",
    "    try:\n",
    "        agent_list[index] = s.strip('\"')\n",
    "    except:\n",
    "        print('**',s)\n",
    "\n",
    "print(agent_list)\n",
    "print(agent_count)\n"
   ]
  },
  {
   "cell_type": "code",
   "execution_count": 25,
   "metadata": {},
   "outputs": [
    {
     "name": "stdout",
     "output_type": "stream",
     "text": [
      "1.794409070788927\n",
      "17.314174810173995\n",
      "80.89141611903709\n"
     ]
    }
   ],
   "source": [
    "print(agent_count[0]/(sum(agent_count)-1)*100)\n",
    "print(agent_count[1]/(sum(agent_count)-1)*100)\n",
    "print(agent_count[2]/(sum(agent_count)-1)*100)\n",
    "\n",
    "\n",
    "#sepal_length = iris_np[:,0]\n",
    "#sepal_width = iris_np[:,1]\n",
    "#sepal_ratio = sepal_length / sepal_width\n",
    "#print(sepal_ratio)\n",
    "\n",
    "#petal ratio : petal length[3] / petal width[4]\n",
    "#petal_length = iris_np[:,2]\n",
    "#petal_width = iris_np[:,3]\n",
    "#petal_ratio = petal_length / petal_width"
   ]
  },
  {
   "cell_type": "code",
   "execution_count": 27,
   "metadata": {},
   "outputs": [
    {
     "name": "stdout",
     "output_type": "stream",
     "text": [
      "30\n"
     ]
    }
   ],
   "source": [
    "count = 0\n",
    "for i in csv_data:\n",
    "    if i[7] == 'N':\n",
    "        count = count + 1\n",
    "\n",
    "print(count)\n",
    "\n"
   ]
  }
 ],
 "metadata": {
  "kernelspec": {
   "display_name": "Python 3",
   "language": "python",
   "name": "python3"
  },
  "language_info": {
   "codemirror_mode": {
    "name": "ipython",
    "version": 3
   },
   "file_extension": ".py",
   "mimetype": "text/x-python",
   "name": "python",
   "nbconvert_exporter": "python",
   "pygments_lexer": "ipython3",
   "version": "3.10.9"
  },
  "orig_nbformat": 4,
  "vscode": {
   "interpreter": {
    "hash": "08804ff59ba42edf801cabf0150036e830ede650fb4c74b1d2ab081b0e1a309a"
   }
  }
 },
 "nbformat": 4,
 "nbformat_minor": 2
}
