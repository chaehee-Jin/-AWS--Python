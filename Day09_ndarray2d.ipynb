{
 "cells": [
  {
   "cell_type": "code",
   "execution_count": 4,
   "metadata": {},
   "outputs": [
    {
     "name": "stdout",
     "output_type": "stream",
     "text": [
      "[[ 1  2  3]\n",
      " [10 20 30]]\n",
      "2\n",
      "(2, 3)\n",
      "6\n"
     ]
    }
   ],
   "source": [
    "import numpy as np\n",
    "\n",
    "#엠디 array= numpy안에 들어있는 클래스\n",
    "a1 = np.array([[1, 2, 3], [10, 20, 30]]) #2차원 배열 \n",
    "print(a1)\n",
    "print(a1.ndim)\n",
    "print(a1.shape)\n",
    "print(a1.size)"
   ]
  },
  {
   "cell_type": "code",
   "execution_count": 7,
   "metadata": {},
   "outputs": [
    {
     "name": "stdout",
     "output_type": "stream",
     "text": [
      "[[ 0  1  2  3  4]\n",
      " [ 5  6  7  8  9]\n",
      " [10 11 12 13 14]\n",
      " [15 16 17 18 19]]\n",
      "(4, 5)\n"
     ]
    }
   ],
   "source": [
    "a2 = np.arange(20).reshape(4,5) #2차원 배열 #갯수가 맞아떨어져야함 ex. reshape(4,4)\n",
    "print(a2)\n",
    "print(a2.shape)  #(20,)"
   ]
  },
  {
   "cell_type": "code",
   "execution_count": 11,
   "metadata": {},
   "outputs": [
    {
     "name": "stdout",
     "output_type": "stream",
     "text": [
      "[  0   1   2 100   4   5   6   7   8   9  10  11  12  13  14  15  16  17\n",
      "  18  19]\n",
      "[[  0   1   2 200   4]\n",
      " [  5   6   7   8   9]\n",
      " [ 10  11  12  13  14]\n",
      " [ 15  16  17  18  19]]\n",
      "[  0   1   2 200   4   5   6   7   8   9  10  11  12  13  14  15  16  17\n",
      "  18  19]\n",
      "[[  0   1   2 200   4]\n",
      " [  5   6   7   8   9]\n",
      " [ 10  11  12  13  14]\n",
      " [ 15  16  17  18  19]]\n"
     ]
    }
   ],
   "source": [
    "a3 = a2.flatten() #다차원 배열을 1차원으로 만들기 , 원본을 그대로 카피\n",
    "a3[3] = 100\n",
    "print(a3)\n",
    "print(a2)\n",
    "\n",
    "a4 = a2.ravel() #revel은 참조값을 가져옴 \n",
    "a4[3] = 200\n",
    "print(a4)\n",
    "print(a2)"
   ]
  },
  {
   "cell_type": "code",
   "execution_count": 23,
   "metadata": {},
   "outputs": [
    {
     "name": "stdout",
     "output_type": "stream",
     "text": [
      "[[ 0  1  2  3  4]\n",
      " [ 5  6  7  8  9]\n",
      " [10 11 12 13 14]\n",
      " [15 16 17 18 19]]\n",
      "[5 6 7 8 9]\n",
      "[[ 5  6  7  8  9]\n",
      " [10 11 12 13 14]]\n",
      "[[ 0  1  2  3  4]\n",
      " [10 11 12 13 14]]\n",
      "[[ 1  2  3]\n",
      " [ 6  7  8]\n",
      " [11 12 13]\n",
      " [16 17 18]]\n"
     ]
    }
   ],
   "source": [
    "a2 = np.arange(20).reshape(4,5) #2차원 배열 #인덱싱은 내가원하는 부분만 가져올수 있음 \n",
    "print(a2)\n",
    "print(a2[1])\n",
    "#print(a2[1, 2])\n",
    "#print(a2[:,1])\n",
    "#print(a2[:, 1:4])\n",
    "#print(a2[:, 1:4:2])\n",
    "#print(a2[1, :])\n",
    "#print(a2[1:3, :])\n",
    "#print(a2[::2,:]) #:: 처음부터 끝까지 \n",
    "print(a2[::, 1:4])\n",
    "\n"
   ]
  },
  {
   "cell_type": "code",
   "execution_count": 30,
   "metadata": {},
   "outputs": [
    {
     "name": "stdout",
     "output_type": "stream",
     "text": [
      "[[ 0  1  2  3  4]\n",
      " [ 5  6  7  8  9]\n",
      " [10 11 12 13 14]\n",
      " [15 16 17 18 19]]\n",
      "[10 35 60 85]\n"
     ]
    }
   ],
   "source": [
    "print(a2)\n",
    "#print(a2.shape) #axis(축)\n",
    "#print(a2.sum()) #a2 전체 합계\n",
    "#print(a2.sum(axis=0))\n",
    "print(a2.sum(axis=1)) #0: 열별로 , 1: 행별로\n"
   ]
  },
  {
   "cell_type": "code",
   "execution_count": 33,
   "metadata": {},
   "outputs": [
    {
     "name": "stdout",
     "output_type": "stream",
     "text": [
      "[[ 0  1  2  3  4]\n",
      " [ 5  6  7  8  9]\n",
      " [10 11 12 13 14]\n",
      " [15 16 17 18 19]] (4, 5)\n",
      "[[ 0  5 10 15]\n",
      " [ 1  6 11 16]\n",
      " [ 2  7 12 17]\n",
      " [ 3  8 13 18]\n",
      " [ 4  9 14 19]] (5, 4)\n"
     ]
    }
   ],
   "source": [
    "print(a2, a2.shape) \n",
    "a3 = a2.T #축변환\n",
    "print(a3, a3.shape)"
   ]
  },
  {
   "cell_type": "code",
   "execution_count": 36,
   "metadata": {},
   "outputs": [
    {
     "name": "stdout",
     "output_type": "stream",
     "text": [
      "[[ 0  1  2  3  4]\n",
      " [ 5  6  7  8  9]\n",
      " [10 11 12 13 14]\n",
      " [15 16 17 18 19]] (4, 5)\n",
      "[[ 0  5 10 15]\n",
      " [ 1  6 11 16]\n",
      " [ 2  7 12 17]\n",
      " [ 3  8 13 18]\n",
      " [ 4  9 14 19]] (5, 4)\n"
     ]
    }
   ],
   "source": [
    "print(a2, a2.shape)  \n",
    "np.moveaxis(a2, [0], [1]) #엑세스 0을 1로 바꿔라\n",
    "print(a3, a3.shape)"
   ]
  },
  {
   "cell_type": "code",
   "execution_count": 46,
   "metadata": {},
   "outputs": [
    {
     "name": "stdout",
     "output_type": "stream",
     "text": [
      "[[ 5  6  7  8  9]\n",
      " [10 11 12 13 14]\n",
      " [15 16 17 18 19]] (3, 5)\n",
      "[[ 7  8]\n",
      " [12 13]\n",
      " [17 18]] (3, 2)\n",
      "[36 39]\n",
      "[12. 13.]\n"
     ]
    }
   ],
   "source": [
    "a10 = np.arange(5, 20).reshape(3,5)\n",
    "print(a10, a10.shape)\n",
    "\n",
    "\n",
    "#shape(3,5) 의 2차원 adarray로 만들기\n",
    "a11 = (a10[:, 2:4])\n",
    "print(a11, a11.shape)\n",
    "print(a11.sum(axis =0))\n",
    "print(np.mean(a11, axis=0)) #축을 따라 평균을 내기\n"
   ]
  },
  {
   "cell_type": "code",
   "execution_count": 55,
   "metadata": {},
   "outputs": [
    {
     "name": "stdout",
     "output_type": "stream",
     "text": [
      "[0 1 2 3 4 5 6 7 8 9]\n",
      "[100 101 102 103 104 105 106 107 108 109]\n",
      "[  0   1   2   3   4   5   6   7   8   9 100 101 102 103 104 105 106 107\n",
      " 108 109]\n"
     ]
    }
   ],
   "source": [
    "#1차원배열붙이기\n",
    "a1=  np.arange(0, 10)\n",
    "a2 = np.arange(100, 110)\n",
    "print(a1)\n",
    "print(a2)\n",
    "a3 = np.concatenate((a1, a2))\n",
    "print(a3)\n"
   ]
  },
  {
   "cell_type": "code",
   "execution_count": 56,
   "metadata": {},
   "outputs": [
    {
     "name": "stdout",
     "output_type": "stream",
     "text": [
      "[[0 1 2 3 4]\n",
      " [5 6 7 8 9]]\n",
      "[[100 101 102 103 104]\n",
      " [105 106 107 108 109]]\n",
      "[[  0   1   2   3   4]\n",
      " [  5   6   7   8   9]\n",
      " [100 101 102 103 104]\n",
      " [105 106 107 108 109]]\n"
     ]
    }
   ],
   "source": [
    "#2차원 배열 붙이기\n",
    "a1=  np.arange(0, 10).reshape(2,5)\n",
    "a2 = np.arange(100, 110).reshape(2, 5)\n",
    "print(a1)\n",
    "print(a2)\n",
    "a3 = np.concatenate((a1, a2))\n",
    "print(a3)"
   ]
  },
  {
   "cell_type": "code",
   "execution_count": 61,
   "metadata": {},
   "outputs": [
    {
     "name": "stdout",
     "output_type": "stream",
     "text": [
      "[[0 1 2 3 4]\n",
      " [5 6 7 8 9]]\n",
      "[[100 101 102 103 104]\n",
      " [105 106 107 108 109]]\n",
      "[[  0   1   2   3   4]\n",
      " [  5   6   7   8   9]\n",
      " [100 101 102 103 104]\n",
      " [105 106 107 108 109]]\n"
     ]
    }
   ],
   "source": [
    "\n",
    "a1=  np.arange(0, 10).reshape(2,5)\n",
    "a2 = np.arange(100, 110).reshape(2, 5)\n",
    "print(a1)\n",
    "print(a2)\n",
    "a3 = np.concatenate((a1, a2), axis=1)\n",
    "#print(a3)\n",
    "\n",
    "a4 = np.hstack((a1, a2))  #수평으로 2개를 붙이기\n",
    "#print(a4)\n",
    "a5 = np.vstack((a1, a2))\n",
    "print(a5)\n"
   ]
  },
  {
   "cell_type": "code",
   "execution_count": 67,
   "metadata": {},
   "outputs": [
    {
     "name": "stdout",
     "output_type": "stream",
     "text": [
      "[[  0   1   2   3   4 100 101 102 103 104]\n",
      " [  5   6   7   8   9 105 106 107 108 109]]\n",
      "[array([[0, 1],\n",
      "       [5, 6]]), array([[2, 3],\n",
      "       [7, 8]]), array([[  4, 100],\n",
      "       [  9, 105]]), array([[101, 102],\n",
      "       [106, 107]]), array([[103, 104],\n",
      "       [108, 109]])]\n"
     ]
    }
   ],
   "source": [
    "print(a4)\n",
    "a6 = np.hsplit(a4, 5)\n",
    "print(a6)\n"
   ]
  },
  {
   "cell_type": "code",
   "execution_count": 70,
   "metadata": {},
   "outputs": [
    {
     "name": "stdout",
     "output_type": "stream",
     "text": [
      "[[  0   1   2   3   4 100 101 102 103 104]\n",
      " [  5   6   7   8   9 105 106 107 108 109]]\n",
      "[[  0   5]\n",
      " [  1   6]\n",
      " [  2   7]\n",
      " [  3   8]\n",
      " [  4   9]\n",
      " [100 105]\n",
      " [101 106]\n",
      " [102 107]\n",
      " [103 108]\n",
      " [104 109]]\n"
     ]
    },
    {
     "data": {
      "text/plain": [
       "[array([[0, 5],\n",
       "        [1, 6]]),\n",
       " array([[2, 7],\n",
       "        [3, 8]]),\n",
       " array([[  4,   9],\n",
       "        [100, 105]]),\n",
       " array([[101, 106],\n",
       "        [102, 107]]),\n",
       " array([[103, 108],\n",
       "        [104, 109]])]"
      ]
     },
     "execution_count": 70,
     "metadata": {},
     "output_type": "execute_result"
    }
   ],
   "source": [
    "#세로로 자르기 \n",
    "print(a4)\n",
    "a7 = a4.T \n",
    "print(a7)\n",
    "np.vsplit(a7,5) #a7을 5조각내기\n"
   ]
  },
  {
   "cell_type": "code",
   "execution_count": 78,
   "metadata": {},
   "outputs": [
    {
     "name": "stdout",
     "output_type": "stream",
     "text": [
      "[[ 0  1  2  3  4]\n",
      " [ 5  6  7  8  9]\n",
      " [10 11 12 13 14]\n",
      " [15 16 17 18 19]]\n",
      "[False  True False  True]\n",
      "[[ 5  6  7  8  9]\n",
      " [15 16 17 18 19]]\n"
     ]
    }
   ],
   "source": [
    "a2 = np.arange(20).reshape(4,5)\n",
    "print(a2)\n",
    "filter1 = (a2[:, 0]%10 ==5)\n",
    "print(filter1)\n",
    "print(a2[filter1])\n"
   ]
  }
 ],
 "metadata": {
  "kernelspec": {
   "display_name": "Python 3",
   "language": "python",
   "name": "python3"
  },
  "language_info": {
   "codemirror_mode": {
    "name": "ipython",
    "version": 3
   },
   "file_extension": ".py",
   "mimetype": "text/x-python",
   "name": "python",
   "nbconvert_exporter": "python",
   "pygments_lexer": "ipython3",
   "version": "3.10.9"
  },
  "orig_nbformat": 4,
  "vscode": {
   "interpreter": {
    "hash": "08804ff59ba42edf801cabf0150036e830ede650fb4c74b1d2ab081b0e1a309a"
   }
  }
 },
 "nbformat": 4,
 "nbformat_minor": 2
}
