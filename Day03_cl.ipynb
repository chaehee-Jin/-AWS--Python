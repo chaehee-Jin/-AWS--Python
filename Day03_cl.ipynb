{
 "cells": [
  {
   "cell_type": "code",
   "execution_count": 14,
   "id": "6d532ac4",
   "metadata": {},
   "outputs": [
    {
     "name": "stdout",
     "output_type": "stream",
     "text": [
      "<class '__main__.myclass'>\n",
      "500 def\n"
     ]
    }
   ],
   "source": [
    "class myclass:\n",
    "    myvar1 = 10\n",
    "    myvar2 = 'abc'\n",
    "   \n",
    "     #상속을 받지 않을 때는 괄호를 안써도 된다\n",
    "    #생성자 호출, 인스턴스화 할때 불려질때 자동으로 실행, 멤버변수들을 초기화, 초기값을 디폴트 또는 변수값을 따로 지정해서 줄수있다\n",
    "    #직접적으로 부르지 말고 내부적인것이라고 말하는 것에 언더바(_)2개가 붙는다\n",
    "    #c언어에서는 생성자(컨스트럭터) 가 있으면 소멸자(디스트럭터)를 써야하지만(데이터 누수문제때문), 파이쓴, 자바에서는 잘 사용하지 않는다\n",
    "    def __init__(self, a=0, b='aaa'):\n",
    "        self.myvar1 = a\n",
    "        self.myvar2 = b\n",
    "    #self를 참조하게되면 instance를 참조함\n",
    "    #n은 매개변수, 나는 메소드를 이런식으로 만들것이다라고 선언 \n",
    "    def mymethod1(self, n):\n",
    "        print(self.myvar1 *n, self.myvar2)\n",
    "        \n",
    "    def __str__(self):\n",
    "            return 'myclass: {}, {}'.format(self.myvar1, self.myvar2)\n",
    " #초기화, 너는 누구니? - 저는 ~ 입니다 -> String 메소드(지정되어 있는 메소드)        \n",
    "a = myclass(100, 'def')\n",
    "print(type(a))\n",
    "\n",
    "a.mymethod1(5)\n",
    "        "
   ]
  },
  {
   "cell_type": "code",
   "execution_count": 15,
   "id": "509d4305",
   "metadata": {},
   "outputs": [
    {
     "name": "stdout",
     "output_type": "stream",
     "text": [
      "['a', 'b', 'c', 'd', 'e', 'f', 'c', 'g', 'h', 'i']\n",
      "['a', 'c', 'd', 'e', 'f', 'c', 'g', 'h', 'i']\n"
     ]
    }
   ],
   "source": [
    "#list에는 remove(특정한 값을 삭제함)이 있다\n",
    "list_1 = list('abcdefcghi')\n",
    "print(list_1)\n",
    "list_1.remove('b')\n",
    "print(list_1)"
   ]
  },
  {
   "cell_type": "code",
   "execution_count": 16,
   "id": "829c1d49",
   "metadata": {},
   "outputs": [
    {
     "name": "stdout",
     "output_type": "stream",
     "text": [
      "myclass2- mymethod 0\n",
      "myclass2- mymethod2\n"
     ]
    }
   ],
   "source": [
    "class myclass2(myclass): #부모 클래스를 괄호안에, 상속\n",
    "       \n",
    "    def mymethod1(self,n):\n",
    "         print('myclass2- mymethod',self.myvar1*n)\n",
    "            \n",
    "    def mymethod2(self):\n",
    "        print('myclass2- mymethod2')\n",
    "\n",
    "\n",
    "b = myclass2()\n",
    "b.mymethod1(10)\n",
    "b.mymethod2()"
   ]
  },
  {
   "cell_type": "code",
   "execution_count": 29,
   "id": "3b9554b6",
   "metadata": {},
   "outputs": [
    {
     "name": "stdout",
     "output_type": "stream",
     "text": [
      "['a', 'b', 'd', 'e', 'f', 'g', 'h', 'i']\n"
     ]
    }
   ],
   "source": [
    "def list_remove_all(target_list,target_value):\n",
    "    while target_value in target_list:\n",
    "        target_list.remove(target_value)\n",
    "    return target_list\n",
    "    \n",
    "    # 다른 방법 \n",
    "def list_remove_all_v2(target_list, target_value):\n",
    "    while True:\n",
    "        try:\n",
    "            target_list.remove(target_value)\n",
    "        except:\n",
    "            return target_list\n",
    "    \n",
    "ret_list= list_remove_all(list('abcdefcghi'), 'c')\n",
    "print(ret_list)\n",
    "\n",
    "\n",
    "\n"
   ]
  },
  {
   "cell_type": "code",
   "execution_count": 32,
   "id": "3d828e80",
   "metadata": {},
   "outputs": [
    {
     "name": "stdout",
     "output_type": "stream",
     "text": [
      "['a', 'b', 'c', 'c', 'd', 'c', 1, 2]\n"
     ]
    },
    {
     "data": {
      "text/plain": [
       "['a', 'b', 'd', 1, 2]"
      ]
     },
     "execution_count": 32,
     "metadata": {},
     "output_type": "execute_result"
    }
   ],
   "source": [
    "class mylist(list):\n",
    "     def remove_all(self, target_value):\n",
    "            while target_value in self:\n",
    "                self.remove(target_value)\n",
    "            return self\n",
    "\n",
    "mylist_1 = mylist(list('abccdc'))\n",
    "mylist_1.append(1)\n",
    "mylist_1.append(2)\n",
    "print(mylist_1)\n",
    "mylist_1.remove_all('c')"
   ]
  }
 ],
 "metadata": {
  "kernelspec": {
   "display_name": "Python 3",
   "language": "python",
   "name": "python3"
  },
  "language_info": {
   "codemirror_mode": {
    "name": "ipython",
    "version": 3
   },
   "file_extension": ".py",
   "mimetype": "text/x-python",
   "name": "python",
   "nbconvert_exporter": "python",
   "pygments_lexer": "ipython3",
   "version": "3.10.9"
  },
  "vscode": {
   "interpreter": {
    "hash": "08804ff59ba42edf801cabf0150036e830ede650fb4c74b1d2ab081b0e1a309a"
   }
  }
 },
 "nbformat": 4,
 "nbformat_minor": 5
}
