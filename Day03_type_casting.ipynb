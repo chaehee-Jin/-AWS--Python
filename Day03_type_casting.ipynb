{
 "cells": [
  {
   "cell_type": "code",
   "execution_count": 10,
   "id": "c8d02b99",
   "metadata": {},
   "outputs": [
    {
     "name": "stdout",
     "output_type": "stream",
     "text": [
      "abc\n",
      "<class 'str'>\n",
      "IndexError\n",
      "-1\n",
      "<class 'int'>\n"
     ]
    }
   ],
   "source": [
    "# a  ='30'  #모든것을 바꿀수 있지는 않음 문자열은 바꿀수 없음 \n",
    "a = 'abc'\n",
    "print(a)\n",
    "print(type(a))\n",
    "\n",
    "x = []\n",
    "\n",
    "#이것을 예외처리라고 한다\n",
    "try:\n",
    "#     b = float(a)\n",
    "    print(x[0])\n",
    " # 특정한 에러만 지나갈때 사용   \n",
    "except ValueError:\n",
    "    b = -1\n",
    "except IndexError:\n",
    "    print('IndexError')\n",
    "    \n",
    "#문자열을 float 형태로 형변환을 할 수 없는데 이것에대한 오류가 일어남\n",
    "#b = float(a)\n",
    "print(b)\n",
    "print(type(b))\n",
    "\n",
    "\n"
   ]
  },
  {
   "cell_type": "code",
   "execution_count": null,
   "id": "0e71d863",
   "metadata": {},
   "outputs": [],
   "source": []
  }
 ],
 "metadata": {
  "kernelspec": {
   "display_name": "Python 3 (ipykernel)",
   "language": "python",
   "name": "python3"
  },
  "language_info": {
   "codemirror_mode": {
    "name": "ipython",
    "version": 3
   },
   "file_extension": ".py",
   "mimetype": "text/x-python",
   "name": "python",
   "nbconvert_exporter": "python",
   "pygments_lexer": "ipython3",
   "version": "3.10.9"
  }
 },
 "nbformat": 4,
 "nbformat_minor": 5
}
