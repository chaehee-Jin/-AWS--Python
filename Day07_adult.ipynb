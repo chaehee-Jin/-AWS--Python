{
 "cells": [
  {
   "attachments": {},
   "cell_type": "markdown",
   "metadata": {},
   "source": [
    "### 상관도 분석 : UCI Repo Adult 데이터\n",
    " *url https://archive.ics.uci.edu/ml/machine-learning-databases/adult/adult.data\n",
    "\n",
    " *age / capital gain 상관도\n",
    "\n",
    " *hours-per-week / capital gain 상관도  "
   ]
  },
  {
   "cell_type": "code",
   "execution_count": 13,
   "metadata": {},
   "outputs": [],
   "source": [
    "import math\n",
    "\n",
    "def mean(num_list):\n",
    "    return sum(num_list)/len(num_list)\n",
    "\n",
    "def mean_2(num_list):\n",
    "    sum_value = 0\n",
    "    for i in num_list:\n",
    "        sum_value = sum_value + i\n",
    "    return sum_value / len(num_list)\n",
    "\n",
    "\n",
    "def median(num_list):\n",
    "    num_list.sort()\n",
    "    if len(num_list)%2 ==1: \n",
    "\n",
    "        #몫만 가지고 계산할 경우 +1, -1을 굳이 안해줘도 됨 \n",
    "        i = (len(num_list))//2\n",
    "        return num_list[i]\n",
    "    else:\n",
    "        i = len(num_list)//2\n",
    "        return (num_list[i]+ num_list[i-1])/2\n",
    "\n",
    "def mean(number_list):\n",
    "    return sum(number_list)/len(number_list)\n",
    "\n",
    "def dev(num_list): #편차\n",
    "    m= mean(num_list)\n",
    "    return [x-m for x in num_list]\n",
    "\n",
    "def ver(num_list): # 분산 #제곱\n",
    "    n = len(num_list)\n",
    "    d = dev(num_list)\n",
    "    return sum([x*x for x in d])/(n-1)\n",
    "\n",
    "def stdev(num_list): #표준편차\n",
    "    return math.sqrt(ver(num_list))\n",
    "\n",
    "def covar(list_1, list_2): #공분산 #따로 dev를 2개 구해서 짝을 이뤄서 곱해서 나눔 \n",
    "    n = len(list_1)\n",
    "    list_1_dev = dev(list_1)\n",
    "    list_2_dev= dev(list_2)\n",
    "    return sum(x * y for x, y in zip (list_1_dev, list_2_dev))/ (n-1)\n",
    "\n",
    "def corel(list_1, list_2): # 상관도(-1 ~ 1) #상관도 : 두개의 변수의 서로의 상관관계, 영향도를 보여주는 것 \n",
    "    return covar(list_1, list_2)/(stdev(list_1)*stdev(list_2))\n"
   ]
  },
  {
   "cell_type": "code",
   "execution_count": 19,
   "metadata": {},
   "outputs": [],
   "source": [
    "import requests\n",
    "\n",
    "x = requests.get('https://archive.ics.uci.edu/ml/machine-learning-databases/adult/adult.data')"
   ]
  },
  {
   "cell_type": "code",
   "execution_count": 42,
   "metadata": {},
   "outputs": [],
   "source": [
    "#print(x.text[:100])\n",
    "\n",
    "pass1 = x.text.split('\\n')\n",
    "#print(pass1[0])\n",
    "#pass1 = x.text.split('\\n')\n",
    "#print(pass1[0].split(',')[0]) #age\n",
    "#print(pass1[0].split(',')[10]) cap_gain\n",
    "#print(pass1[0].split(',')[12]) hours_per_week\n",
    "\n",
    "age_list = []\n",
    "cap_gain_list = []\n",
    "hours_per_week_list = []\n",
    "\n",
    "for e in pass1:\n",
    "    try:\n",
    "        t = e.split(',')\n",
    "        if len(t)< 5:\n",
    "            continue\n",
    "        age_list.append(t[0])\n",
    "        cap_gain_list.append(t[10])\n",
    "        hours_per_week_list.append(t[12])\n",
    "    except:\n",
    "        print(e, type(e))\n",
    "\n",
    "\n",
    "     \n",
    "\n",
    "\n",
    "    "
   ]
  },
  {
   "cell_type": "code",
   "execution_count": 43,
   "metadata": {},
   "outputs": [
    {
     "name": "stdout",
     "output_type": "stream",
     "text": [
      "32561\n",
      "32561\n",
      "32561\n"
     ]
    }
   ],
   "source": [
    "print(len(age_list))\n",
    "print(len(cap_gain_list))\n",
    "print(len(hours_per_week_list))\n",
    "\n",
    "age_list = [int(i) for i in age_list]\n",
    "cap_gain_list = [int(i) for i in cap_gain_list]\n",
    "hours_per_week_list = [int(i) for i in hours_per_week_list]\n"
   ]
  },
  {
   "cell_type": "code",
   "execution_count": 44,
   "metadata": {},
   "outputs": [
    {
     "name": "stdout",
     "output_type": "stream",
     "text": [
      "[39, 50, 38, 53, 28, 37, 49, 52, 31, 42]\n",
      "[2174, 0, 0, 0, 0, 0, 0, 0, 14084, 5178]\n",
      "[40, 13, 40, 40, 40, 40, 16, 45, 50, 40]\n"
     ]
    }
   ],
   "source": [
    "print(age_list[:10])\n",
    "print(cap_gain_list[:10])\n",
    "print(hours_per_week_list[:10])"
   ]
  },
  {
   "cell_type": "code",
   "execution_count": 46,
   "metadata": {},
   "outputs": [
    {
     "name": "stdout",
     "output_type": "stream",
     "text": [
      "age vs. cap gain: 0.077674498166006\n",
      "hours per week vs. cap gain: 0.07840861539012314\n",
      "age vs. hours per week: 0.06875570750956339\n"
     ]
    }
   ],
   "source": [
    "print('age vs. cap gain:' , corel(age_list, cap_gain_list))\n",
    "print('hours per week vs. cap gain:', corel(hours_per_week_list, cap_gain_list))\n",
    "print('age vs. hours per week:', corel(age_list, hours_per_week_list))"
   ]
  }
 ],
 "metadata": {
  "kernelspec": {
   "display_name": "Python 3",
   "language": "python",
   "name": "python3"
  },
  "language_info": {
   "codemirror_mode": {
    "name": "ipython",
    "version": 3
   },
   "file_extension": ".py",
   "mimetype": "text/x-python",
   "name": "python",
   "nbconvert_exporter": "python",
   "pygments_lexer": "ipython3",
   "version": "3.10.9"
  },
  "orig_nbformat": 4,
  "vscode": {
   "interpreter": {
    "hash": "08804ff59ba42edf801cabf0150036e830ede650fb4c74b1d2ab081b0e1a309a"
   }
  }
 },
 "nbformat": 4,
 "nbformat_minor": 2
}
