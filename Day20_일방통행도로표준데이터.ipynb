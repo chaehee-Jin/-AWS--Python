{
 "cells": [
  {
   "attachments": {},
   "cell_type": "markdown",
   "metadata": {},
   "source": [
    "### 전국일방통행표준데이터\n",
    "- 데이터 전처리과정\n",
    "시도명, 지정사유, 지정연도, 도로폭, 도로차로수, 보차분리여부\n",
    "\n",
    "- 결측치 처리 (column 개별기준)\n",
    "- 오류치 처리 (unit의 차이)\n",
    "- 이상치 처리 (iqr 사용)\n",
    "- 전처리 내용 정리"
   ]
  },
  {
   "cell_type": "code",
   "execution_count": 9,
   "metadata": {},
   "outputs": [],
   "source": [
    "import numpy as np\n",
    "import pandas as pd\n",
    "import matplotlib.pyplot as plt\n",
    "rd_data= []\n",
    "\n",
    "rd_rowdata= pd.read_csv('전국일방통행도로표준데이터.csv', encoding ='cp949')"
   ]
  },
  {
   "cell_type": "code",
   "execution_count": 11,
   "metadata": {},
   "outputs": [
    {
     "name": "stdout",
     "output_type": "stream",
     "text": [
      "Index(['시도명', '시군구명', '도로명', '지정사유', '지정연도', '도로폭', '도로연장', '도로차로수', '보차분리여부',\n",
      "       '시작점위도', '시작점경도', '종료점위도', '종료점경도', '도로안내표지일련번호', '관리기관명', '관리기관전화번호',\n",
      "       '데이터기준일자', '제공기관코드', '제공기관명'],\n",
      "      dtype='object')\n",
      "(0, '시도명')\n",
      "(1, '시군구명')\n",
      "(2, '도로명')\n",
      "(3, '지정사유')\n",
      "(4, '지정연도')\n",
      "(5, '도로폭')\n",
      "(6, '도로연장')\n",
      "(7, '도로차로수')\n",
      "(8, '보차분리여부')\n",
      "(9, '시작점위도')\n",
      "(10, '시작점경도')\n",
      "(11, '종료점위도')\n",
      "(12, '종료점경도')\n",
      "(13, '도로안내표지일련번호')\n",
      "(14, '관리기관명')\n",
      "(15, '관리기관전화번호')\n",
      "(16, '데이터기준일자')\n",
      "(17, '제공기관코드')\n",
      "(18, '제공기관명')\n"
     ]
    }
   ],
   "source": [
    "print(rd_rowdata.columns)\n",
    "for e in enumerate(rd_rowdata.columns):\n",
    "    print(e)"
   ]
  },
  {
   "cell_type": "code",
   "execution_count": 12,
   "metadata": {},
   "outputs": [],
   "source": [
    "column_selection = ['시도명', '지정사유', '지정연도', '도로폭', '도로차로수', '보차분리여부']\n",
    "rd_data = rd_rowdata[column_selection]\n",
    "del rd_rowdata"
   ]
  },
  {
   "cell_type": "code",
   "execution_count": 16,
   "metadata": {},
   "outputs": [
    {
     "name": "stdout",
     "output_type": "stream",
     "text": [
      "Index(['시도명', '지정사유', '지정연도', '도로폭', '도로차로수', '보차분리여부'], dtype='object')\n",
      "시도명       category\n",
      "지정사유        object\n",
      "지정연도       float64\n",
      "도로폭        float64\n",
      "도로차로수     category\n",
      "보차분리여부      object\n",
      "dtype: object\n"
     ]
    },
    {
     "data": {
      "text/html": [
       "<div>\n",
       "<style scoped>\n",
       "    .dataframe tbody tr th:only-of-type {\n",
       "        vertical-align: middle;\n",
       "    }\n",
       "\n",
       "    .dataframe tbody tr th {\n",
       "        vertical-align: top;\n",
       "    }\n",
       "\n",
       "    .dataframe thead th {\n",
       "        text-align: right;\n",
       "    }\n",
       "</style>\n",
       "<table border=\"1\" class=\"dataframe\">\n",
       "  <thead>\n",
       "    <tr style=\"text-align: right;\">\n",
       "      <th></th>\n",
       "      <th>시도명</th>\n",
       "      <th>지정사유</th>\n",
       "      <th>지정연도</th>\n",
       "      <th>도로폭</th>\n",
       "      <th>도로차로수</th>\n",
       "      <th>보차분리여부</th>\n",
       "    </tr>\n",
       "  </thead>\n",
       "  <tbody>\n",
       "    <tr>\n",
       "      <th>count</th>\n",
       "      <td>2159</td>\n",
       "      <td>592</td>\n",
       "      <td>550.000000</td>\n",
       "      <td>2159.000000</td>\n",
       "      <td>2158.0</td>\n",
       "      <td>2159</td>\n",
       "    </tr>\n",
       "    <tr>\n",
       "      <th>unique</th>\n",
       "      <td>13</td>\n",
       "      <td>31</td>\n",
       "      <td>NaN</td>\n",
       "      <td>NaN</td>\n",
       "      <td>6.0</td>\n",
       "      <td>3</td>\n",
       "    </tr>\n",
       "    <tr>\n",
       "      <th>top</th>\n",
       "      <td>서울특별시</td>\n",
       "      <td>차량소통 촉진 및 보행자 안전</td>\n",
       "      <td>NaN</td>\n",
       "      <td>NaN</td>\n",
       "      <td>1.0</td>\n",
       "      <td>N</td>\n",
       "    </tr>\n",
       "    <tr>\n",
       "      <th>freq</th>\n",
       "      <td>755</td>\n",
       "      <td>165</td>\n",
       "      <td>NaN</td>\n",
       "      <td>NaN</td>\n",
       "      <td>2042.0</td>\n",
       "      <td>1657</td>\n",
       "    </tr>\n",
       "    <tr>\n",
       "      <th>mean</th>\n",
       "      <td>NaN</td>\n",
       "      <td>NaN</td>\n",
       "      <td>2006.456364</td>\n",
       "      <td>5.917508</td>\n",
       "      <td>NaN</td>\n",
       "      <td>NaN</td>\n",
       "    </tr>\n",
       "    <tr>\n",
       "      <th>std</th>\n",
       "      <td>NaN</td>\n",
       "      <td>NaN</td>\n",
       "      <td>8.160330</td>\n",
       "      <td>2.297448</td>\n",
       "      <td>NaN</td>\n",
       "      <td>NaN</td>\n",
       "    </tr>\n",
       "    <tr>\n",
       "      <th>min</th>\n",
       "      <td>NaN</td>\n",
       "      <td>NaN</td>\n",
       "      <td>1990.000000</td>\n",
       "      <td>2.000000</td>\n",
       "      <td>NaN</td>\n",
       "      <td>NaN</td>\n",
       "    </tr>\n",
       "    <tr>\n",
       "      <th>25%</th>\n",
       "      <td>NaN</td>\n",
       "      <td>NaN</td>\n",
       "      <td>1999.000000</td>\n",
       "      <td>4.000000</td>\n",
       "      <td>NaN</td>\n",
       "      <td>NaN</td>\n",
       "    </tr>\n",
       "    <tr>\n",
       "      <th>50%</th>\n",
       "      <td>NaN</td>\n",
       "      <td>NaN</td>\n",
       "      <td>2002.000000</td>\n",
       "      <td>6.000000</td>\n",
       "      <td>NaN</td>\n",
       "      <td>NaN</td>\n",
       "    </tr>\n",
       "    <tr>\n",
       "      <th>75%</th>\n",
       "      <td>NaN</td>\n",
       "      <td>NaN</td>\n",
       "      <td>2016.000000</td>\n",
       "      <td>7.000000</td>\n",
       "      <td>NaN</td>\n",
       "      <td>NaN</td>\n",
       "    </tr>\n",
       "    <tr>\n",
       "      <th>max</th>\n",
       "      <td>NaN</td>\n",
       "      <td>NaN</td>\n",
       "      <td>2022.000000</td>\n",
       "      <td>32.000000</td>\n",
       "      <td>NaN</td>\n",
       "      <td>NaN</td>\n",
       "    </tr>\n",
       "  </tbody>\n",
       "</table>\n",
       "</div>"
      ],
      "text/plain": [
       "          시도명              지정사유         지정연도          도로폭   도로차로수 보차분리여부\n",
       "count    2159               592   550.000000  2159.000000  2158.0   2159\n",
       "unique     13                31          NaN          NaN     6.0      3\n",
       "top     서울특별시  차량소통 촉진 및 보행자 안전          NaN          NaN     1.0      N\n",
       "freq      755               165          NaN          NaN  2042.0   1657\n",
       "mean      NaN               NaN  2006.456364     5.917508     NaN    NaN\n",
       "std       NaN               NaN     8.160330     2.297448     NaN    NaN\n",
       "min       NaN               NaN  1990.000000     2.000000     NaN    NaN\n",
       "25%       NaN               NaN  1999.000000     4.000000     NaN    NaN\n",
       "50%       NaN               NaN  2002.000000     6.000000     NaN    NaN\n",
       "75%       NaN               NaN  2016.000000     7.000000     NaN    NaN\n",
       "max       NaN               NaN  2022.000000    32.000000     NaN    NaN"
      ]
     },
     "execution_count": 16,
     "metadata": {},
     "output_type": "execute_result"
    }
   ],
   "source": [
    "\n",
    "print(rd_data.columns)\n",
    "print(rd_data.dtypes)\n",
    "\n",
    "rd_data['시도명'] = rd_data['시도명'].astype('category')\n",
    "rd_data['도로차로수'] = rd_data['도로차로수'].astype('category')\n",
    "rd_data.describe(include='all')\n"
   ]
  },
  {
   "cell_type": "code",
   "execution_count": 18,
   "metadata": {},
   "outputs": [
    {
     "name": "stdout",
     "output_type": "stream",
     "text": [
      "시도명 False\n",
      "지정사유 True\n",
      "True     1567\n",
      "False     592\n",
      "Name: 지정사유, dtype: int64\n",
      "지정연도 True\n",
      "True     1609\n",
      "False     550\n",
      "Name: 지정연도, dtype: int64\n",
      "도로폭 False\n",
      "도로차로수 True\n",
      "False    2158\n",
      "True        1\n",
      "Name: 도로차로수, dtype: int64\n",
      "보차분리여부 False\n"
     ]
    }
   ],
   "source": [
    "#결측치 확인 \n",
    "\n",
    "for e in rd_data:\n",
    "    print(e, rd_data[e].hasnans)\n",
    "    if rd_data[e].hasnans ==True:\n",
    "        print(rd_data[e].isna().value_counts())"
   ]
  },
  {
   "cell_type": "code",
   "execution_count": 22,
   "metadata": {},
   "outputs": [
    {
     "name": "stdout",
     "output_type": "stream",
     "text": [
      "False    2158\n",
      "True        1\n",
      "Name: 도로차로수, dtype: int64\n"
     ]
    }
   ],
   "source": [
    "#도로차로수 결측치 확인 \n",
    "\n",
    "rd_data.replace({'도로차로수':'Y', '도로차로수':np.NaN}, 1, inplace=True)\n",
    "rd_data.replace({'도로차로수':'N', '도로차로수':np.NaN}, 0, inplace=True)\n",
    "\n",
    "print(rd_data['도로차로수'].isna().value_counts())"
   ]
  }
 ],
 "metadata": {
  "kernelspec": {
   "display_name": "Python 3",
   "language": "python",
   "name": "python3"
  },
  "language_info": {
   "codemirror_mode": {
    "name": "ipython",
    "version": 3
   },
   "file_extension": ".py",
   "mimetype": "text/x-python",
   "name": "python",
   "nbconvert_exporter": "python",
   "pygments_lexer": "ipython3",
   "version": "3.10.9"
  },
  "orig_nbformat": 4,
  "vscode": {
   "interpreter": {
    "hash": "08804ff59ba42edf801cabf0150036e830ede650fb4c74b1d2ab081b0e1a309a"
   }
  }
 },
 "nbformat": 4,
 "nbformat_minor": 2
}
