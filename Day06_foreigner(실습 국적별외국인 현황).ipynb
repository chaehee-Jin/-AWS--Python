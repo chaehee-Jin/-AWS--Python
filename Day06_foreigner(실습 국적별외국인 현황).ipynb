{
 "cells": [
  {
   "cell_type": "code",
   "execution_count": 3,
   "id": "1e4a91fc",
   "metadata": {},
   "outputs": [
    {
     "name": "stdout",
     "output_type": "stream",
     "text": [
      "['\"시점\",\"구·군별(1)\",베트남,중국,한국계 중국인,미국,인도네시아,필리핀,우즈베키스탄,타이완,일본,미얀마,한국계 러시아인,캄보디아,러시아(연방),네팔,캐나다,스리랑카,파키스탄,타이,몽골\\n', '\"시점\",\"구·군별(1)\",계,계,계,계,계,계,계,계,계,계,계,계,계,계,계,계,계,계,계\\n', '\"2020.10\",\"부산광역시\",11393,7503,5080,2608,2561,1749,1730,1425,1297,1241,1097,1038,1034,981,796,664,611,582,512\\n', '\"2020.11\",\"부산광역시\",11378,7445,5017,2615,2521,1735,1707,1417,1289,1196,1090,1024,1019,978,796,652,600,573,517\\n', '\"2020.12\",\"부산광역시\",11320,7352,4972,2644,2520,1729,1690,1403,1278,1205,1080,1013,992,977,797,636,597,566,514\\n', '\"2021.01\",\"부산광역시\",11305,7140,4923,2644,2519,1717,1658,1389,1288,1188,1073,1019,980,982,797,622,595,564,510\\n', '\"2021.02\",\"부산광역시\",11341,6904,4866,2647,2498,1702,1621,1390,1271,1184,1060,1023,966,970,787,612,588,556,512\\n', '\"2021.03\",\"부산광역시\",11423,7133,4810,2671,2507,1695,1613,1407,1351,1196,1061,1030,971,959,785,592,588,567,512\\n', '\"2021.04\",\"부산광역시\",11339,7139,4763,2685,2470,1679,1621,1399,1365,1191,1059,1053,979,935,787,581,586,575,514\\n', '\"2021.05\",\"부산광역시\",11238,7079,4705,2674,2410,1669,1659,1397,1368,1171,1046,1063,969,937,786,574,590,577,494\\n']\n"
     ]
    }
   ],
   "source": [
    "csv_data = []\n",
    "with open('국적별_외국인_현황_20230207151042.csv') as f:\n",
    "    for line in f:\n",
    "        csv_data.append(line)\n",
    "print(csv_data[:10])"
   ]
  },
  {
   "cell_type": "code",
   "execution_count": 47,
   "id": "ec94d178",
   "metadata": {},
   "outputs": [],
   "source": [
    "import pickle\n",
    "csv_data = []\n",
    "line_no = 0\n",
    "with open('국적별_외국인_현황_20230207151042.csv') as f:\n",
    "    for line in f:\n",
    "        line_no = line_no + 1\n",
    "        if line_no == 2:\n",
    "            continue\n",
    "        t = line[:-1].split(',')\n",
    "        del t[1]\n",
    "        csv_data.append(t)\n",
    "\n",
    "for e in csv_data:\n",
    "    e[0] = e[0].strip('\"')\n",
    "\n",
    "for e in csv_data[1:]:\n",
    "    for i, value in enumerate(e[1:]):\n",
    "        e[i+1]=int(value)\n",
    "\n",
    "\n",
    "#print(csv_data)\n",
    "with open('2020_10-2022_11.pickle','wb' ) as f:\n",
    "    pickle.dump(csv_data, f)\n",
    "\n"
   ]
  },
  {
   "cell_type": "code",
   "execution_count": 38,
   "id": "e4b034c6",
   "metadata": {},
   "outputs": [],
   "source": [
    "#csv로 저장하면 또 정제를 해야해서 피클을 사용함\n",
    "#메모리에 얹혀져있는 형상 그대로 저장 , 작업한 내용을 그대로 사용할 수 있음 \n",
    "\n"
   ]
  },
  {
   "cell_type": "code",
   "execution_count": 49,
   "id": "7f4d735d",
   "metadata": {},
   "outputs": [
    {
     "name": "stdout",
     "output_type": "stream",
     "text": [
      "[11232, 6897, 4364, 2961, 3047, 1750, 2006, 1356, 1589, 1430, 1149, 1127, 1041, 995, 895, 626, 615, 628, 581] 19\n",
      "['베트남', '중국', '한국계 중국인', '미국', '인도네시아', '필리핀', '우즈베키스탄', '타이완', '일본', '미얀마', '한국계 러시아인', '캄보디아', '러시아(연방)', '네팔', '캐나다', '스리랑카', '파키스탄', '타이', '몽골'] 19\n"
     ]
    }
   ],
   "source": [
    "#print(csv_data[:10])\n",
    "\n",
    "def get_numbers(data_list, year, month):\n",
    "    for e in data_list:\n",
    "        if '{}.{}'.format(year, month) in e:\n",
    "            return e\n",
    "    return None\n",
    "\n",
    "count_list = get_numbers(csv_data, 2022, 11)\n",
    "count_list = count_list[1:]\n",
    "country_list = csv_data[0][1:]\n",
    "print(count_list, len(count_list))\n",
    "print(country_list, len(country_list))"
   ]
  },
  {
   "cell_type": "code",
   "execution_count": null,
   "id": "e4c6d31d",
   "metadata": {},
   "outputs": [],
   "source": []
  }
 ],
 "metadata": {
  "kernelspec": {
   "display_name": "Python 3",
   "language": "python",
   "name": "python3"
  },
  "language_info": {
   "codemirror_mode": {
    "name": "ipython",
    "version": 3
   },
   "file_extension": ".py",
   "mimetype": "text/x-python",
   "name": "python",
   "nbconvert_exporter": "python",
   "pygments_lexer": "ipython3",
   "version": "3.10.9"
  },
  "vscode": {
   "interpreter": {
    "hash": "08804ff59ba42edf801cabf0150036e830ede650fb4c74b1d2ab081b0e1a309a"
   }
  }
 },
 "nbformat": 4,
 "nbformat_minor": 5
}
