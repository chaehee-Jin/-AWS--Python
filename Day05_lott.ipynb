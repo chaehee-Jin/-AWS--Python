{
 "cells": [
  {
   "cell_type": "code",
   "execution_count": null,
   "metadata": {},
   "outputs": [],
   "source": [
    "csv_data = []\n",
    "with open('lott.CSV') as f:\n",
    "    for line in f:\n",
    "        csv_data.append(line[:-1].split(','))\n",
    "        #csv_data.append(line.replace('\\n', '').split(','))\n",
    "print(csv_data[:3])\n",
    "\n",
    "int(csv_data[0][-1])"
   ]
  },
  {
   "cell_type": "code",
   "execution_count": null,
   "metadata": {},
   "outputs": [],
   "source": [
    "#중간값 구하기\n",
    "import math\n",
    "\n",
    "def mean(num_list):\n",
    "    return sum(num_list)/len(num_list)\n",
    "\n",
    "def mean_2(num_list):\n",
    "    sum_value = 0\n",
    "    for i in num_list:\n",
    "        sum_value = sum_value + i\n",
    "    return sum_value / len(num_list)\n",
    "\n",
    "def median(num_list):\n",
    "    num_list.sort()\n",
    "    if len(num_list)%2 ==1: \n",
    "\n",
    "        #몫만 가지고 계산할 경우 +1, -1을 굳이 안해줘도 됨 \n",
    "        i = (len(num_list))//2\n",
    "        return num_list[i]\n",
    "    else:\n",
    "        i = len(num_list)//2\n",
    "        return (num_list[i]+ num_list[i-1])/2\n",
    "\n",
    "\n",
    "def mean(number_list):\n",
    "    return sum(number_list)/len(number_list)\n",
    "\n",
    "def dev(num_list): #편차\n",
    "    m= mean(num_list)\n",
    "    return [x-m for x in num_list]\n",
    "\n",
    "def ver(num_list): # 분산\n",
    "    n = len(num_list)\n",
    "    d = dev(num_list)\n",
    "    return sum([x*x for x in d])/(n-1)\n",
    "\n",
    "def stdev(num_list): #표준편차\n",
    "    return math.sqrt(ver(num_list))\n"
   ]
  },
  {
   "cell_type": "code",
   "execution_count": null,
   "metadata": {},
   "outputs": [],
   "source": [
    "#빈도수(mode=최빈값, 숫자모드에서 가장 많이 나온 숫자): 숫자별 카운트(몇번이나 나왔나..)\n",
    "# 회차별 - 평균값, 표준편차\n",
    "\n",
    "#frequency = {}\n",
    "#for f in csv_data:\n",
    "#    last_element = int(f[-1])\n",
    "#    if last_element in frequency:\n",
    "#        frequency[last_element] += 1\n",
    "#    else:\n",
    "#        frequency[last_element] = 1\n",
    "#print(frequency)\n",
    "\n",
    "\n",
    "#문자열을 숫자로 고치기\n",
    "for game in csv_data:\n",
    "    for i,  num in enumerate(game):\n",
    "        game[i]= int(num) #형변환, 덮어쓰려면 인덱스가 필요함\n",
    "print(csv_data[:3])\n",
    "\n",
    "#for i in csv_data:\n",
    "#   for e in i:\n",
    "#       print(csv_data[:1])\n",
    "\n",
    "#이중배열을 사용하여 문자열을 숫자로 고치기\n",
    "for i in range(len(csv_data)):\n",
    "    for j in range(len(csv_data[i])):\n",
    "        csv_data[i][j] = int (csv_data[i][j])\n",
    "print(csv_data[:3])\n",
    "\n",
    "\n",
    "#평균값\n",
    "#import math\n",
    "\n",
    "#def mean(lott_list):\n",
    "#    return sum(lott_list)/len(lott_list)\n",
    "#def mean_2(lott_list):\n",
    "#   sum_value = 0\n",
    "#    for i in lott_list:\n",
    "#        sum_value = sum_value + i\n",
    "#    return sum_value / len(lott_list)\n",
    "    \n",
    "\n",
    "\n",
    "\n",
    "#표준편차\n",
    "#def stdev(lott_list):\n",
    "#    return math.sqrt(ver(lott_list))\n",
    "\n",
    "\n",
    "\n"
   ]
  },
  {
   "cell_type": "code",
   "execution_count": null,
   "metadata": {},
   "outputs": [],
   "source": [
    "#리스트를 하나의 리스트로 만들기 2차원 -> 1차원 배열\n",
    "#flat\n",
    "lott_num_flat = []\n",
    "for game in csv_data:\n",
    "    lott_num_flat = lott_num_flat + game\n",
    "print(lott_num_flat[:20])"
   ]
  },
  {
   "cell_type": "code",
   "execution_count": null,
   "metadata": {},
   "outputs": [],
   "source": [
    "\n",
    "#append방식 \n",
    "lott_num_flat2 =[]\n",
    "for i in range(len(csv_data)):\n",
    "    for j in range (len(csv_data)):\n",
    "        lott_num_flat2.append(csv_data[i][j])\n",
    "print(lott_num_flat2[:20])"
   ]
  },
  {
   "cell_type": "code",
   "execution_count": null,
   "metadata": {},
   "outputs": [],
   "source": [
    "#빈도수\n",
    "lott_num_domain = list(set(lott_num_flat))\n",
    "lott_num_freq = []\n",
    "for num in lott_num_domain:\n",
    "    x = lott_num_flat.count(num)\n",
    "    lott_num_freq.append(x)\n",
    "print(lott_num_domain[:10])\n",
    "print(lott_num_freq[:10])\n",
    "dict_freq = dict(zip(lott_num_domain, lott_num_freq))\n",
    "dict_freq = dict(sprted(dict_freq.items, key=lambda x: x[1], reverse= True))\n",
    "print(dict_freq)\n",
    "\n",
    "x = list(dict_freq.keys())\n",
    "print(x[:6])\n",
    "#mode = 43\n",
    "\n",
    "\n"
   ]
  },
  {
   "cell_type": "code",
   "execution_count": null,
   "metadata": {},
   "outputs": [],
   "source": [
    "num_freq2 = [0]*45\n",
    "print(num_freq2)\n",
    "for i in range(len(csv_data)):\n",
    "    for j in range (len(csv_data[i])):\n",
    "        n=  csv_data[i][j]\n",
    "        num_freq2[n-1] = num_freq2[n-1] + 1\n",
    "print(num_freq2[:10])\n",
    "\n",
    "        "
   ]
  },
  {
   "cell_type": "code",
   "execution_count": null,
   "metadata": {},
   "outputs": [],
   "source": [
    "#2. 회차별 - 평균값, 표준편차\n",
    "\n",
    "for game in engumerate (csv_data):\n",
    "    #print(mean(game), stdev(game))\n",
    "    print('회차:{}, \\t평균:{}, \\t표준편차:{}'.fromat(i+1, mean(game), stdev(game)))"
   ]
  }
 ],
 "metadata": {
  "kernelspec": {
   "display_name": "Python 3",
   "language": "python",
   "name": "python3"
  },
  "language_info": {
   "codemirror_mode": {
    "name": "ipython",
    "version": 3
   },
   "file_extension": ".py",
   "mimetype": "text/x-python",
   "name": "python",
   "nbconvert_exporter": "python",
   "pygments_lexer": "ipython3",
   "version": "3.10.9"
  },
  "orig_nbformat": 4,
  "vscode": {
   "interpreter": {
    "hash": "08804ff59ba42edf801cabf0150036e830ede650fb4c74b1d2ab081b0e1a309a"
   }
  }
 },
 "nbformat": 4,
 "nbformat_minor": 2
}
