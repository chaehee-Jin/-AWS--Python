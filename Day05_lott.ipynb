{
 "cells": [
  {
   "cell_type": "code",
   "execution_count": 7,
   "metadata": {},
   "outputs": [
    {
     "name": "stdout",
     "output_type": "stream",
     "text": [
      "[['5', '17', '26', '27', '35', '38', '1'], ['21', '26', '30', '32', '33', '35', '44'], ['6', '12', '31', '35', '38', '43', '17']]\n"
     ]
    },
    {
     "data": {
      "text/plain": [
       "1"
      ]
     },
     "execution_count": 7,
     "metadata": {},
     "output_type": "execute_result"
    }
   ],
   "source": [
    "csv_data = []\n",
    "with open('lott.CSV') as f:\n",
    "    for line in f:\n",
    "        csv_data.append(line[:-1].split(','))\n",
    "        #csv_data.append(line.replace('\\n', '').split(','))\n",
    "print(csv_data[:3])\n",
    "\n",
    "int(csv_data[0][-1])\n",
    "\n",
    "\n",
    "\n",
    "\n"
   ]
  },
  {
   "cell_type": "code",
   "execution_count": 15,
   "metadata": {},
   "outputs": [
    {
     "ename": "TypeError",
     "evalue": "unsupported operand type(s) for +: 'set' and 'list'",
     "output_type": "error",
     "traceback": [
      "\u001b[1;31m---------------------------------------------------------------------------\u001b[0m",
      "\u001b[1;31mTypeError\u001b[0m                                 Traceback (most recent call last)",
      "Cell \u001b[1;32mIn[15], line 21\u001b[0m\n\u001b[0;32m     19\u001b[0m \u001b[39mfor\u001b[39;00m i \u001b[39min\u001b[39;00m csv_data:\n\u001b[0;32m     20\u001b[0m     list_float \u001b[39m=\u001b[39m list_float \u001b[39m+\u001b[39m i\n\u001b[1;32m---> 21\u001b[0m count_set \u001b[39m=\u001b[39m \u001b[39mset\u001b[39;49m(list_float) \u001b[39m+\u001b[39;49m i\n\u001b[0;32m     23\u001b[0m \u001b[39mfor\u001b[39;00m e \u001b[39min\u001b[39;00m count_set:\n\u001b[0;32m     24\u001b[0m     \u001b[39mprint\u001b[39m(\u001b[39m'\u001b[39m\u001b[39mcount:\u001b[39m\u001b[39m'\u001b[39m, i, \u001b[39m'\u001b[39m\u001b[39m:\u001b[39m\u001b[39m'\u001b[39m, lott_list\u001b[39m.\u001b[39mcount())\n",
      "\u001b[1;31mTypeError\u001b[0m: unsupported operand type(s) for +: 'set' and 'list'"
     ]
    }
   ],
   "source": [
    "#빈도수(mode): 숫자별 카운트(몇번이나 나왔나..)\n",
    "# 회차별 - 평균값, 표준편차\n",
    "\n",
    "lott_list = []\n",
    "\n",
    "#빈도수\n",
    "#frequency = {}\n",
    "#for f in csv_data:\n",
    "#    last_element = int(f[-1])\n",
    "#    if last_element in frequency:\n",
    "#        frequency[last_element] += 1\n",
    "#    else:\n",
    "#        frequency[last_element] = 1\n",
    "#print(frequency)\n",
    "\n",
    "\n",
    "\n",
    "list_float = []\n",
    "for i in csv_data:\n",
    "    list_float = list_float + i\n",
    "count_set = set(list_float) + i\n",
    "\n",
    "for e in count_set:\n",
    "    print('count:', i, ':', lott_list.count())\n",
    "   \n",
    "\n",
    "print(list_float)\n",
    "\n",
    "\n",
    "#for i in csv_data:\n",
    "#   for e in i:\n",
    "#       print(csv_data[:1])\n",
    "  \n",
    "\n",
    "#평균값\n",
    "import math\n",
    "\n",
    "def mean(lott_list):\n",
    "    return sum(lott_list)/len(lott_list)\n",
    "def mean_2(lott_list):\n",
    "    sum_value = 0\n",
    "    for i in lott_list:\n",
    "        sum_value = sum_value + i\n",
    "    return sum_value / len(lott_list)\n",
    "    \n",
    "\n",
    "\n",
    "\n",
    "#표준편차\n",
    "def stdev(lott_list):\n",
    "    return math.sqrt(ver(lott_list))\n",
    "\n",
    "\n",
    "\n"
   ]
  }
 ],
 "metadata": {
  "kernelspec": {
   "display_name": "Python 3",
   "language": "python",
   "name": "python3"
  },
  "language_info": {
   "codemirror_mode": {
    "name": "ipython",
    "version": 3
   },
   "file_extension": ".py",
   "mimetype": "text/x-python",
   "name": "python",
   "nbconvert_exporter": "python",
   "pygments_lexer": "ipython3",
   "version": "3.10.9"
  },
  "orig_nbformat": 4,
  "vscode": {
   "interpreter": {
    "hash": "08804ff59ba42edf801cabf0150036e830ede650fb4c74b1d2ab081b0e1a309a"
   }
  }
 },
 "nbformat": 4,
 "nbformat_minor": 2
}
