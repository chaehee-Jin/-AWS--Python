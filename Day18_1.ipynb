{
 "cells": [
  {
   "cell_type": "code",
   "execution_count": 19,
   "metadata": {},
   "outputs": [
    {
     "name": "stdout",
     "output_type": "stream",
     "text": [
      "     시점      세대수     인구_남     인구_여      한국인    외국인    인구밀도\n",
      "1  2018  1480468  1721327  1772692  3441453  52566  769.94\n",
      "2  2019  1497908  1704098  1762465  3413841  52722  770.07\n",
      "3  2020  1530431  1686412  1752298  3391946  46764  770.07\n"
     ]
    }
   ],
   "source": [
    "import numpy as np\n",
    "import pandas as pd\n",
    "import matplotlib.pyplot as plt\n",
    "\n",
    "pop_df = pd.read_csv('등록인구추이_20230223163325.csv', encoding ='cp949')\n",
    "pop_df.drop(0, axis=0, inplace=True)\n",
    "pop_df.columns = ['시점', '세대수', '인구_남', '인구_여', '한국인', '외국인', '인구밀도']\n",
    "print(pop_df.head())"
   ]
  },
  {
   "cell_type": "code",
   "execution_count": 20,
   "metadata": {},
   "outputs": [
    {
     "name": "stdout",
     "output_type": "stream",
     "text": [
      "     시점      세대수     인구_남     인구_여      한국인    외국인    인구밀도\n",
      "1  2018  1480468  1721327  1772692  3441453  52566  769.94\n",
      "2  2019  1497908  1704098  1762465  3413841  52722  770.07\n",
      "3  2020  1530431  1686412  1752298  3391946  46764  770.07\n"
     ]
    }
   ],
   "source": [
    "print(pop_df)"
   ]
  },
  {
   "attachments": {},
   "cell_type": "markdown",
   "metadata": {},
   "source": [
    "### 년도별 \n",
    "- 남/ 여 인구비율 - 인구_남, 인구_여 column 다음에 위치\n",
    "- 한국인/ 외국인 비율 = 인구밀도 앞에 위치"
   ]
  },
  {
   "cell_type": "code",
   "execution_count": 21,
   "metadata": {},
   "outputs": [],
   "source": [
    "#pop_df['인구_남']\n",
    "#pop_df.loc[:, '인구_남']\n",
    "#pop_df.iloc[:2]\n",
    "v = pop_df['인구_남'].astype(np.float64) / pop_df['인구_여']. astype(np.float64)\n",
    "#pop_df.insert(4,'인구_남/여', v)\n",
    "\n"
   ]
  },
  {
   "cell_type": "code",
   "execution_count": 22,
   "metadata": {},
   "outputs": [
    {
     "data": {
      "text/html": [
       "<div>\n",
       "<style scoped>\n",
       "    .dataframe tbody tr th:only-of-type {\n",
       "        vertical-align: middle;\n",
       "    }\n",
       "\n",
       "    .dataframe tbody tr th {\n",
       "        vertical-align: top;\n",
       "    }\n",
       "\n",
       "    .dataframe thead th {\n",
       "        text-align: right;\n",
       "    }\n",
       "</style>\n",
       "<table border=\"1\" class=\"dataframe\">\n",
       "  <thead>\n",
       "    <tr style=\"text-align: right;\">\n",
       "      <th></th>\n",
       "      <th>시점</th>\n",
       "      <th>세대수</th>\n",
       "      <th>인구_남</th>\n",
       "      <th>인구_여</th>\n",
       "      <th>한국인</th>\n",
       "      <th>외국인</th>\n",
       "      <th>인구밀도</th>\n",
       "      <th>한국인/외국인</th>\n",
       "    </tr>\n",
       "  </thead>\n",
       "  <tbody>\n",
       "    <tr>\n",
       "      <th>1</th>\n",
       "      <td>2018</td>\n",
       "      <td>1480468</td>\n",
       "      <td>1721327</td>\n",
       "      <td>1772692</td>\n",
       "      <td>3441453</td>\n",
       "      <td>52566</td>\n",
       "      <td>769.94</td>\n",
       "      <td>0.971024</td>\n",
       "    </tr>\n",
       "    <tr>\n",
       "      <th>2</th>\n",
       "      <td>2019</td>\n",
       "      <td>1497908</td>\n",
       "      <td>1704098</td>\n",
       "      <td>1762465</td>\n",
       "      <td>3413841</td>\n",
       "      <td>52722</td>\n",
       "      <td>770.07</td>\n",
       "      <td>0.966883</td>\n",
       "    </tr>\n",
       "    <tr>\n",
       "      <th>3</th>\n",
       "      <td>2020</td>\n",
       "      <td>1530431</td>\n",
       "      <td>1686412</td>\n",
       "      <td>1752298</td>\n",
       "      <td>3391946</td>\n",
       "      <td>46764</td>\n",
       "      <td>770.07</td>\n",
       "      <td>0.962400</td>\n",
       "    </tr>\n",
       "  </tbody>\n",
       "</table>\n",
       "</div>"
      ],
      "text/plain": [
       "     시점      세대수     인구_남     인구_여      한국인    외국인    인구밀도   한국인/외국인\n",
       "1  2018  1480468  1721327  1772692  3441453  52566  769.94  0.971024\n",
       "2  2019  1497908  1704098  1762465  3413841  52722  770.07  0.966883\n",
       "3  2020  1530431  1686412  1752298  3391946  46764  770.07  0.962400"
      ]
     },
     "execution_count": 22,
     "metadata": {},
     "output_type": "execute_result"
    }
   ],
   "source": [
    "pop_df['한국인'].astype(np.float64)/ pop_df['외국인'].astype(np.float64)\n",
    "pop_df.insert(7,'한국인/외국인', v)\n",
    "pop_df"
   ]
  },
  {
   "cell_type": "code",
   "execution_count": 23,
   "metadata": {},
   "outputs": [
    {
     "data": {
      "text/plain": [
       "시점          object\n",
       "세대수         object\n",
       "인구_남        object\n",
       "인구_여        object\n",
       "한국인         object\n",
       "외국인         object\n",
       "인구밀도        object\n",
       "한국인/외국인    float64\n",
       "dtype: object"
      ]
     },
     "execution_count": 23,
     "metadata": {},
     "output_type": "execute_result"
    }
   ],
   "source": [
    "pop_df.dtypes"
   ]
  },
  {
   "cell_type": "code",
   "execution_count": 26,
   "metadata": {},
   "outputs": [
    {
     "name": "stdout",
     "output_type": "stream",
     "text": [
      "[0.9710243  0.96688331 0.96240023]\n",
      "[68.27285243 68.46390588 60.7269469 ]\n"
     ]
    }
   ],
   "source": [
    "pop_np = pop_df.to_numpy().astype(np.float64)\n",
    "print(pop_np[:,2]/pop_np[:,3])\n",
    "print(pop_np[:,5]/pop_np[:,6])"
   ]
  }
 ],
 "metadata": {
  "kernelspec": {
   "display_name": "Python 3",
   "language": "python",
   "name": "python3"
  },
  "language_info": {
   "codemirror_mode": {
    "name": "ipython",
    "version": 3
   },
   "file_extension": ".py",
   "mimetype": "text/x-python",
   "name": "python",
   "nbconvert_exporter": "python",
   "pygments_lexer": "ipython3",
   "version": "3.10.9"
  },
  "orig_nbformat": 4,
  "vscode": {
   "interpreter": {
    "hash": "08804ff59ba42edf801cabf0150036e830ede650fb4c74b1d2ab081b0e1a309a"
   }
  }
 },
 "nbformat": 4,
 "nbformat_minor": 2
}
