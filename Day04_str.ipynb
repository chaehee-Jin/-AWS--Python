{
 "cells": [
  {
   "cell_type": "code",
   "execution_count": 3,
   "id": "60fffc15",
   "metadata": {},
   "outputs": [
    {
     "name": "stdout",
     "output_type": "stream",
     "text": [
      "[['5', '17', '26', '27', '35', '38', '1'], ['21', '26', '30', '32', '33', '35', '44'], ['6', '12', '31', '35', '38', '43', '17']]\n"
     ]
    },
    {
     "data": {
      "text/plain": [
       "1"
      ]
     },
     "execution_count": 3,
     "metadata": {},
     "output_type": "execute_result"
    }
   ],
   "source": [
    "csv_data = []\n",
    "with open('lott.CSV') as f:\n",
    "    for line in f:\n",
    "        csv_data.append(line[:-1].split(','))\n",
    "        #csv_data.append(line.replace('\\n', '')).split(','))\n",
    "print(csv_data[:3])\n",
    "int (csv_data[0][-1])"
   ]
  },
  {
   "cell_type": "code",
   "execution_count": 4,
   "id": "60326f06",
   "metadata": {},
   "outputs": [
    {
     "name": "stdout",
     "output_type": "stream",
     "text": [
      "[[5, 17, 26, 27, 35, 38, 1], [21, 26, 30, 32, 33, 35, 44], [6, 12, 31, 35, 38, 43, 17]]\n"
     ]
    }
   ],
   "source": [
    "#문자열을 반복문을 사용하여 int로 변환\n",
    "# e가 키값, e_i는 벨류값\n",
    "for e in csv_data:\n",
    "    for i, e_i in enumerate(e):\n",
    "        e[i] = int(e_i)\n",
    "\n",
    "print(csv_data[:3])"
   ]
  },
  {
   "cell_type": "code",
   "execution_count": 6,
   "id": "f7af5959",
   "metadata": {},
   "outputs": [
    {
     "name": "stdout",
     "output_type": "stream",
     "text": [
      "[1, 5, 17, 26, 27, 35, 38]\n",
      "21.285714285714285\n",
      "21.285714285714285\n",
      "None\n",
      "[5, 17, 26, 27, 35, 38]\n",
      "26\n",
      "26.5\n",
      "[-19.666666666666668, -7.666666666666668, 1.3333333333333321, 2.333333333333332, 10.333333333333332, 13.333333333333332]\n",
      "147.46666666666664\n",
      "12.14358541233464\n"
     ]
    }
   ],
   "source": [
    "#평균값 구하기\n",
    "import math\n",
    "\n",
    "def mean(num_list):\n",
    "    return sum(num_list)/len(num_list)\n",
    "\n",
    "def mean_2(num_list):\n",
    "    sum_value = 0\n",
    "    for i in num_list:\n",
    "        sum_value = sum_value + i\n",
    "    return sum_value / len(num_list)\n",
    "\n",
    "#중간값 구하기\n",
    "def median(num_list):\n",
    "    num_list.sort()\n",
    "    if len(num_list)%2 ==1: \n",
    "\n",
    "        #몫만 가지고 계산할 경우 +1, -1을 굳이 안해줘도 됨 \n",
    "        i = (len(num_list))//2\n",
    "        return num_list[i]\n",
    "    else:\n",
    "        i = len(num_list)//2\n",
    "        return (num_list[i]+ num_list[i-1])/2\n",
    "\n",
    "\n",
    "def mean(number_list):\n",
    "    return sum(number_list)/len(number_list)\n",
    "\n",
    "def dev(num_list): #편차\n",
    "    m= mean(num_list)\n",
    "    return [x-m for x in num_list]\n",
    "\n",
    "def ver(num_list): # 분산\n",
    "    n = len(num_list)\n",
    "    d = dev(num_list)\n",
    "    return sum([x*x for x in d])/(n-1)\n",
    "\n",
    "def stdev(num_list):\n",
    "    return math.sqrt(ver(num_list))\n",
    "\n",
    "      \n",
    "\n",
    "\n",
    "game1 = csv_data[0]\n",
    "print(game1)\n",
    "print(mean(game1))\n",
    "print(mean_2(game1))\n",
    "print(game1.sort())\n",
    "print(game1[1:])\n",
    "#중간값구하기\n",
    "#짝수: 양쪽의 값을 더해서 평균값을 구한다 \n",
    "#홀수: 양쪽 값의 중간값을 구하기\n",
    "print(median([1, 5, 17, 26, 27, 35, 38]))\n",
    "print(median([5, 17, 26, 27, 35, 38]))\n",
    "\n",
    "# asert :샘플데이터를 제대로 처리하는지 바로바로 알수 있음\n",
    "assert median([5, 17, 26, 27, 35, 38])==26.5\n",
    "assert median([5, 17, 26, 27, 35, 38, 1])==26\n",
    "\n",
    "print(dev([1, 5, 17, 26, 27, 35, 38]))\n",
    "print(ver([1, 5, 17, 26, 27, 35, 38]))\n",
    "print(stdev([1, 5, 17, 26, 27, 35, 38]))\n",
    "\n",
    "\n"
   ]
  },
  {
   "cell_type": "code",
   "execution_count": 36,
   "id": "a52a97d3",
   "metadata": {},
   "outputs": [
    {
     "name": "stdout",
     "output_type": "stream",
     "text": [
      "[1, 5, 17, 26, 27, 35, 38]\n",
      "after sorted: [5, 17, 26, 27, 35, 38, 1]\n",
      "[1, 5, 17, 26, 27, 35, 38]\n"
     ]
    }
   ],
   "source": [
    "#in-place\n",
    "list_a =[5, 17, 26, 27, 35, 38, 1]\n",
    "#복사본 반환\n",
    "print(sorted(list_a))\n",
    "print('after sorted:', list_a)\n",
    "\n",
    "list_a.sort()\n",
    "print(list_a)"
   ]
  },
  {
   "cell_type": "code",
   "execution_count": 39,
   "id": "f161e3a6",
   "metadata": {},
   "outputs": [
    {
     "name": "stdout",
     "output_type": "stream",
     "text": [
      "list_a: [5, 17, 26, 27, 35, 38, 1]\n",
      "list_b: [5, 17, 26, 27, 35, 38, 1]\n",
      "list_a: [100, 17, 26, 27, 35, 38, 1]\n",
      "list_b: [100, 17, 26, 27, 35, 38, 1]\n"
     ]
    }
   ],
   "source": [
    "#referance\n",
    "list_a = [5, 17, 26, 27, 35, 38, 1]\n",
    "list_b = list_a #shellow copy, 얕은복사\n",
    "print('list_a:', list_a)\n",
    "print('list_b:', list_b)\n",
    "list_a[0]= 100\n",
    "print('list_a:', list_a)\n",
    "print('list_b:', list_b)"
   ]
  },
  {
   "cell_type": "code",
   "execution_count": 41,
   "id": "18fcab32",
   "metadata": {},
   "outputs": [
    {
     "name": "stdout",
     "output_type": "stream",
     "text": [
      "list_a: [5, 17, 26, 27, 35, 38, 1]\n",
      "list_b: [5, 17, 26, 27, 35, 38, 1]\n",
      "list_a: [100, 17, 26, 27, 35, 38, 1]\n",
      "list_b: [5, 17, 26, 27, 35, 38, 1]\n"
     ]
    }
   ],
   "source": [
    "#referance, deep copy, 깊은 복사\n",
    "#복사를 떠서 값이 따로움직이는지 확인을 하면된다\n",
    "list_a = [5, 17, 26, 27, 35, 38, 1]\n",
    "list_b = []\n",
    "for i in list_a:\n",
    "    list_b.append(i)\n",
    "print('list_a:', list_a)\n",
    "print('list_b:', list_b)\n",
    "list_a[0]= 100\n",
    "print('list_a:', list_a)\n",
    "print('list_b:', list_b)"
   ]
  },
  {
   "cell_type": "code",
   "execution_count": null,
   "id": "0420f2dc",
   "metadata": {},
   "outputs": [],
   "source": []
  }
 ],
 "metadata": {
  "kernelspec": {
   "display_name": "Python 3",
   "language": "python",
   "name": "python3"
  },
  "language_info": {
   "codemirror_mode": {
    "name": "ipython",
    "version": 3
   },
   "file_extension": ".py",
   "mimetype": "text/x-python",
   "name": "python",
   "nbconvert_exporter": "python",
   "pygments_lexer": "ipython3",
   "version": "3.10.9"
  },
  "vscode": {
   "interpreter": {
    "hash": "08804ff59ba42edf801cabf0150036e830ede650fb4c74b1d2ab081b0e1a309a"
   }
  }
 },
 "nbformat": 4,
 "nbformat_minor": 5
}
