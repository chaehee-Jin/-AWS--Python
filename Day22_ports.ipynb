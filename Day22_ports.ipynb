{
 "cells": [
  {
   "cell_type": "code",
   "execution_count": 16,
   "metadata": {},
   "outputs": [
    {
     "data": {
      "text/html": [
       "<div>\n",
       "<style scoped>\n",
       "    .dataframe tbody tr th:only-of-type {\n",
       "        vertical-align: middle;\n",
       "    }\n",
       "\n",
       "    .dataframe tbody tr th {\n",
       "        vertical-align: top;\n",
       "    }\n",
       "\n",
       "    .dataframe thead th {\n",
       "        text-align: right;\n",
       "    }\n",
       "</style>\n",
       "<table border=\"1\" class=\"dataframe\">\n",
       "  <thead>\n",
       "    <tr style=\"text-align: right;\">\n",
       "      <th></th>\n",
       "      <th>시점</th>\n",
       "      <th>공항</th>\n",
       "      <th>항구</th>\n",
       "    </tr>\n",
       "  </thead>\n",
       "  <tbody>\n",
       "    <tr>\n",
       "      <th>0</th>\n",
       "      <td>2022.01</td>\n",
       "      <td>938</td>\n",
       "      <td>3279</td>\n",
       "    </tr>\n",
       "    <tr>\n",
       "      <th>1</th>\n",
       "      <td>2022.02</td>\n",
       "      <td>855</td>\n",
       "      <td>3179</td>\n",
       "    </tr>\n",
       "    <tr>\n",
       "      <th>2</th>\n",
       "      <td>2022.03</td>\n",
       "      <td>986</td>\n",
       "      <td>3418</td>\n",
       "    </tr>\n",
       "    <tr>\n",
       "      <th>3</th>\n",
       "      <td>2022.04</td>\n",
       "      <td>1823</td>\n",
       "      <td>3158</td>\n",
       "    </tr>\n",
       "    <tr>\n",
       "      <th>4</th>\n",
       "      <td>2022.05</td>\n",
       "      <td>3418</td>\n",
       "      <td>3231</td>\n",
       "    </tr>\n",
       "  </tbody>\n",
       "</table>\n",
       "</div>"
      ],
      "text/plain": [
       "        시점    공항    항구\n",
       "0  2022.01   938  3279\n",
       "1  2022.02   855  3179\n",
       "2  2022.03   986  3418\n",
       "3  2022.04  1823  3158\n",
       "4  2022.05  3418  3231"
      ]
     },
     "execution_count": 16,
     "metadata": {},
     "output_type": "execute_result"
    }
   ],
   "source": [
    "import numpy as np\n",
    "import pandas as pd\n",
    "import matplotlib.pyplot as plt\n",
    "\n",
    "pd_data = pd.read_csv('내국인출국교통수단별_20230302165050.csv', encoding='cp949', header=1)\n",
    "pd_data.columns = ['시점', '공항', '항구']\n",
    "pd_data.head()\n",
    "\n",
    "#공항, 항구 년중 월별 출국 인원 plot\n",
    "#normalization / standardization 적용, plot\n",
    "#2018부터 2022년까지 추이 보기\n",
    "#2022년 연말 공항 이용객이 증가하였음\n",
    "#연말에 출국 인원이 늘어난 것이 항구 출국인원에도 반영이 되었는가\n",
    "# 연말에 출국인원이 증가하는 것이 일반적인 추이인가  --> 코로나 이전/이후 연도별 추이"
   ]
  },
  {
   "cell_type": "code",
   "execution_count": 17,
   "metadata": {},
   "outputs": [
    {
     "name": "stdout",
     "output_type": "stream",
     "text": [
      "        시점      공항     항구\n",
      "0  2015.01  226687  50545\n",
      "1  2015.02  173950  44152\n",
      "2  2015.03  175351  36822\n",
      "3  2015.04  195851  46589\n",
      "4  2015.05  199356  54680\n",
      "(96, 3)\n"
     ]
    }
   ],
   "source": [
    "import numpy as np\n",
    "import pandas as pd\n",
    "import matplotlib.pyplot as plt\n",
    "\n",
    "pd_data = pd.read_csv('내국인출국교통수단별_20230302171244.csv', encoding='cp949', header=1)\n",
    "pd_data.columns = ['시점', '공항', '항구']\n",
    "print(pd_data.head())\n",
    "print(pd_data.shape)\n",
    "\n",
    "\n",
    "#공항, 항구 년중 월별 출국 인원 plot\n",
    "#normalization / standardization 적용, plot\n",
    "#2018부터 2022년까지 추이 보기"
   ]
  },
  {
   "cell_type": "code",
   "execution_count": 22,
   "metadata": {},
   "outputs": [
    {
     "data": {
      "text/plain": [
       "<bound method IndexOpsMixin.value_counts of 0     50545\n",
       "1     44152\n",
       "2     36822\n",
       "3     46589\n",
       "4     54680\n",
       "      ...  \n",
       "91     3533\n",
       "92     2682\n",
       "93     3494\n",
       "94     3687\n",
       "95     5760\n",
       "Name: 항구, Length: 96, dtype: int64>"
      ]
     },
     "execution_count": 22,
     "metadata": {},
     "output_type": "execute_result"
    }
   ],
   "source": [
    "#pd_data['시점'].value_counts\n",
    "#pd_data['공항'].value_counts\n",
    "pd_data['항구'].value_counts"
   ]
  },
  {
   "cell_type": "code",
   "execution_count": null,
   "metadata": {},
   "outputs": [],
   "source": [
    "pd_data.dtypes\n",
    "yr = (pd_data)\n",
    "ms = (pd_data['시점']%1)*100\n",
    "#print(ms)\n",
    "\n",
    "str_time = pd_data['시점'].astype('str')\n",
    "yr = str_time.apply(lambda x: x.split(',')[0])\n",
    "ms = str_time.apply(lambda x: x.split(',')[1])\n",
    "#print(ms)\n",
    "\n",
    "print(pd_data['시점'])\n",
    "#dt_time = pd.to_datetime(pd_data['시점'])"
   ]
  }
 ],
 "metadata": {
  "kernelspec": {
   "display_name": "Python 3",
   "language": "python",
   "name": "python3"
  },
  "language_info": {
   "codemirror_mode": {
    "name": "ipython",
    "version": 3
   },
   "file_extension": ".py",
   "mimetype": "text/x-python",
   "name": "python",
   "nbconvert_exporter": "python",
   "pygments_lexer": "ipython3",
   "version": "3.10.9"
  },
  "orig_nbformat": 4,
  "vscode": {
   "interpreter": {
    "hash": "08804ff59ba42edf801cabf0150036e830ede650fb4c74b1d2ab081b0e1a309a"
   }
  }
 },
 "nbformat": 4,
 "nbformat_minor": 2
}
