{
 "cells": [
  {
   "cell_type": "code",
   "execution_count": 2,
   "metadata": {},
   "outputs": [
    {
     "name": "stdout",
     "output_type": "stream",
     "text": [
      "[]\n",
      "['a']\n"
     ]
    }
   ],
   "source": [
    "#python List\n",
    "lista = []\n",
    "print(lista)\n",
    "\n",
    "lista.append('a')\n",
    "print(lista)"
   ]
  },
  {
   "cell_type": "code",
   "execution_count": 10,
   "metadata": {},
   "outputs": [
    {
     "name": "stdout",
     "output_type": "stream",
     "text": [
      "['a'] <class 'numpy.ndarray'>\n",
      "[0 1 2 3 4]\n",
      "[1 4]\n",
      "[0 2 4]\n",
      "[3 4]\n"
     ]
    }
   ],
   "source": [
    "#numpy ndarray\n",
    "import numpy as np\n",
    "\n",
    "array1 = np.array(lista)\n",
    "array2 = np.array([1,2,3,4])\n",
    "array3 = np.array([x for x in range(5)])\n",
    "\n",
    "print(array1, type(array1))\n",
    "print(array3)\n",
    "#array1.append('c')\n",
    "#print(array1)\n",
    "print(array3[[1,4]])\n",
    "print(array3[array3%2==0])\n",
    "print(array3[array3>2])"
   ]
  },
  {
   "cell_type": "code",
   "execution_count": 14,
   "metadata": {},
   "outputs": [
    {
     "name": "stdout",
     "output_type": "stream",
     "text": [
      "3\n",
      "4\n"
     ]
    }
   ],
   "source": [
    "# for , if\n",
    "#for i in array3:\n",
    "#    print(i)\n",
    "\n",
    "for i in range(5):   #np.arrange(5)\n",
    "    if i>2:\n",
    "        print(i)"
   ]
  },
  {
   "cell_type": "code",
   "execution_count": 20,
   "metadata": {},
   "outputs": [
    {
     "name": "stdout",
     "output_type": "stream",
     "text": [
      "return_value: 200\n"
     ]
    }
   ],
   "source": [
    "#function\n",
    "\n",
    "def function_name(n):\n",
    "   return n*10\n",
    "\n",
    "return_value = function_name(20)\n",
    "print('return_value:', return_value)\n",
    "\n",
    "assert function_name(100) ==1000"
   ]
  },
  {
   "cell_type": "code",
   "execution_count": 36,
   "metadata": {},
   "outputs": [
    {
     "name": "stdout",
     "output_type": "stream",
     "text": [
      "[6]\n",
      "[6, 34]\n",
      "[6, 34, 11]\n",
      "[6, 34, 11, 98]\n",
      "[6, 34, 11, 98, 52]\n",
      "[6, 34, 11, 98, 52, 34]\n",
      "[6, 34, 11, 98, 52, 34, 13]\n",
      "[6, 34, 11, 98, 52, 34, 13, 4]\n",
      "[6, 34, 11, 98, 52, 34, 13, 4, 48]\n",
      "[6, 34, 11, 98, 52, 34, 13, 4, 48, 68]\n",
      "[71, 42, 43, 6, 20, 17, 43, 71, 42, 89]\n",
      "[98 52 68]\n",
      "3\n"
     ]
    }
   ],
   "source": [
    "import random\n",
    "\n",
    "random.seed(123)\n",
    "listb = []\n",
    "for i in range(10):\n",
    "    listb.append(random.randint(0, 100))\n",
    "    print(listb)\n",
    "\n",
    "listc = [ random.randint(0, 100) for _ in range(10)]\n",
    "print(listc) \n",
    "\n",
    "#listb에서 50보다 큰 것을 출력\n",
    "\n",
    "listb_np = np.array(listb)\n",
    "print(listb_np[listb_np>50])\n",
    "\n",
    "#50보다 큰것의 갯수\n",
    "print(len(listb_np[listb_np>50]))\n"
   ]
  }
 ],
 "metadata": {
  "kernelspec": {
   "display_name": "Python 3",
   "language": "python",
   "name": "python3"
  },
  "language_info": {
   "codemirror_mode": {
    "name": "ipython",
    "version": 3
   },
   "file_extension": ".py",
   "mimetype": "text/x-python",
   "name": "python",
   "nbconvert_exporter": "python",
   "pygments_lexer": "ipython3",
   "version": "3.10.9"
  },
  "orig_nbformat": 4,
  "vscode": {
   "interpreter": {
    "hash": "08804ff59ba42edf801cabf0150036e830ede650fb4c74b1d2ab081b0e1a309a"
   }
  }
 },
 "nbformat": 4,
 "nbformat_minor": 2
}
