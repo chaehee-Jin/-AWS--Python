{
 "cells": [
  {
   "attachments": {},
   "cell_type": "markdown",
   "metadata": {},
   "source": [
    "## 전국 횡단 보도 표준 데이터 \n",
    "\n",
    "1. 횡단보도 연장, 녹색신호시간: 상관도\n",
    "\n",
    "2. 자전거 횡단도 겸용 비율(전체대비)\n",
    "\n",
    "3. 차로수별 자전거 횡단도 카운트/비율\n",
    "\n",
    "4. 차로수별 보행자 신호등 유무 카운트/ 비율 \n",
    "\n",
    "5. 차로수별 음향신호기 설치 유무 카운트/ 비율\n",
    "\n",
    "** 화면에 츌력\n",
    "1. 상관도 수치\n",
    "2. 비율 수치\n",
    "3. 카운트 비율 \n"
   ]
  },
  {
   "cell_type": "code",
   "execution_count": 57,
   "metadata": {},
   "outputs": [],
   "source": [
    "import numpy as np\n",
    "import math\n",
    "np.set_printoptions(precision=5, suppress=5)\n",
    "\n",
    "def mean(num_list):\n",
    "    return sum(num_list)/len(num_list)\n",
    "\n",
    "def mean_2(num_list):\n",
    "    sum_value = 0\n",
    "    for i in num_list:\n",
    "        sum_value = sum_value + i\n",
    "    return sum_value / len(num_list)\n",
    "\n",
    "\n",
    "def median(num_list):\n",
    "    num_list.sort()\n",
    "    if len(num_list)%2 ==1: \n",
    "\n",
    "        #몫만 가지고 계산할 경우 +1, -1을 굳이 안해줘도 됨 \n",
    "        i = (len(num_list))//2\n",
    "        return num_list[i]\n",
    "    else:\n",
    "        i = len(num_list)//2\n",
    "        return (num_list[i]+ num_list[i-1])/2\n",
    "\n",
    "\n",
    "def mean(number_list):\n",
    "    return sum(number_list)/len(number_list)\n",
    "\n",
    "def dev(num_list): #편차\n",
    "    m= mean(num_list)\n",
    "    return [x-m for x in num_list]\n",
    "\n",
    "def ver(num_list): # 분산 #제곱\n",
    "    n = len(num_list)\n",
    "    d = dev(num_list)\n",
    "    return sum([x*x for x in d])/(n-1)\n",
    "\n",
    "def stdev(num_list): #표준편차\n",
    "    return math.sqrt(ver(num_list))\n",
    "\n",
    "def covar(list_1, list_2): #공분산 #따로 dev를 2개 구해서 짝을 이뤄서 곱해서 나눔 \n",
    "    n = len(list_1)\n",
    "    list_1_dev = dev(list_1)\n",
    "    list_2_dev= dev(list_2)\n",
    "    return sum(x * y for x, y in zip (list_1_dev, list_2_dev))/ (n-1)\n",
    "\n",
    "def corel(list_1, list_2): # 상관도(-1 ~ 1) #상관도 : 두개의 변수의 서로의 상관관계, 영향도를 보여주는 것 \n",
    "    return covar(list_1, list_2)/(stdev(list_1)*stdev(list_2))"
   ]
  },
  {
   "cell_type": "code",
   "execution_count": 46,
   "metadata": {},
   "outputs": [],
   "source": [
    "import numpy as np\n",
    "import math\n",
    "import matplotlib.pyplot as plt\n",
    "\n",
    "def my_split(s):\n",
    "    block_start = False\n",
    "    start_index = 0\n",
    "    ret_list=[]\n",
    "    for i, c in enumerate(s):\n",
    "        if block_start==False:\n",
    "            if c==',':\n",
    "                ret_list.append(s[start_index:i])\n",
    "                start_index=i+1\n",
    "            elif c=='\"':\n",
    "                block_start=True\n",
    "                start_index = i\n",
    "        else:\n",
    "            if c=='\"':\n",
    "                block_start=False\n",
    "    if s[-1]!=',':\n",
    "        ret_list.append(s[start_index:])\n",
    "    return ret_list\n",
    "    \n",
    "def split_len(data_list):\n",
    "    len_list = []\n",
    "    for e in data_list:\n",
    "        len_list.append(len(e))\n",
    "    print(set(len_list))\n",
    "    if len (set(len_list))>1:\n",
    "        for i in set(len_list):\n",
    "            print(i, len_list.count(i))\n",
    "    return set(len_list)\n",
    "\n",
    "def check_split(list_data):\n",
    "    t=set()\n",
    "    for e in list_data:\n",
    "        t.add(len(e))\n",
    "    return len(t)"
   ]
  },
  {
   "cell_type": "code",
   "execution_count": 5,
   "metadata": {},
   "outputs": [
    {
     "name": "stdout",
     "output_type": "stream",
     "text": [
      "(0, '시도명')\n",
      "(1, '시군구명')\n",
      "(2, '도로명')\n",
      "(3, '소재지도로명주소')\n",
      "(4, '소재지지번주소')\n",
      "(5, '횡단보도관리번호')\n",
      "(6, '횡단보도종류')\n",
      "(7, '자전거횡단도겸용여부')\n",
      "(8, '고원식적용여부')\n",
      "(9, '위도')\n",
      "(10, '경도')\n",
      "(11, '차로수')\n",
      "(12, '횡단보도폭')\n",
      "(13, '횡단보도연장')\n",
      "(14, '보행자신호등유무')\n",
      "(15, '보행자작동신호기유무')\n",
      "(16, '음향신호기설치여부')\n",
      "(17, '녹색신호시간')\n",
      "(18, '적색신호시간')\n",
      "(19, '교통섬유무')\n",
      "(20, '보도턱낮춤여부')\n",
      "(21, '점자블록유무')\n",
      "(22, '집중조명시설유무')\n",
      "(23, '관리기관명')\n",
      "(24, '관리기관전화번호')\n",
      "(25, '데이터기준일자')\n",
      "(26, '제공기관코드')\n",
      "(27, '제공기관명')\n"
     ]
    }
   ],
   "source": [
    "csv_data = []\n",
    "with open ('전국횡단보도표준데이터.csv') as f:\n",
    "    for line in f:\n",
    "        csv_data.append(my_split(line[:-1]))\n",
    "\n",
    "\n",
    "for e in enumerate(csv_data[0]):\n",
    "    print(e)\n",
    "    \n",
    "np_data = np.array(csv_data)"
   ]
  },
  {
   "cell_type": "code",
   "execution_count": 6,
   "metadata": {},
   "outputs": [
    {
     "name": "stdout",
     "output_type": "stream",
     "text": [
      "[' ' 'N' 'Y']\n",
      "[15910 29476  4614]\n",
      "[31.82  58.952  9.228]\n"
     ]
    }
   ],
   "source": [
    "#자전거 횡단도 겸용여부에 대한 비율 \n",
    "btypes = np_data[1:, 7]\n",
    "btypes_name, bytpes_counts = np.unique(btypes, return_counts = True)\n",
    "print(btypes_name)\n",
    "print(bytpes_counts)\n",
    "print(bytpes_counts*100/ sum(bytpes_counts))"
   ]
  },
  {
   "cell_type": "code",
   "execution_count": 7,
   "metadata": {},
   "outputs": [
    {
     "name": "stdout",
     "output_type": "stream",
     "text": [
      "13.534760926958054\n"
     ]
    }
   ],
   "source": [
    "a = bytpes_counts[2]/ sum(bytpes_counts[1:])\n",
    "\n",
    "print(a*100)"
   ]
  },
  {
   "cell_type": "code",
   "execution_count": 14,
   "metadata": {},
   "outputs": [
    {
     "name": "stdout",
     "output_type": "stream",
     "text": [
      "['N' 'Y']\n",
      "[28960 21040]\n",
      "[57.92 42.08]\n"
     ]
    }
   ],
   "source": [
    "# 보행자 신호등 유무에 대한 비율 \n",
    "btypes = np_data[1:, 14]\n",
    "btypes = np.where(btypes == 'n','N', btypes)\n",
    "btypes = np.where(btypes == 'y', 'Y', btypes)\n",
    "btypes_name, bytpes_counts = np.unique(btypes, return_counts = True)\n",
    "print(btypes_name)\n",
    "print(bytpes_counts)\n",
    "print(bytpes_counts*100/ sum(bytpes_counts))"
   ]
  },
  {
   "cell_type": "code",
   "execution_count": 22,
   "metadata": {},
   "outputs": [
    {
     "name": "stdout",
     "output_type": "stream",
     "text": [
      "42.08\n"
     ]
    }
   ],
   "source": [
    "b = bytpes_counts[1]/ sum(bytpes_counts)\n",
    "print(b*100)"
   ]
  },
  {
   "cell_type": "code",
   "execution_count": 11,
   "metadata": {},
   "outputs": [
    {
     "name": "stdout",
     "output_type": "stream",
     "text": [
      "[' ' 'N' 'Y']\n",
      "[29689 16792  3519]\n",
      "[59.378 33.584  7.038]\n"
     ]
    }
   ],
   "source": [
    "#음향신호기에 유무에 대한 비율 \n",
    "btypes = np_data[1:, 16]\n",
    "btypes = np.where(btypes=='n','N', btypes)\n",
    "btypes_name, bytpes_counts = np.unique(btypes, return_counts = True)\n",
    "print(btypes_name)\n",
    "print(bytpes_counts)\n",
    "print(bytpes_counts*100/ sum(bytpes_counts))\n",
    "\n"
   ]
  },
  {
   "cell_type": "code",
   "execution_count": 12,
   "metadata": {},
   "outputs": [
    {
     "name": "stdout",
     "output_type": "stream",
     "text": [
      "17.32558712027965\n"
     ]
    }
   ],
   "source": [
    "c = bytpes_counts[2]/ sum(bytpes_counts[1:])\n",
    "print(c*100)"
   ]
  },
  {
   "cell_type": "code",
   "execution_count": 13,
   "metadata": {},
   "outputs": [
    {
     "name": "stdout",
     "output_type": "stream",
     "text": [
      "3519\n"
     ]
    }
   ],
   "source": [
    "print(bytpes_counts[2])"
   ]
  },
  {
   "cell_type": "code",
   "execution_count": 47,
   "metadata": {},
   "outputs": [],
   "source": [
    "#my- split을 사용하여 데이터 정제 \n",
    "\n",
    "def np_data_from_go_kr_csv(filename):\n",
    "    t = []\n",
    "    with open(filename, encoding='cp949') as f:\n",
    "        for line in f:\n",
    "            t.append(my_split(line[:-1]))\n",
    "        if check_split(t)!= 1:\n",
    "            return None\n",
    "        else:\n",
    "            return np.array(t)\n",
    "\n",
    "def print_index_title(data):\n",
    "    for e in enumerate(data[0]):\n",
    "        print(e)\n",
    "\n",
    "\n"
   ]
  },
  {
   "cell_type": "code",
   "execution_count": 48,
   "metadata": {},
   "outputs": [],
   "source": [
    "if __name__ == '__main__':\n",
    "    np_data = np_data_from_go_kr_csv('전국횡단보도표준데이터.csv')"
   ]
  },
  {
   "cell_type": "code",
   "execution_count": 65,
   "metadata": {},
   "outputs": [
    {
     "data": {
      "text/plain": [
       "0.12634133931481506"
      ]
     },
     "execution_count": 65,
     "metadata": {},
     "output_type": "execute_result"
    }
   ],
   "source": [
    "#1번 횡단보도 연장과 녹색신호시간의 상관도\n",
    "def target1(data):\n",
    "    sub_data = np_data[1:, [13, 17]]\n",
    "    \n",
    "    sub_data[sub_data =='0'] = ''\n",
    "    #sub_data = np.where(sub_data == '0', '', sub_data)\n",
    "    \n",
    "    filter1 = sub_data[:,1]!=''\n",
    "    sub_data_f = sub_data[filter1].astype(np.float64)\n",
    "    #print(np.unique(sub_data[:,0]))\n",
    "    #print(np.unique(sub_data[:,1]))\n",
    "    #print(sub_data_f[:10])\n",
    "    return np.corrcoef(sub_data_f[:,0], sub_data_f[:,1])[0,1]\n",
    "\n",
    "    _, axe = plt.subplot()\n",
    "    \n",
    " \n",
    "\n",
    "target1(np_data)\n"
   ]
  },
  {
   "cell_type": "code",
   "execution_count": 49,
   "metadata": {},
   "outputs": [
    {
     "data": {
      "text/plain": [
       "13.534760926958052"
      ]
     },
     "execution_count": 49,
     "metadata": {},
     "output_type": "execute_result"
    }
   ],
   "source": [
    "def target2(data):\n",
    "   sub_data = np_data[1:, 7]\n",
    "   val, cnt = np.unique(sub_data, return_counts =True)\n",
    "   #print(val, cnt)\n",
    "   return cnt[2]*100/np.sum(cnt[1:])\n",
    "\n",
    "target2(np_data)"
   ]
  },
  {
   "cell_type": "code",
   "execution_count": 59,
   "metadata": {},
   "outputs": [
    {
     "data": {
      "text/plain": [
       "[array([0., 0., 2., 0.]),\n",
       " array([   1.     ,  423.     , 6166.     ,    0.04955]),\n",
       " array([    2.     ,   859.     , 12472.     ,     0.04423]),\n",
       " array([   3.     ,  489.     , 2055.     ,    0.13602]),\n",
       " array([   4.     , 1002.     , 4662.     ,    0.11133]),\n",
       " array([   5.     ,  525.     , 1573.     ,    0.15972]),\n",
       " array([   6.     ,  593.     , 1460.     ,    0.19649]),\n",
       " array([  7.     , 371.     , 584.     ,   0.23231]),\n",
       " array([  8.     , 166.     , 334.     ,   0.20393]),\n",
       " array([  9.     , 125.     , 123.     ,   0.27473]),\n",
       " array([10.    , 39.    , 37.    ,  0.2191]),\n",
       " array([11.     , 12.     ,  6.     ,  0.22642]),\n",
       " array([12.     ,  7.     ,  2.     ,  0.30435]),\n",
       " array([13.     ,  3.     ,  0.     ,  0.16667]),\n",
       " array([15.,  0.,  0.,  0.])]"
      ]
     },
     "execution_count": 59,
     "metadata": {},
     "output_type": "execute_result"
    }
   ],
   "source": [
    "def target3(data):\n",
    "    sub_data = np_data[1:, [11, 7]]\n",
    "    #print(np.unique(sub_data[:, 0]))\n",
    "    #print(np.unique(sub_data[:, 1]))\n",
    "    t =[]\n",
    "    for e in np.unique(sub_data[:,0]):\n",
    "        filter1 = sub_data[:,0] ==e\n",
    "        sub_data_f = sub_data[filter1]\n",
    "        #print(sub_data_f)\n",
    "        sub_data_f_y = sub_data_f[sub_data_f[:,1]=='Y']\n",
    "        sub_data_f_n = sub_data_f[sub_data_f[:,1]== 'N']\n",
    "        #print(e, len(sub_data_f_y), len(sub_data_f_n))\n",
    "        #print(len(sub_data_f_y)/len(sub_data_f_n))\n",
    "        yes_count = len(sub_data_f_y)\n",
    "        no_count = len(sub_data_f_n)\n",
    "        yes_no_count = yes_count+no_count\n",
    "        if yes_no_count ==0:\n",
    "            yes_no_count =1\n",
    "        t.append((e, len(sub_data_f_y), len(sub_data_f_n), len(sub_data_f_y)/len(sub_data_f)))\n",
    "       \n",
    "    t = np.array(t).astype(np.float64)\n",
    "    t = sorted(t, key=lambda x:x[0])\n",
    "    return t\n",
    "\n",
    "target3(np_data)"
   ]
  }
 ],
 "metadata": {
  "kernelspec": {
   "display_name": "Python 3",
   "language": "python",
   "name": "python3"
  },
  "language_info": {
   "codemirror_mode": {
    "name": "ipython",
    "version": 3
   },
   "file_extension": ".py",
   "mimetype": "text/x-python",
   "name": "python",
   "nbconvert_exporter": "python",
   "pygments_lexer": "ipython3",
   "version": "3.10.9"
  },
  "orig_nbformat": 4,
  "vscode": {
   "interpreter": {
    "hash": "08804ff59ba42edf801cabf0150036e830ede650fb4c74b1d2ab081b0e1a309a"
   }
  }
 },
 "nbformat": 4,
 "nbformat_minor": 2
}
