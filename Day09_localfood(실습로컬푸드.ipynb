{
 "cells": [
  {
   "attachments": {},
   "cell_type": "markdown",
   "metadata": {},
   "source": [
    "###전국로컬푸드인증정보표준 데이터\n",
    "\n",
    "url: https://www.data.go.kr/data/15025455/standard.do\n",
    "\n",
    "- csv 파일 수동 다운로드하여 작업\n",
    "-  ndarray 사용가능 (문자열 데이터 타입)\n",
    "\n",
    "* 인기품목 top 10 (품목별 카운트)\n",
    "    * 다중 품목(+ 또는 , 로 연결)은 각각 분리\n",
    "    * 이외 단일품목으로 취급\n",
    "    * 나머지는 알아서 ex) 파(실파+대파) -> 파또는 [실파, 대파]\n",
    "\n",
    "* 주소 공란 : 옆칸에서 조회에서 메우기\n",
    "\n",
    "* dictionary 작성: {군단위 지역명:[품목명]}, 군단위 지역명 또는 기관명\n",
    "\n",
    "* dictionary 작성: {품목:[군단위 지역명]}\n",
    "\n",
    "* jupyter note 업로드: 이름_로컬푸드_ipynb\n",
    "\n"
   ]
  },
  {
   "cell_type": "code",
   "execution_count": null,
   "metadata": {},
   "outputs": [],
   "source": [
    "import numpy as np\n",
    "import math\n",
    "def mean(num_list):\n",
    "    return sum(num_list)/len(num_list)\n",
    "\n",
    "def mean_2(num_list):\n",
    "    sum_value = 0\n",
    "    for i in num_list:\n",
    "        sum_value = sum_value + i\n",
    "    return sum_value / len(num_list)\n",
    "\n",
    "\n",
    "def median(num_list):\n",
    "    num_list.sort()\n",
    "    if len(num_list)%2 ==1: \n",
    "\n",
    "        #몫만 가지고 계산할 경우 +1, -1을 굳이 안해줘도 됨 \n",
    "        i = (len(num_list))//2\n",
    "        return num_list[i]\n",
    "    else:\n",
    "        i = len(num_list)//2\n",
    "        return (num_list[i]+ num_list[i-1])/2\n",
    "\n",
    "\n",
    "def mean(number_list):\n",
    "    return sum(number_list)/len(number_list)\n",
    "\n",
    "def dev(num_list): #편차\n",
    "    m= mean(num_list)\n",
    "    return [x-m for x in num_list]\n",
    "\n",
    "def ver(num_list): # 분산 #제곱\n",
    "    n = len(num_list)\n",
    "    d = dev(num_list)\n",
    "    return sum([x*x for x in d])/(n-1)\n",
    "\n",
    "def stdev(num_list): #표준편차\n",
    "    return math.sqrt(ver(num_list))\n",
    "\n",
    "def covar(list_1, list_2): #공분산 #따로 dev를 2개 구해서 짝을 이뤄서 곱해서 나눔 \n",
    "    n = len(list_1)\n",
    "    list_1_dev = dev(list_1)\n",
    "    list_2_dev= dev(list_2)\n",
    "    return sum(x * y for x, y in zip (list_1_dev, list_2_dev))/ (n-1)\n",
    "\n",
    "def corel(list_1, list_2): # 상관도(-1 ~ 1) #상관도 : 두개의 변수의 서로의 상관관계, 영향도를 보여주는 것 \n",
    "    return covar(list_1, list_2)/(stdev(list_1)*stdev(list_2))"
   ]
  },
  {
   "cell_type": "code",
   "execution_count": null,
   "metadata": {},
   "outputs": [],
   "source": [
    "def my_split(s):\n",
    "    block_start = False\n",
    "    start_index = 0\n",
    "    ret_list=[]\n",
    "    for i, c in enumerate(s):\n",
    "        if block_start==False:\n",
    "            if c==',':\n",
    "                ret_list.append(s[start_index:i])\n",
    "                start_index=i+1\n",
    "            elif c=='\"':\n",
    "                block_start=True\n",
    "                start_index = i\n",
    "        else:\n",
    "            if c=='\"':\n",
    "                block_start=False\n",
    "    if s[-1]!=',':\n",
    "        ret_list.append(s[start_index:])\n",
    "    return ret_list\n",
    "    \n",
    "def split_len(data_list):\n",
    "    len_list = []\n",
    "    for e in data_list:\n",
    "        len_list.append(len(e))\n",
    "    print(set(len_list))\n",
    "    if len (set(len_list))>1:\n",
    "        for i in set(len_list):\n",
    "            print(i, len_list.count(i))\n"
   ]
  },
  {
   "cell_type": "code",
   "execution_count": 20,
   "metadata": {},
   "outputs": [
    {
     "name": "stdout",
     "output_type": "stream",
     "text": [
      "8\n"
     ]
    }
   ],
   "source": [
    "csv_data = []\n",
    "with open ('전국로컬푸드인증정보표준데이터.csv') as f:\n",
    "    for line in f:\n",
    "        csv_data.append(my_split(line))\n",
    "#print(csv_data[:10])\n",
    "print (3+5)\n",
    "#split_len(csv_data)\n"
   ]
  },
  {
   "cell_type": "code",
   "execution_count": null,
   "metadata": {},
   "outputs": [],
   "source": [
    "for pop in csv_data:\n",
    "    if len(pop)<2:\n",
    "        continue\n",
    "    pop[-1] = 0.0\n",
    "\n",
    "print(csv_data[4])\n",
    "print(csv_data[5])\n",
    "print(csv_data[6])"
   ]
  },
  {
   "cell_type": "code",
   "execution_count": null,
   "metadata": {},
   "outputs": [],
   "source": [
    "#csv_data [0]\n",
    "for h in csv_data[0]:\n",
    "    print(h)"
   ]
  },
  {
   "cell_type": "code",
   "execution_count": null,
   "metadata": {},
   "outputs": [],
   "source": [
    "ad_list = []\n",
    "for i in csv_data:\n",
    "    address = i[-1]\n",
    "    ad_list.append(address)\n",
    "print(ad_list[3])"
   ]
  },
  {
   "cell_type": "code",
   "execution_count": null,
   "metadata": {},
   "outputs": [],
   "source": [
    "ad_set = set(ad_list)\n",
    "local_list = []\n",
    "local_count = []\n",
    "\n",
    "for i in ad_set:\n",
    "    print(i, ad_list.count(i))\n",
    "    local_list.append(i)\n",
    "    local_count.append(ad_list.count(i))\n",
    "\n",
    "for index, s in enumerate(local_list):\n",
    "    local_list[index] = s.Istrip('\"')\n",
    "\n",
    "print(local_list)\n",
    "print(local_count)\n"
   ]
  },
  {
   "cell_type": "code",
   "execution_count": null,
   "metadata": {},
   "outputs": [],
   "source": [
    "#if csv_data [:5]:\n",
    "    "
   ]
  }
 ],
 "metadata": {
  "kernelspec": {
   "display_name": "Python 3",
   "language": "python",
   "name": "python3"
  },
  "language_info": {
   "codemirror_mode": {
    "name": "ipython",
    "version": 3
   },
   "file_extension": ".py",
   "mimetype": "text/x-python",
   "name": "python",
   "nbconvert_exporter": "python",
   "pygments_lexer": "ipython3",
   "version": "3.10.9"
  },
  "orig_nbformat": 4,
  "vscode": {
   "interpreter": {
    "hash": "08804ff59ba42edf801cabf0150036e830ede650fb4c74b1d2ab081b0e1a309a"
   }
  }
 },
 "nbformat": 4,
 "nbformat_minor": 2
}
