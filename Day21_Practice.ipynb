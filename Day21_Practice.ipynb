{
 "cells": [
  {
   "attachments": {},
   "cell_type": "markdown",
   "metadata": {},
   "source": [
    "### 1~3 각 개별 jupyter note 에서 전처리후 pickle 또는 csv 로 저장\n",
    "\n",
    " \n",
    "1. 전국일방통행도로표준데이터\n",
    "- 시도명, 지정사유, 지정연도, 도로폭, 도로차로수, 보차분리여부\n",
    "\n",
    "2. 전국어린이보호구역표준데이터 시도명 작업 필요\n",
    "- 시설종류, 관할 경찰서명, cctv설치여부, cctv설치대수, 제공기관명, 보호구역도로폭\n",
    "\n",
    "3. 전국노인 장애인보호구역표준데이터\n",
    "- 시도명, 제한속도, cctv설치여부, cctv설치대수, 보호구역도로폭\n",
    "\n",
    "4. 새로운 JUPYTER NOTE 에서 종합\n",
    " - 시도명, 어린이보호구역 cctv설치대수, 노인장애인보호구역 cctv 설치대수, 일방통행 보차분리 ycount\n"
   ]
  },
  {
   "cell_type": "code",
   "execution_count": 23,
   "metadata": {},
   "outputs": [],
   "source": [
    "# 1. 전국일방통행도로표준데이터\n",
    "\n",
    "import numpy as np\n",
    "import pandas as pd\n",
    "import matplotlib.pyplot as plt\n",
    "rd_data= []\n",
    "\n",
    "rd_rowdata= pd.read_csv('전국일방통행도로표준데이터.csv', encoding ='cp949')\n",
    "column_selection = ['시도명', '지정사유', '지정연도', '도로폭', '도로차로수', '보차분리여부']\n",
    "rd_data = rd_rowdata[column_selection]\n"
   ]
  },
  {
   "cell_type": "code",
   "execution_count": 24,
   "metadata": {},
   "outputs": [
    {
     "name": "stdout",
     "output_type": "stream",
     "text": [
      "Index(['시도명', '시군구명', '도로명', '지정사유', '지정연도', '도로폭', '도로연장', '도로차로수', '보차분리여부',\n",
      "       '시작점위도', '시작점경도', '종료점위도', '종료점경도', '도로안내표지일련번호', '관리기관명', '관리기관전화번호',\n",
      "       '데이터기준일자', '제공기관코드', '제공기관명'],\n",
      "      dtype='object')\n",
      "시도명 \t False\n",
      "지정사유 \t True\n",
      "지정연도 \t True\n",
      "도로폭 \t False\n",
      "도로차로수 \t True\n",
      "보차분리여부 \t False\n"
     ]
    }
   ],
   "source": [
    "print(rd_rowdata.columns)\n",
    "for e in rd_data:\n",
    "    print(e, '\\t', rd_data[e].hasnans)\n",
    "\n"
   ]
  },
  {
   "cell_type": "code",
   "execution_count": 25,
   "metadata": {},
   "outputs": [
    {
     "name": "stdout",
     "output_type": "stream",
     "text": [
      "['경기도' '경상북도' '제주특별자치도' '인천광역시' '강원도' '경상남도' '서울특별시' '충청남도' '전라남도' '전라북도'\n",
      " '광주광역시' '충청북도' '10']\n",
      "False\n",
      "['경기도' '경상북도' '제주특별자치도' '인천광역시' '강원도' '경상남도' '서울특별시' '충청남도' '전라남도' '전라북도'\n",
      " '광주광역시' '충청북도']\n",
      "False\n"
     ]
    }
   ],
   "source": [
    "#시도명\n",
    "print(rd_data['시도명'].unique())\n",
    "print(rd_data['시도명'].hasnans)\n",
    "#결측치 없음 \n",
    "       \n",
    "#오류치 : 10 ->'강원도'\n",
    "filter1 = rd_data['시도명'] =='10'\n",
    "rd_data.loc[filter1, '시도명'] = '강원도'\n",
    "\n",
    "#이상치 : 없음\n",
    "print(rd_data['시도명'].unique())\n",
    "print(rd_data['시도명'].hasnans)"
   ]
  },
  {
   "cell_type": "code",
   "execution_count": 26,
   "metadata": {},
   "outputs": [
    {
     "name": "stdout",
     "output_type": "stream",
     "text": [
      "[nan '통행원활' '교통불편 해소' '원활한 차량통행을 위하여 지정' '보행안전' '통행안전' '원활한교통통행'\n",
      " '차량소통 촉진 및 보행자 안전' '보행자안전확보' '주민건의' '교행불가' '교통소통' '원활한 교통흐름 및 보행 안전'\n",
      " '주차혼잡구간' '본도로 진입불가' '시장혼잡구간' '주택밀집지역' '고가도로' '교통사고 다발' '원통전통시장주차장 출입구'\n",
      " '교통안전' '교통흐름을 원활히 하기 위함' '부채도로' '주민편의' '순환차로' '교통혼잡 및 소통 원활 필요' '도로협소'\n",
      " '혼잡지역' '혼자지역' '혼잡구역' '혼잡비역' '차량교행']\n",
      "True\n",
      "True     1567\n",
      "False     592\n",
      "Name: 지정사유, dtype: int64\n",
      "['불분명' '원활' '불편' '안전' '주민건의' '교행불가' '교통소통' '혼잡' '본도로 진입불가' '주택밀집지역' '고가도로'\n",
      " '교통사고 다발' '원통전통시장주차장 출입구' '부채도로' '주민편의' '순환차로' '도로협소' '혼자지역' '차량교행']\n",
      "False\n"
     ]
    },
    {
     "name": "stderr",
     "output_type": "stream",
     "text": [
      "C:\\Users\\ITPS\\AppData\\Local\\Temp\\ipykernel_9116\\3974035504.py:22: SettingWithCopyWarning: \n",
      "A value is trying to be set on a copy of a slice from a DataFrame.\n",
      "Try using .loc[row_indexer,col_indexer] = value instead\n",
      "\n",
      "See the caveats in the documentation: https://pandas.pydata.org/pandas-docs/stable/user_guide/indexing.html#returning-a-view-versus-a-copy\n",
      "  rd_data.loc[:, '지정사유'] = rd_data.loc[:, '지정사유'].apply(e1)\n"
     ]
    }
   ],
   "source": [
    "# 지정사유\n",
    "print(rd_data['지정사유'].unique())\n",
    "print(rd_data['지정사유'].hasnans)\n",
    "\n",
    "#결측치  - nan을 없앰 \n",
    "na_filter = rd_data['지정사유'].isna()\n",
    "print(na_filter.value_counts())\n",
    "rd_data.loc[na_filter, '지정사유'] = '불분명' \n",
    "\n",
    "#오류치\n",
    "def e1(x):\n",
    "    if '원활' in x:\n",
    "        return '원활'\n",
    "    elif '불편'in x:\n",
    "        return '불편'\n",
    "    elif '안전' in x:\n",
    "        return '안전'\n",
    "    elif '혼잡'  in x:\n",
    "        return '혼잡'\n",
    "    else:\n",
    "        return x\n",
    "rd_data.loc[:, '지정사유'] = rd_data.loc[:, '지정사유'].apply(e1)\n",
    "\n",
    "#이상치: 없음\n",
    "print(rd_data['지정사유'].unique())\n",
    "print(rd_data['지정사유'].hasnans)\n",
    "\n"
   ]
  },
  {
   "cell_type": "code",
   "execution_count": 27,
   "metadata": {},
   "outputs": [
    {
     "name": "stdout",
     "output_type": "stream",
     "text": [
      "[  nan 2017. 2018. 2014. 2005. 2019. 2022. 2016. 2012. 1999. 2021. 2015.\n",
      " 2013. 2004. 2002. 2008. 2009. 2010. 2011. 1998. 2001. 2003. 2006. 2000.\n",
      " 1995. 2020. 2007. 1990. 1997. 1996.]\n",
      "True\n"
     ]
    }
   ],
   "source": [
    "#지정연도\n",
    "print(rd_data['지정연도'].unique())\n",
    "print(rd_data['지정연도'].hasnans)\n",
    "\n",
    "#결측치 np.NaN -> 0\n",
    "#na_filter = rd_data['지정연도'].isna()\n",
    "#print(na_filter.value_counts())\n",
    "#rd_data.loc[na_filter, '지정연도'] = 0\n",
    "\n",
    "#오류치, 이상치: 이상없음 "
   ]
  },
  {
   "cell_type": "code",
   "execution_count": 28,
   "metadata": {},
   "outputs": [
    {
     "name": "stdout",
     "output_type": "stream",
     "text": [
      "[ 5.   9.   4.   6.   7.5  8.   7.  12.  15.  16.   3.5  5.5  3.  10.\n",
      " 14.   4.5  6.5 15.5  2.5  7.1  9.8  9.7  6.3  3.7  8.5  8.2 14.6  2.\n",
      "  4.9  4.6  2.8  4.8  5.6  8.1  6.4  4.1  6.6  5.7  4.7  4.3  3.8  9.1\n",
      "  7.4  5.3  5.8  4.2 17.  13.5 24.  11.   9.5 22.  19.   3.2  4.4  5.1\n",
      "  5.9  3.9 32.   5.4  3.4 18.   7.3  3.3 13.   7.6  8.4  5.2  7.8  6.2\n",
      "  6.7  8.8  7.7  8.3  6.1  6.9  6.8]\n",
      "False\n"
     ]
    }
   ],
   "source": [
    "#도로폭\n",
    "print(rd_data['도로폭'].unique())\n",
    "print(rd_data['도로폭'].hasnans)\n",
    "\n",
    "\n",
    "\n"
   ]
  }
 ],
 "metadata": {
  "kernelspec": {
   "display_name": "Python 3",
   "language": "python",
   "name": "python3"
  },
  "language_info": {
   "codemirror_mode": {
    "name": "ipython",
    "version": 3
   },
   "file_extension": ".py",
   "mimetype": "text/x-python",
   "name": "python",
   "nbconvert_exporter": "python",
   "pygments_lexer": "ipython3",
   "version": "3.10.9"
  },
  "orig_nbformat": 4,
  "vscode": {
   "interpreter": {
    "hash": "08804ff59ba42edf801cabf0150036e830ede650fb4c74b1d2ab081b0e1a309a"
   }
  }
 },
 "nbformat": 4,
 "nbformat_minor": 2
}
