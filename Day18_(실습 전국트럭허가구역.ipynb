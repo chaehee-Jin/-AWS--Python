{
 "cells": [
  {
   "attachments": {},
   "cell_type": "markdown",
   "metadata": {},
   "source": [
    "### 전국 푸드프럭 허가구역 표준 데이터\n",
    "- 전국/ 지자체별 푸드프럭 허가구역 갯수\n",
    "- 전국/ 지자체별 푸드트럭 운영 대수 "
   ]
  },
  {
   "cell_type": "code",
   "execution_count": 16,
   "metadata": {},
   "outputs": [
    {
     "name": "stdout",
     "output_type": "stream",
     "text": [
      "     시도명  푸드트럭운영대수\n",
      "0  부산광역시       1.0\n",
      "1  부산광역시       1.0\n",
      "2  부산광역시       1.0\n",
      "3    경기도       NaN\n",
      "4    경기도       NaN\n"
     ]
    }
   ],
   "source": [
    "import numpy as np\n",
    "import pandas as pd\n",
    "import matplotlib.pyplot as plt\n",
    "pop_df= []\n",
    "\n",
    "pop_df = pd.read_csv('전국푸드트럭허가구역표준데이터.csv', encoding ='cp949')\n",
    "\n",
    "pop_df = pop_df[['시도명', '푸드트럭운영대수']] #drop할게 많을 때는 그냥 내가 필요한 데이터만 가지고 온다\n",
    "#print(pop_df[['시도명', '푸드트럭운영대수']]) \n",
    "print(pop_df.head())\n",
    "#for i in enumerate(pop_df.columns):\n",
    "#    print(i)\n"
   ]
  },
  {
   "cell_type": "code",
   "execution_count": 8,
   "metadata": {},
   "outputs": [
    {
     "name": "stdout",
     "output_type": "stream",
     "text": [
      "       시도명  푸드트럭운영대수\n",
      "0    부산광역시       1.0\n",
      "1    부산광역시       1.0\n",
      "2    부산광역시       1.0\n",
      "3      경기도       NaN\n",
      "4      경기도       NaN\n",
      "..     ...       ...\n",
      "337    경기도       1.0\n",
      "338    경기도       1.0\n",
      "339    경기도       1.0\n",
      "340    경기도       1.0\n",
      "341    경기도       1.0\n",
      "\n",
      "[342 rows x 2 columns]\n"
     ]
    }
   ],
   "source": [
    "print(pop_df)"
   ]
  },
  {
   "cell_type": "code",
   "execution_count": 17,
   "metadata": {},
   "outputs": [
    {
     "name": "stdout",
     "output_type": "stream",
     "text": [
      "       시도명  푸드트럭운영대수\n",
      "0    부산광역시       1.0\n",
      "1    부산광역시       1.0\n",
      "2    부산광역시       1.0\n",
      "3      경기도       0.0\n",
      "4      경기도       0.0\n",
      "..     ...       ...\n",
      "337    경기도       1.0\n",
      "338    경기도       1.0\n",
      "339    경기도       1.0\n",
      "340    경기도       1.0\n",
      "341    경기도       1.0\n",
      "\n",
      "[342 rows x 2 columns]\n"
     ]
    }
   ],
   "source": [
    "pop_df['푸드트럭운영대수']=(pop_df['푸드트럭운영대수'].replace(np.NaN,0.0))\n",
    "\n",
    "print(pop_df)\n",
    "\n"
   ]
  },
  {
   "cell_type": "code",
   "execution_count": null,
   "metadata": {},
   "outputs": [],
   "source": [
    "national_site_count = pop_df.shape[0]\n",
    "pop_df['시도명'].value_counts()"
   ]
  },
  {
   "cell_type": "code",
   "execution_count": 20,
   "metadata": {},
   "outputs": [
    {
     "data": {
      "text/plain": [
       "444.0"
      ]
     },
     "execution_count": 20,
     "metadata": {},
     "output_type": "execute_result"
    }
   ],
   "source": [
    "pop_df['푸드트럭운영대수'].sum()\n"
   ]
  },
  {
   "cell_type": "code",
   "execution_count": 21,
   "metadata": {},
   "outputs": [
    {
     "data": {
      "text/html": [
       "<div>\n",
       "<style scoped>\n",
       "    .dataframe tbody tr th:only-of-type {\n",
       "        vertical-align: middle;\n",
       "    }\n",
       "\n",
       "    .dataframe tbody tr th {\n",
       "        vertical-align: top;\n",
       "    }\n",
       "\n",
       "    .dataframe thead th {\n",
       "        text-align: right;\n",
       "    }\n",
       "</style>\n",
       "<table border=\"1\" class=\"dataframe\">\n",
       "  <thead>\n",
       "    <tr style=\"text-align: right;\">\n",
       "      <th></th>\n",
       "      <th>푸드트럭운영대수</th>\n",
       "    </tr>\n",
       "    <tr>\n",
       "      <th>시도명</th>\n",
       "      <th></th>\n",
       "    </tr>\n",
       "  </thead>\n",
       "  <tbody>\n",
       "    <tr>\n",
       "      <th>강원도</th>\n",
       "      <td>25.0</td>\n",
       "    </tr>\n",
       "    <tr>\n",
       "      <th>경기도</th>\n",
       "      <td>136.0</td>\n",
       "    </tr>\n",
       "    <tr>\n",
       "      <th>경상남도</th>\n",
       "      <td>57.0</td>\n",
       "    </tr>\n",
       "    <tr>\n",
       "      <th>경상북도</th>\n",
       "      <td>17.0</td>\n",
       "    </tr>\n",
       "    <tr>\n",
       "      <th>광주광역시</th>\n",
       "      <td>14.0</td>\n",
       "    </tr>\n",
       "    <tr>\n",
       "      <th>대구광역시</th>\n",
       "      <td>4.0</td>\n",
       "    </tr>\n",
       "    <tr>\n",
       "      <th>대전광역시</th>\n",
       "      <td>12.0</td>\n",
       "    </tr>\n",
       "    <tr>\n",
       "      <th>부산광역시</th>\n",
       "      <td>17.0</td>\n",
       "    </tr>\n",
       "    <tr>\n",
       "      <th>서울특별시</th>\n",
       "      <td>35.0</td>\n",
       "    </tr>\n",
       "    <tr>\n",
       "      <th>울산광역시</th>\n",
       "      <td>1.0</td>\n",
       "    </tr>\n",
       "    <tr>\n",
       "      <th>인천광역시</th>\n",
       "      <td>9.0</td>\n",
       "    </tr>\n",
       "    <tr>\n",
       "      <th>전라남도</th>\n",
       "      <td>29.0</td>\n",
       "    </tr>\n",
       "    <tr>\n",
       "      <th>전라북도</th>\n",
       "      <td>10.0</td>\n",
       "    </tr>\n",
       "    <tr>\n",
       "      <th>제주특별자치도</th>\n",
       "      <td>41.0</td>\n",
       "    </tr>\n",
       "    <tr>\n",
       "      <th>충청남도</th>\n",
       "      <td>30.0</td>\n",
       "    </tr>\n",
       "    <tr>\n",
       "      <th>충청북도</th>\n",
       "      <td>7.0</td>\n",
       "    </tr>\n",
       "  </tbody>\n",
       "</table>\n",
       "</div>"
      ],
      "text/plain": [
       "         푸드트럭운영대수\n",
       "시도명              \n",
       "강원도          25.0\n",
       "경기도         136.0\n",
       "경상남도         57.0\n",
       "경상북도         17.0\n",
       "광주광역시        14.0\n",
       "대구광역시         4.0\n",
       "대전광역시        12.0\n",
       "부산광역시        17.0\n",
       "서울특별시        35.0\n",
       "울산광역시         1.0\n",
       "인천광역시         9.0\n",
       "전라남도         29.0\n",
       "전라북도         10.0\n",
       "제주특별자치도      41.0\n",
       "충청남도         30.0\n",
       "충청북도          7.0"
      ]
     },
     "execution_count": 21,
     "metadata": {},
     "output_type": "execute_result"
    }
   ],
   "source": [
    "sub_data = pop_df[['시도명', '푸드트럭운영대수']]\n",
    "sub_data.groupby('시도명').sum()"
   ]
  }
 ],
 "metadata": {
  "kernelspec": {
   "display_name": "Python 3",
   "language": "python",
   "name": "python3"
  },
  "language_info": {
   "codemirror_mode": {
    "name": "ipython",
    "version": 3
   },
   "file_extension": ".py",
   "mimetype": "text/x-python",
   "name": "python",
   "nbconvert_exporter": "python",
   "pygments_lexer": "ipython3",
   "version": "3.10.9"
  },
  "orig_nbformat": 4,
  "vscode": {
   "interpreter": {
    "hash": "08804ff59ba42edf801cabf0150036e830ede650fb4c74b1d2ab081b0e1a309a"
   }
  }
 },
 "nbformat": 4,
 "nbformat_minor": 2
}
