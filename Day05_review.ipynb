{
 "cells": [
  {
   "cell_type": "code",
   "execution_count": 6,
   "id": "26e22b8b",
   "metadata": {},
   "outputs": [
    {
     "name": "stdout",
     "output_type": "stream",
     "text": [
      "10.5\n",
      "datatype:str\n"
     ]
    }
   ],
   "source": [
    "#캐스팅, 형변환\n",
    "\n",
    "# int(), float(), bool(), str()\n",
    "\n",
    "# 타입 체킹을 잘 안한다, 하더라도 엉뚱한것을 넣어도 사용가능하다\n",
    "try: \n",
    "    a= [20.5,'10.5']\n",
    "    for i in a:\n",
    "        int(i)\n",
    "except:\n",
    "    print(i)\n",
    "    \n",
    "#a= [20.5, '10.5']\n",
    "a= 'string'\n",
    "if isinstance(a, type([])):\n",
    "    print('datatype:list')\n",
    "elif isinstance(a, type('')):\n",
    "    print('datatype:str')\n",
    "    \n",
    "    \n",
    "    \n",
    "    \n",
    "#list, tuple, set, dictionary\n",
    "#set은 유니크한 값을 뽑아낼때\n",
    "#dictionary - 이 카운트가 어떤 카운트인지 볼때\n",
    "\n",
    "\n"
   ]
  },
  {
   "cell_type": "code",
   "execution_count": 9,
   "id": "26518c71",
   "metadata": {},
   "outputs": [
    {
     "name": "stdout",
     "output_type": "stream",
     "text": [
      "False\n"
     ]
    }
   ],
   "source": [
    "#조건문\n",
    "#if - else:\n",
    "#if - elif: - else:\n",
    "\n",
    "if[]:\n",
    "    print('True')\n",
    "else:\n",
    "    print('False') #0이거나 비어있는 문자열 /list\n",
    "    \n",
    "    \n",
    "    \n",
    "    \n"
   ]
  },
  {
   "cell_type": "code",
   "execution_count": 15,
   "id": "cf45f7d0",
   "metadata": {},
   "outputs": [
    {
     "name": "stdout",
     "output_type": "stream",
     "text": [
      "0 a\n",
      "1 b\n",
      "2 c\n",
      "3 d\n",
      "4 e\n",
      "['a']\n"
     ]
    }
   ],
   "source": [
    "#반복구문\n",
    "#for - range() /list; , 무엇이든 목록을 두고 쭉 긁고(훑고) 지나가는 것 enumerate(): 인덱스와 리스트안에 내용물을 투플로 던져줌 \n",
    "lista = list('abcde')\n",
    "for i, c in enumerate(lista ):\n",
    "    print(i,c)\n",
    "#while - 조건이 맞고 틀리고에 따라 반복\n",
    "while len(lista)>1:\n",
    "    lista.remove(lista[-1]) # remove를 사용해서 뒤에서부터 하나씩 없애가는 것 \n",
    "print(lista)\n",
    "\n",
    "\n",
    "\n",
    "\n"
   ]
  },
  {
   "cell_type": "code",
   "execution_count": 25,
   "id": "23704a26",
   "metadata": {},
   "outputs": [
    {
     "name": "stdout",
     "output_type": "stream",
     "text": [
      "const\n",
      "=========\n",
      "myclass2\n",
      "=========\n",
      "dest\n"
     ]
    }
   ],
   "source": [
    "#함수, 클래스\n",
    "\n",
    "def myfunction1(n): #매개변수가 없더라도 매개변수의 자리를 만들어줘야함 \n",
    "    print('myfunction1', n)\n",
    "    return n*5\n",
    "\n",
    "class myclass: #하나의 클래스에있는 메소드로 묶는 것 \n",
    "    def mymethod1(self): #정의 할때는 self가 항상 앞에붙음, 사용할 때는 상관없음  \n",
    "        print('mymethod1')\n",
    "\n",
    "class myclass2(myclass):\n",
    "    def __init__(self):\n",
    "        print('const')\n",
    "    def __del__(self):\n",
    "        print ('dest')\n",
    "        \n",
    "    def __str__(self):\n",
    "        return 'myclass2'\n",
    "    \n",
    "x= myclass2()\n",
    "print('=========') # __init__ const\n",
    "print(x)           # str\n",
    "print('=========') \n",
    "del x              # __del__ dest # __인 것은 직접적으로 호출하지 않음 "
   ]
  },
  {
   "cell_type": "code",
   "execution_count": 4,
   "id": "2fd48ce4",
   "metadata": {},
   "outputs": [],
   "source": [
    "# file read\n",
    "with open('lott.csv') as f:\n",
    "    for line in f:\n",
    "        pass\n",
    "            #print(line)\n",
    "#file write\n",
    "with open ('test.txt', 'w') as f: #'w': write mode :'w'rite/ 'r'ead, 'b'inary\n",
    "    for i in range(3, 10):        # 'wb': write binary\n",
    "        f.write('test string{}\\n'.format(i))"
   ]
  },
  {
   "cell_type": "code",
   "execution_count": 6,
   "id": "a317faf3",
   "metadata": {},
   "outputs": [
    {
     "name": "stdout",
     "output_type": "stream",
     "text": [
      "['a', 'b', 'c', 'd']\n"
     ]
    }
   ],
   "source": [
    "import pickle\n",
    "lista = list('abcd')\n",
    "\n",
    "#write\n",
    "with open('pickle_test.pickle', 'wb') as f:\n",
    "    pickle.dump(lista, f)\n",
    "\n",
    "#read \n",
    "with open('pickle_test.pickle', 'rb') as f:\n",
    "    listb = pickle.load(f)\n",
    "print(listb) "
   ]
  },
  {
   "cell_type": "code",
   "execution_count": 10,
   "id": "086991a5",
   "metadata": {},
   "outputs": [
    {
     "name": "stdout",
     "output_type": "stream",
     "text": [
      "{'x': 10, 'y': 20, 'z': 30}\n",
      "10\n",
      "10\n",
      "{'x': 10, 'y': 50, 'z': 30}\n",
      "{'x': 10, 'y': 50, 'z': 30, 'newkey': 1234}\n",
      "dict_keys(['x', 'y', 'z', 'newkey'])\n",
      "dict_values([10, 50, 30, 1234])\n",
      "dict_items([('x', 10), ('y', 50), ('z', 30), ('newkey', 1234)])\n",
      "x 10\n",
      "y 50\n",
      "z 30\n",
      "newkey 1234\n"
     ]
    }
   ],
   "source": [
    "#dictionary : key - value , 자바에서는 해쉬테이블과 비슷\n",
    "dict1 = {'a':1, 'b':2, 'c':3}\n",
    "key_list =list('xyz')\n",
    "value_list = [10, 20, 30]\n",
    "\n",
    "x=  zip(key_list, value_list) #[('x', 10), ('y', 20),('z', 30)]\n",
    "dict2= dict(x)\n",
    "print(dict2)\n",
    "\n",
    "print(dict2['x'])\n",
    "print(dict2.get('x'))\n",
    "\n",
    "dict2['y'] = 50\n",
    "print(dict2)\n",
    "dict2['newkey'] = 1234\n",
    "print(dict2)\n",
    "\n",
    "klist = dict2.keys()\n",
    "vlist = dict2.values()\n",
    "\n",
    "print(klist)\n",
    "print(vlist)\n",
    "print(dict2.items())\n",
    "\n",
    "#조회만 한다면 에러가 뜬다\n",
    "#새로운 키값을 생성해야한다\n",
    "\n",
    "for e in dict2:\n",
    "    print(e, dict2[e])\n"
   ]
  },
  {
   "cell_type": "code",
   "execution_count": null,
   "id": "6cbe71f3",
   "metadata": {},
   "outputs": [],
   "source": []
  }
 ],
 "metadata": {
  "kernelspec": {
   "display_name": "Python 3",
   "language": "python",
   "name": "python3"
  },
  "language_info": {
   "codemirror_mode": {
    "name": "ipython",
    "version": 3
   },
   "file_extension": ".py",
   "mimetype": "text/x-python",
   "name": "python",
   "nbconvert_exporter": "python",
   "pygments_lexer": "ipython3",
   "version": "3.10.9"
  },
  "vscode": {
   "interpreter": {
    "hash": "08804ff59ba42edf801cabf0150036e830ede650fb4c74b1d2ab081b0e1a309a"
   }
  }
 },
 "nbformat": 4,
 "nbformat_minor": 5
}
