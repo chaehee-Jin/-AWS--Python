{
 "cells": [
  {
   "cell_type": "code",
   "execution_count": 6,
   "id": "608c2933",
   "metadata": {},
   "outputs": [
    {
     "name": "stdout",
     "output_type": "stream",
     "text": [
      "[0, 1, 2, 3, 4, 5, 6, 7, 8, 9]\n",
      "[100, 101, 102, 103, 104, 105, 106, 107, 108, 109]\n",
      "True\n",
      "[0, 1, 2, 3, 4, 5, 6, 7, 8, 9, 100, 101, 102, 103, 104, 105, 106, 107, 108, 109]\n",
      "[0, 1, 2, 3, 4, 5, 6, 7, 8, 9, 0, 1, 2, 3, 4, 5, 6, 7, 8, 9]\n"
     ]
    }
   ],
   "source": [
    "list_a = [i for i in range(10)]\n",
    "list_b = [i for i in range(100, 110)]\n",
    "print(list_a)\n",
    "print(list_b)\n",
    "\n",
    "#in \n",
    "5 in list_a\n",
    "# 이 리스트안에 어떠한 내용이 들어있는지 확인 하고 싶을때 in 사용\n",
    "\n",
    "if 10 not in list_a:\n",
    "    print('True')\n",
    "else: \n",
    "        print('False')\n",
    "        \n",
    "#concat\n",
    "list_c = list_a + list_b\n",
    "print(list_c)\n",
    "\n",
    "# * // 리스트에 *을 적으면 리스트가 2번 출력됨 \n",
    "print(list_a * 2)\n",
    "#2* list_a\n",
    "\n",
    "        \n"
   ]
  },
  {
   "cell_type": "code",
   "execution_count": 29,
   "id": "0c0336d8",
   "metadata": {},
   "outputs": [
    {
     "name": "stdout",
     "output_type": "stream",
     "text": [
      "['a', 'b', 'c', 'd', 'e', 'f', 'g', 'h', 'i', 'c', 'j', 'k', 'l', 'm', 'n']\n",
      "d\n",
      "['d', 'f', 'h', 'c']\n",
      "15\n",
      "a\n",
      "n\n",
      "9\n",
      "count: 2\n"
     ]
    }
   ],
   "source": [
    "list_d = list('abcdefghicjklmn')\n",
    "print(list_d)\n",
    "print(list_d[3])\n",
    "print(list_d[3: 10 :2])\n",
    "print(len(list_d))\n",
    "print(min(list_d))\n",
    "print(max(list_d))\n",
    "c_index = (list_d.index('c',3, 10))\n",
    "#list_d[c_index] = 'x'\n",
    "print(c_index)\n",
    "print('count:', list_d.count('c'))\n",
    "\n",
    "# 몇번째 인덱스에 있는지 인덱스 조회\n",
    "#인덱스로 범위지정 "
   ]
  },
  {
   "cell_type": "code",
   "execution_count": 1,
   "id": "76d1fe58",
   "metadata": {},
   "outputs": [
    {
     "name": "stdout",
     "output_type": "stream",
     "text": [
      "{'n', 'x', 'P', 'b', ',', 'r', 'o', 'T', 's', 'R', 'c', 'a', 'h', 'f', 'p', 'g', 'm', 'e', 'd', 'i', 'u', 'W', 'y', 't', 'w', 'L', ' ', 'l', 'I', '.'}\n",
      "n : 20\n",
      "x : 2\n",
      "P : 4\n",
      "b : 7\n",
      ", : 1\n",
      "r : 14\n",
      "o : 15\n",
      "T : 1\n",
      "s : 18\n",
      "R : 1\n",
      "c : 10\n",
      "a : 19\n",
      "h : 14\n",
      "f : 4\n",
      "p : 2\n",
      "g : 4\n",
      "m : 6\n",
      "e : 29\n",
      "d : 11\n",
      "i : 18\n",
      "u : 6\n",
      "W : 1\n",
      "y : 8\n",
      "t : 25\n",
      "w : 1\n",
      "L : 1\n",
      "l : 9\n",
      "I : 1\n"
     ]
    }
   ],
   "source": [
    "s= 'While The Python Language Reference describes the exact syntax and semantics of the Python language, this library reference manual describes the standard library that is distributed with Python. It also describes some of the optional components that are commonly included in Python distributions.'\n",
    "#print(s)\n",
    "list_s = list(s)\n",
    "#print(list_s)\n",
    "set_s = set(list_s)\n",
    "print(set_s)\n",
    "exculde_list = ['.',' ']\n",
    "for i in set_s:\n",
    "    if i not in exculde_list:\n",
    "        print(i,':',list_s.count(i))\n",
    "        \n",
    "    \n",
    "\n",
    "\n",
    "\n"
   ]
  },
  {
   "cell_type": "code",
   "execution_count": 50,
   "id": "aa328d9d",
   "metadata": {},
   "outputs": [
    {
     "name": "stdout",
     "output_type": "stream",
     "text": [
      "[1, 2, 3]\n",
      "['a', 'b', 'c']\n",
      "{'a': 1, 'b': 2, 'c': 3}\n",
      "{'a': 1, 'b': 2, 'c': 3}\n",
      "dict_items([('a', 1), ('b', 2), ('c', 3)])\n",
      "{'a': 1, 'b': 2, 'c': 3}\n",
      "3\n",
      "3\n",
      "None\n",
      "{'a': 1, 'b': 2, 'c': 3, 'y': 15}\n"
     ]
    }
   ],
   "source": [
    "list_a = [1, 2, 3]\n",
    "list_b = list('abc')\n",
    "d1 = {'a':1, 'b':2, 'c': 3}\n",
    "print(list_a)\n",
    "print(list_b)\n",
    "print(d1)\n",
    "\n",
    "#zip은 지퍼와 같다 두개의 리스트가 있을때 중간에 지퍼를 잠구어서 같은 인덱스끼리 묶어서 딕션어리로 사용가능하다\n",
    "d2 = dict(zip(list_b, list_a))\n",
    "print(d2)\n",
    "print(d2.items())\n",
    "\n",
    "d3 = dict([('a', 1),('b', 2),('c', 3)])\n",
    "print(d3)\n",
    "\n",
    "#이렇게 하면 없는 값을 넣어도 에러 대신 none으로 떠서 도중에 꺼질 위험이 없음\n",
    "\n",
    "print(d3['c'])\n",
    "print(d3.get('c'))\n",
    "print(d3.get('x'))\n",
    "d3['y'] = 15\n",
    "print(d3)\n",
    "\n",
    "\n"
   ]
  },
  {
   "cell_type": "code",
   "execution_count": 56,
   "id": "50440a15",
   "metadata": {},
   "outputs": [
    {
     "name": "stdout",
     "output_type": "stream",
     "text": [
      "a 1\n",
      "b 2\n",
      "c 3\n",
      "y 20\n",
      "dict_keys(['a', 'b', 'c', 'y'])\n",
      "dict_values([1, 2, 3, 20])\n",
      "1\n",
      "2\n",
      "3\n",
      "20\n",
      "{'a': 1, 'b': 2, 'c': 3, 'y': 20}\n",
      "{'a': 1, 'b': 2, 'c': 3, 'y': 20}\n"
     ]
    }
   ],
   "source": [
    "for i in d3:\n",
    "    print(i, d3[i])\n",
    "    \n",
    "print(d3.keys())\n",
    "print(d3.values())\n",
    "for i in d3.values():\n",
    "    print(i)\n",
    "    \n",
    "print(d3) # 벨류값 변경\n",
    "d3['y'] = 20\n",
    "print(d3)"
   ]
  }
 ],
 "metadata": {
  "kernelspec": {
   "display_name": "Python 3 (ipykernel)",
   "language": "python",
   "name": "python3"
  },
  "language_info": {
   "codemirror_mode": {
    "name": "ipython",
    "version": 3
   },
   "file_extension": ".py",
   "mimetype": "text/x-python",
   "name": "python",
   "nbconvert_exporter": "python",
   "pygments_lexer": "ipython3",
   "version": "3.10.9"
  }
 },
 "nbformat": 4,
 "nbformat_minor": 5
}
