{
 "cells": [
  {
   "attachments": {},
   "cell_type": "markdown",
   "metadata": {},
   "source": [
    "### 데이터 산업의 기술등급별 데이터직무 인력 현황\n",
    "\n",
    "* 데이터 직무별 axe 생성\n",
    "- x축 : 시점\n",
    "- y축 : 업종(2개)\n",
    "\n",
    "- 하나의 figure에 총 8개 axe가 바둑판 형식으로 배치되는 형태 (4 col x 2 rows), figure 사이즈는 각자 알아서\n",
    "* title 표시"
   ]
  },
  {
   "cell_type": "code",
   "execution_count": 6,
   "metadata": {},
   "outputs": [
    {
     "name": "stdout",
     "output_type": "stream",
     "text": [
      "    데이터 아키텍트  2018  계   806   4330\n",
      "0   데이터 아키텍트  2019  계  1202   4355\n",
      "1   데이터 아키텍트  2020  계  1588   4915\n",
      "2   데이터 아키텍트  2021  계  2061   6044\n",
      "3    데이터 개발자  2018  계  4579  16302\n",
      "4    데이터 개발자  2019  계  4799  17092\n",
      "5    데이터 개발자  2020  계  5683  18173\n",
      "6    데이터 개발자  2021  계  7891  21858\n",
      "7   데이터 엔지니어  2018  계  1616   7528\n",
      "8   데이터 엔지니어  2019  계  1862   8035\n",
      "9   데이터 엔지니어  2020  계  2421   8780\n",
      "10  데이터 엔지니어  2021  계  3276   9866\n",
      "11   데이터 분석가  2018  계   892   2457\n",
      "(31, 5)\n"
     ]
    }
   ],
   "source": [
    "import numpy as np\n",
    "import pandas as pd\n",
    "import matplotlib.pyplot as plt\n",
    "import matplotlib\n",
    "\n",
    "pd_data = pd.read_csv('데이터산업의_기술등급별_데이터직무_인력_현황_20230303160522.csv', encoding = 'cp949', header=1)\n",
    "#pd_data.columns = ['시점', '데이터 처리 및 관리 솔루션 개발공급업', '데이터 구축 및 컨설팅 서비스업']\n",
    "print(pd_data.head(12))\n",
    "print(pd_data.shape)\n",
    "\n"
   ]
  },
  {
   "cell_type": "code",
   "execution_count": 8,
   "metadata": {},
   "outputs": [
    {
     "name": "stdout",
     "output_type": "stream",
     "text": [
      "    데이터 아키텍트  2018  계   806  4330\n",
      "19   데이터 과학자  2018  계   218   581\n",
      "20   데이터 과학자  2019  계   288   784\n",
      "21   데이터 과학자  2020  계   540  1149\n",
      "22   데이터 과학자  2021  계   762  1443\n",
      "23  데이터 컨설턴트  2018  계  1736  2904\n",
      "24  데이터 컨설턴트  2019  계  2076  3001\n",
      "25  데이터 컨설턴트  2020  계  2265  3672\n",
      "26  데이터 컨설턴트  2021  계  2556  4856\n",
      "27   데이터 기획자  2018  계   852  1478\n",
      "28   데이터 기획자  2019  계  1177  2274\n",
      "29   데이터 기획자  2020  계  2075  2845\n",
      "30   데이터 기획자  2021  계  2289  3101\n",
      "              2018          806         4330\n",
      "count    12.000000    12.000000    12.000000\n",
      "mean   2019.500000  1402.833333  2340.666667\n",
      "std       1.167748   854.433766  1285.561238\n",
      "min    2018.000000   218.000000   581.000000\n",
      "25%    2018.750000   706.500000  1369.500000\n",
      "50%    2019.500000  1456.500000  2559.500000\n",
      "75%    2020.250000  2123.250000  3026.000000\n",
      "max    2021.000000  2556.000000  4856.000000\n"
     ]
    }
   ],
   "source": [
    "sub_data = pd_data.tail(12)\n",
    "print(sub_data)\n",
    "print(sub_data.describe())"
   ]
  },
  {
   "cell_type": "code",
   "execution_count": 13,
   "metadata": {},
   "outputs": [
    {
     "data": {
      "text/plain": [
       "Text(0.5, 0.01, 'year')"
      ]
     },
     "execution_count": 13,
     "metadata": {},
     "output_type": "execute_result"
    },
    {
     "data": {
      "image/png": "[encoded data removed]",
      "text/plain": [
       "<Figure size 640x480 with 1 Axes>"
      ]
     },
     "metadata": {},
     "output_type": "display_data"
    }
   ],
   "source": [
    "\n",
    "filter1 = pd_data['데이터직무별()'] == '데이터 아키덱트'\n",
    "sub_data = pd_data[filter1]\n",
    "\n",
    "\n",
    "filter2 = pd_data['데이터직무별()'] == '데이터 개발자'\n",
    "sub_data = pd_data[filter2]\n",
    "\n",
    "_, axe = plt.subplots()\n",
    "axe.plot(sub_data['시점'], sub_data.lioc[:, 3])\n",
    "axe.plot(sub_data['시점'], sub_data.lioc[:, 4])\n",
    "\n",
    "_, axe = plt.subplots()\n",
    "axe.plot(sub_data['데이터 아키텍트'], sub_data)"
   ]
  },
  {
   "cell_type": "code",
   "execution_count": null,
   "metadata": {},
   "outputs": [],
   "source": []
  }
 ],
 "metadata": {
  "kernelspec": {
   "display_name": "Python 3",
   "language": "python",
   "name": "python3"
  },
  "language_info": {
   "codemirror_mode": {
    "name": "ipython",
    "version": 3
   },
   "file_extension": ".py",
   "mimetype": "text/x-python",
   "name": "python",
   "nbconvert_exporter": "python",
   "pygments_lexer": "ipython3",
   "version": "3.10.9"
  },
  "orig_nbformat": 4
 },
 "nbformat": 4,
 "nbformat_minor": 2
}
